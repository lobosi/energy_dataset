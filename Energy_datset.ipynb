{
 "cells": [
  {
   "cell_type": "markdown",
   "metadata": {
    "collapsed": true,
    "pycharm": {
     "name": "#%% md\n"
    }
   },
   "source": [
    "# Energy Consumption data analysis"
   ]
  },
  {
   "cell_type": "markdown",
   "source": [
    "All this data was pulled from the US Energy Information Administration (EIA). In this notebook i imported most of the datasets from the link below and linked joined them together into one dataset. The final dataset consists of the columns:\n",
    "\n",
    "['Country', 'Energy_type', 'Year', 'Energy_consumption', 'Energy_production', 'GDP', 'Population', 'energy intensity by GDP and population', 'C02_emissions']"
   ],
   "metadata": {
    "collapsed": false
   }
  },
  {
   "cell_type": "markdown",
   "source": [
    "https://www.eia.gov/international/data/world?pd=10&p=00000000000000000000000000000000000000000000000c000g&u=0&f=A&v=mapbubble&a=-&i=none&vo=value&t=C&g=00000000000000000000000000000000000000000000000001&l=249-ruvvvvvfvtvnvv1vrvvvvfvvvvvvfvvvou20evvvvvvvvvvnvvvs0008&s=315532800000&e=1388534400000"
   ],
   "metadata": {
    "collapsed": false
   }
  },
  {
   "cell_type": "code",
   "execution_count": 83,
   "outputs": [],
   "source": [
    "# Analysis Tools\n",
    "import numpy as np\n",
    "import pandas as pd\n",
    "from scipy import stats\n",
    "from scipy.stats import norm\n",
    "\n",
    "# Plotting Design Settings\n",
    "import matplotlib.pyplot as plt\n",
    "import seaborn as sns\n",
    "sns.set_style(\"darkgrid\", {\"axes.facecolor\": \"#E2E2E2\", 'grid.color': '#B0B0B0', 'patch.edgecolor': '#B0B0B0', 'font.sans-serif': 'Verdana'})\n",
    "sns.set_palette('twilight')\n",
    "\n",
    "# Feature Engineering\n",
    "from feature_engine.encoding import OneHotEncoder as fe_OneHotEncoder, OrdinalEncoder\n",
    "from feature_engine.outliers import Winsorizer\n",
    "from feature_engine.selection import DropConstantFeatures\n",
    "from collections import defaultdict\n",
    "from sklearn.model_selection import cross_val_score, cross_validate, train_test_split\n",
    "from sklearn.preprocessing import MinMaxScaler\n",
    "\n",
    "# Modeling\n",
    "from sklearn.tree import DecisionTreeClassifier\n",
    "from sklearn.ensemble import RandomForestClassifier\n",
    "from sklearn.ensemble import GradientBoostingClassifier\n",
    "from sklearn.neighbors import KNeighborsClassifier\n",
    "from sklearn.model_selection import GridSearchCV\n",
    "from sklearn.svm import SVC\n",
    "\n",
    "\n",
    "# Scoring\n",
    "from sklearn.metrics import accuracy_score\n",
    "from sklearn.metrics import roc_auc_score\n",
    "from sklearn.metrics import f1_score\n",
    "\n",
    "\n",
    "# Mute warnings\n",
    "import warnings\n",
    "warnings.filterwarnings('ignore')"
   ],
   "metadata": {
    "collapsed": false,
    "pycharm": {
     "name": "#%%\n"
    }
   }
  },
  {
   "cell_type": "markdown",
   "source": [
    "## Importing dataset and making it usable"
   ],
   "metadata": {
    "collapsed": false,
    "pycharm": {
     "name": "#%% md\n"
    }
   }
  },
  {
   "cell_type": "code",
   "execution_count": 84,
   "outputs": [],
   "source": [
    "# Creating column names for both datasets\n",
    "year_columns = ['API', 'Country', '1980', '1981', '1982', '1983', '1984', '1985', '1986', '1987', '1988', '1989', '1990', '1991',\n",
    "                '1992', '1993', '1994', '1995', '1996', '1997', '1998', '1999', '2000', '2001', '2002', '2003', '2004', '2005', '2006',\n",
    "                '2007', '2008', '2009', '2010', '2011', '2012', '2013', '2014', '2015', '2016', '2017', '2018', '2019']\n",
    "\n",
    "\n",
    "# Check periodicly if new dataset with 2020 data shows up!!!!!!\n",
    "\n",
    "# Total Energy Consumption dataset\n",
    "econ = pd.read_csv('C:/Users/benva/OneDrive/Documents/Code/Machine Learning/GlobalWarmingProject/Datasets/Total_energy_consumption.csv', names=year_columns)\n",
    "\n",
    "# Total Energy Production dataset\n",
    "eprod = pd.read_csv('C:/Users/benva/OneDrive/Documents/Code/Machine Learning/GlobalWarmingProject/Datasets/Total_energy_production.csv', names=year_columns)\n",
    "\n",
    "# GDP by year of each Country dataset\n",
    "gdp = pd.read_csv('C:/Users/benva/OneDrive/Documents/Code/Machine Learning/GlobalWarmingProject/Datasets/GDP_by_country.csv', names=year_columns)\n",
    "\n",
    "# Population by year of each Country Dataset\n",
    "pop = pd.read_csv('C:/Users/benva/OneDrive/Documents/Code/Machine Learning/GlobalWarmingProject/Datasets/Population_by_country.csv', names=year_columns)\n",
    "\n",
    "# Energy intensity by GDP and population\n",
    "ei_gdp_pop = pd.read_csv('C:/Users/benva/OneDrive/Documents/Code/Machine Learning/GlobalWarmingProject/Datasets/Energy_intensity_by_GDP_and_population.csv', names=year_columns)\n",
    "\n",
    "\n",
    "\n",
    "# this one goes from 1949 - 2019\n",
    "co2_year_columns = ['API', 'Country', '1949', '1950', '1951', '1952', '1953', '1954', '1955', '1956', '1957', '1958', '1959', '1961', '1962',\n",
    "                '1963', '1964', '1965', '1966', '1967', '1968', '1969', '1970', '1971', '1972', '1973', '1974', '1975', '1976', '1977', '1978', '1979',\n",
    "                '1980', '1981', '1982', '1983', '1984', '1985', '1986', '1987', '1988', '1989', '1990', '1991', '1992', '1993', '1994', '1995',\n",
    "                '1996', '1997', '1998', '1999', '2000', '2001', '2002', '2003', '2004', '2005', '2006', '2007', '2008', '2009', '2010', '2011',\n",
    "                '2012', '2013', '2014', '2015', '2016', '2017', '2018', '2019']\n",
    "\n",
    "# C02 Emissions\n",
    "co2_e = pd.read_csv('C:/Users/benva/OneDrive/Documents/Code/Machine Learning/GlobalWarmingProject/Datasets/Emissions_by_fuel.csv', names=co2_year_columns)"
   ],
   "metadata": {
    "collapsed": false,
    "pycharm": {
     "name": "#%%\n"
    }
   }
  },
  {
   "cell_type": "code",
   "execution_count": 85,
   "outputs": [
    {
     "data": {
      "text/plain": "(1626, 42)"
     },
     "execution_count": 85,
     "metadata": {},
     "output_type": "execute_result"
    }
   ],
   "source": [
    "econ.shape"
   ],
   "metadata": {
    "collapsed": false,
    "pycharm": {
     "name": "#%%\n"
    }
   }
  },
  {
   "cell_type": "code",
   "execution_count": 86,
   "outputs": [
    {
     "data": {
      "text/plain": "(1626, 42)"
     },
     "execution_count": 86,
     "metadata": {},
     "output_type": "execute_result"
    }
   ],
   "source": [
    "eprod.shape"
   ],
   "metadata": {
    "collapsed": false,
    "pycharm": {
     "name": "#%%\n"
    }
   }
  },
  {
   "cell_type": "code",
   "execution_count": 87,
   "outputs": [
    {
     "data": {
      "text/plain": "(234, 42)"
     },
     "execution_count": 87,
     "metadata": {},
     "output_type": "execute_result"
    }
   ],
   "source": [
    "gdp.shape"
   ],
   "metadata": {
    "collapsed": false,
    "pycharm": {
     "name": "#%%\n"
    }
   }
  },
  {
   "cell_type": "code",
   "execution_count": 88,
   "outputs": [
    {
     "data": {
      "text/plain": "(234, 42)"
     },
     "execution_count": 88,
     "metadata": {},
     "output_type": "execute_result"
    }
   ],
   "source": [
    "pop.shape"
   ],
   "metadata": {
    "collapsed": false,
    "pycharm": {
     "name": "#%%\n"
    }
   }
  },
  {
   "cell_type": "code",
   "execution_count": 89,
   "outputs": [
    {
     "data": {
      "text/plain": "(466, 42)"
     },
     "execution_count": 89,
     "metadata": {},
     "output_type": "execute_result"
    }
   ],
   "source": [
    "ei_gdp_pop.shape"
   ],
   "metadata": {
    "collapsed": false,
    "pycharm": {
     "name": "#%%\n"
    }
   }
  },
  {
   "cell_type": "code",
   "execution_count": 90,
   "outputs": [
    {
     "data": {
      "text/plain": "(930, 72)"
     },
     "execution_count": 90,
     "metadata": {},
     "output_type": "execute_result"
    }
   ],
   "source": [
    "co2_e.shape"
   ],
   "metadata": {
    "collapsed": false,
    "pycharm": {
     "name": "#%%\n"
    }
   }
  },
  {
   "cell_type": "code",
   "execution_count": 91,
   "outputs": [
    {
     "data": {
      "text/plain": "                                        API  \\\n0  Report generated on: 12-29-2021 21:17:24   \n1                                       API   \n2                                       NaN   \n3                     INTL.44-2-WORL-QBTU.A   \n4                      INTL.44-2-AFG-QBTU.A   \n\n                               Country                 1980  \\\n0                                  NaN                  NaN   \n1                                  NaN                 1980   \n2  total energy consumption (quad Btu)                  NaN   \n3                                World    292.8999360117116   \n4                          Afghanistan  0.02658321667756184   \n\n                   1981                  1982                 1983  \\\n0                   NaN                   NaN                  NaN   \n1                  1981                  1982                 1983   \n2                   NaN                   NaN                  NaN   \n3    289.40151331082484    289.69127227568276    293.7314691613172   \n4  0.029949457623843767  0.031897814673808554  0.03902180313163165   \n\n                  1984                 1985                  1986  \\\n0                  NaN                  NaN                   NaN   \n1                 1984                 1985                  1986   \n2                  NaN                  NaN                   NaN   \n3    307.2346122721334   315.42743540651674    322.18517006014446   \n4  0.03920224040186807  0.03827496129519434  0.039111198580053776   \n\n                  1987  ...                 2010                 2011  \\\n0                  NaN  ...                  NaN                  NaN   \n1                 1987  ...                 2010                 2011   \n2                  NaN  ...                  NaN                  NaN   \n3   332.74655318366644  ...    527.0687498431604    540.8952031029451   \n4  0.06306515769145625  ...  0.11853852864995157  0.16105080218714038   \n\n                 2012                 2013                2014  \\\n0                 NaN                  NaN                 NaN   \n1                2012                 2013                2014   \n2                 NaN                  NaN                 NaN   \n3   551.9303162477122                  NaN                 NaN   \n4  0.1476076485691699  0.12450427328434109  0.1143137511302674   \n\n                  2015                 2016                 2017  \\\n0                  NaN                  NaN                  NaN   \n1                 2015                 2016                 2017   \n2                  NaN                  NaN                  NaN   \n3                  NaN                  NaN                  NaN   \n4  0.12629013628746977  0.11757565429923286  0.12494125714475693   \n\n                  2018                 2019  \n0                  NaN                  NaN  \n1                 2018                 2019  \n2                  NaN                  NaN  \n3                  NaN                  NaN  \n4  0.14327311946093876  0.12274842133951257  \n\n[5 rows x 42 columns]",
      "text/html": "<div>\n<style scoped>\n    .dataframe tbody tr th:only-of-type {\n        vertical-align: middle;\n    }\n\n    .dataframe tbody tr th {\n        vertical-align: top;\n    }\n\n    .dataframe thead th {\n        text-align: right;\n    }\n</style>\n<table border=\"1\" class=\"dataframe\">\n  <thead>\n    <tr style=\"text-align: right;\">\n      <th></th>\n      <th>API</th>\n      <th>Country</th>\n      <th>1980</th>\n      <th>1981</th>\n      <th>1982</th>\n      <th>1983</th>\n      <th>1984</th>\n      <th>1985</th>\n      <th>1986</th>\n      <th>1987</th>\n      <th>...</th>\n      <th>2010</th>\n      <th>2011</th>\n      <th>2012</th>\n      <th>2013</th>\n      <th>2014</th>\n      <th>2015</th>\n      <th>2016</th>\n      <th>2017</th>\n      <th>2018</th>\n      <th>2019</th>\n    </tr>\n  </thead>\n  <tbody>\n    <tr>\n      <th>0</th>\n      <td>Report generated on: 12-29-2021 21:17:24</td>\n      <td>NaN</td>\n      <td>NaN</td>\n      <td>NaN</td>\n      <td>NaN</td>\n      <td>NaN</td>\n      <td>NaN</td>\n      <td>NaN</td>\n      <td>NaN</td>\n      <td>NaN</td>\n      <td>...</td>\n      <td>NaN</td>\n      <td>NaN</td>\n      <td>NaN</td>\n      <td>NaN</td>\n      <td>NaN</td>\n      <td>NaN</td>\n      <td>NaN</td>\n      <td>NaN</td>\n      <td>NaN</td>\n      <td>NaN</td>\n    </tr>\n    <tr>\n      <th>1</th>\n      <td>API</td>\n      <td>NaN</td>\n      <td>1980</td>\n      <td>1981</td>\n      <td>1982</td>\n      <td>1983</td>\n      <td>1984</td>\n      <td>1985</td>\n      <td>1986</td>\n      <td>1987</td>\n      <td>...</td>\n      <td>2010</td>\n      <td>2011</td>\n      <td>2012</td>\n      <td>2013</td>\n      <td>2014</td>\n      <td>2015</td>\n      <td>2016</td>\n      <td>2017</td>\n      <td>2018</td>\n      <td>2019</td>\n    </tr>\n    <tr>\n      <th>2</th>\n      <td>NaN</td>\n      <td>total energy consumption (quad Btu)</td>\n      <td>NaN</td>\n      <td>NaN</td>\n      <td>NaN</td>\n      <td>NaN</td>\n      <td>NaN</td>\n      <td>NaN</td>\n      <td>NaN</td>\n      <td>NaN</td>\n      <td>...</td>\n      <td>NaN</td>\n      <td>NaN</td>\n      <td>NaN</td>\n      <td>NaN</td>\n      <td>NaN</td>\n      <td>NaN</td>\n      <td>NaN</td>\n      <td>NaN</td>\n      <td>NaN</td>\n      <td>NaN</td>\n    </tr>\n    <tr>\n      <th>3</th>\n      <td>INTL.44-2-WORL-QBTU.A</td>\n      <td>World</td>\n      <td>292.8999360117116</td>\n      <td>289.40151331082484</td>\n      <td>289.69127227568276</td>\n      <td>293.7314691613172</td>\n      <td>307.2346122721334</td>\n      <td>315.42743540651674</td>\n      <td>322.18517006014446</td>\n      <td>332.74655318366644</td>\n      <td>...</td>\n      <td>527.0687498431604</td>\n      <td>540.8952031029451</td>\n      <td>551.9303162477122</td>\n      <td>NaN</td>\n      <td>NaN</td>\n      <td>NaN</td>\n      <td>NaN</td>\n      <td>NaN</td>\n      <td>NaN</td>\n      <td>NaN</td>\n    </tr>\n    <tr>\n      <th>4</th>\n      <td>INTL.44-2-AFG-QBTU.A</td>\n      <td>Afghanistan</td>\n      <td>0.02658321667756184</td>\n      <td>0.029949457623843767</td>\n      <td>0.031897814673808554</td>\n      <td>0.03902180313163165</td>\n      <td>0.03920224040186807</td>\n      <td>0.03827496129519434</td>\n      <td>0.039111198580053776</td>\n      <td>0.06306515769145625</td>\n      <td>...</td>\n      <td>0.11853852864995157</td>\n      <td>0.16105080218714038</td>\n      <td>0.1476076485691699</td>\n      <td>0.12450427328434109</td>\n      <td>0.1143137511302674</td>\n      <td>0.12629013628746977</td>\n      <td>0.11757565429923286</td>\n      <td>0.12494125714475693</td>\n      <td>0.14327311946093876</td>\n      <td>0.12274842133951257</td>\n    </tr>\n  </tbody>\n</table>\n<p>5 rows × 42 columns</p>\n</div>"
     },
     "execution_count": 91,
     "metadata": {},
     "output_type": "execute_result"
    }
   ],
   "source": [
    "econ.head()"
   ],
   "metadata": {
    "collapsed": false,
    "pycharm": {
     "name": "#%%\n"
    }
   }
  },
  {
   "cell_type": "code",
   "execution_count": 92,
   "outputs": [
    {
     "data": {
      "text/plain": "                                        API  \\\n0  Report generated on: 01-01-2022 16:23:33   \n1                                       API   \n2                                       NaN   \n3                     INTL.44-1-WORL-QBTU.A   \n4                      INTL.44-1-AFG-QBTU.A   \n\n                              Country                 1980  \\\n0                                 NaN                  NaN   \n1                                 NaN                 1980   \n2  total energy production (quad Btu)                  NaN   \n3                               World   296.33722758863627   \n4                         Afghanistan  0.07256115614667066   \n\n                  1981                 1982                 1983  \\\n0                  NaN                  NaN                  NaN   \n1                 1981                 1982                 1983   \n2                  NaN                  NaN                  NaN   \n3    291.2877731828766    290.1205665759991    293.0466469371524   \n4  0.09272365463746368  0.09506786743187949  0.09971281973566948   \n\n                  1984                 1985                 1986  \\\n0                  NaN                  NaN                  NaN   \n1                 1984                 1985                 1986   \n2                  NaN                  NaN                  NaN   \n3   308.92101366220777   316.46426154850144    326.7530652183027   \n4  0.09982734303917455  0.12096783009943252  0.12054976892110061   \n\n                1987  ...                 2010                 2011  \\\n0                NaN  ...                  NaN                  NaN   \n1               1987  ...                 2010                 2011   \n2                NaN  ...                  NaN                  NaN   \n3  334.3845057886132  ...    518.2107838608919    533.8925086831691   \n4  0.114835081155632  ...  0.02692579367150454  0.04104421211242948   \n\n                   2012                  2013                 2014  \\\n0                   NaN                   NaN                  NaN   \n1                  2012                  2013                 2014   \n2                   NaN                   NaN                  NaN   \n3     545.3963111029857     553.2388229380201     561.949952486594   \n4  0.037492262916033615  0.040816563280627896  0.04478950651933605   \n\n                  2015                 2016                 2017  \\\n0                  NaN                  NaN                  NaN   \n1                 2015                 2016                 2017   \n2                  NaN                  NaN                  NaN   \n3    567.4371747031059    563.3786478855133    577.8623821917073   \n4  0.04205799729038833  0.04950511782484147  0.05950054255404184   \n\n                  2018                 2019  \n0                  NaN                  NaN  \n1                 2018                 2019  \n2                  NaN                  NaN  \n3     600.076613912069    610.9984170870961  \n4  0.06317585556177092  0.05521030952760256  \n\n[5 rows x 42 columns]",
      "text/html": "<div>\n<style scoped>\n    .dataframe tbody tr th:only-of-type {\n        vertical-align: middle;\n    }\n\n    .dataframe tbody tr th {\n        vertical-align: top;\n    }\n\n    .dataframe thead th {\n        text-align: right;\n    }\n</style>\n<table border=\"1\" class=\"dataframe\">\n  <thead>\n    <tr style=\"text-align: right;\">\n      <th></th>\n      <th>API</th>\n      <th>Country</th>\n      <th>1980</th>\n      <th>1981</th>\n      <th>1982</th>\n      <th>1983</th>\n      <th>1984</th>\n      <th>1985</th>\n      <th>1986</th>\n      <th>1987</th>\n      <th>...</th>\n      <th>2010</th>\n      <th>2011</th>\n      <th>2012</th>\n      <th>2013</th>\n      <th>2014</th>\n      <th>2015</th>\n      <th>2016</th>\n      <th>2017</th>\n      <th>2018</th>\n      <th>2019</th>\n    </tr>\n  </thead>\n  <tbody>\n    <tr>\n      <th>0</th>\n      <td>Report generated on: 01-01-2022 16:23:33</td>\n      <td>NaN</td>\n      <td>NaN</td>\n      <td>NaN</td>\n      <td>NaN</td>\n      <td>NaN</td>\n      <td>NaN</td>\n      <td>NaN</td>\n      <td>NaN</td>\n      <td>NaN</td>\n      <td>...</td>\n      <td>NaN</td>\n      <td>NaN</td>\n      <td>NaN</td>\n      <td>NaN</td>\n      <td>NaN</td>\n      <td>NaN</td>\n      <td>NaN</td>\n      <td>NaN</td>\n      <td>NaN</td>\n      <td>NaN</td>\n    </tr>\n    <tr>\n      <th>1</th>\n      <td>API</td>\n      <td>NaN</td>\n      <td>1980</td>\n      <td>1981</td>\n      <td>1982</td>\n      <td>1983</td>\n      <td>1984</td>\n      <td>1985</td>\n      <td>1986</td>\n      <td>1987</td>\n      <td>...</td>\n      <td>2010</td>\n      <td>2011</td>\n      <td>2012</td>\n      <td>2013</td>\n      <td>2014</td>\n      <td>2015</td>\n      <td>2016</td>\n      <td>2017</td>\n      <td>2018</td>\n      <td>2019</td>\n    </tr>\n    <tr>\n      <th>2</th>\n      <td>NaN</td>\n      <td>total energy production (quad Btu)</td>\n      <td>NaN</td>\n      <td>NaN</td>\n      <td>NaN</td>\n      <td>NaN</td>\n      <td>NaN</td>\n      <td>NaN</td>\n      <td>NaN</td>\n      <td>NaN</td>\n      <td>...</td>\n      <td>NaN</td>\n      <td>NaN</td>\n      <td>NaN</td>\n      <td>NaN</td>\n      <td>NaN</td>\n      <td>NaN</td>\n      <td>NaN</td>\n      <td>NaN</td>\n      <td>NaN</td>\n      <td>NaN</td>\n    </tr>\n    <tr>\n      <th>3</th>\n      <td>INTL.44-1-WORL-QBTU.A</td>\n      <td>World</td>\n      <td>296.33722758863627</td>\n      <td>291.2877731828766</td>\n      <td>290.1205665759991</td>\n      <td>293.0466469371524</td>\n      <td>308.92101366220777</td>\n      <td>316.46426154850144</td>\n      <td>326.7530652183027</td>\n      <td>334.3845057886132</td>\n      <td>...</td>\n      <td>518.2107838608919</td>\n      <td>533.8925086831691</td>\n      <td>545.3963111029857</td>\n      <td>553.2388229380201</td>\n      <td>561.949952486594</td>\n      <td>567.4371747031059</td>\n      <td>563.3786478855133</td>\n      <td>577.8623821917073</td>\n      <td>600.076613912069</td>\n      <td>610.9984170870961</td>\n    </tr>\n    <tr>\n      <th>4</th>\n      <td>INTL.44-1-AFG-QBTU.A</td>\n      <td>Afghanistan</td>\n      <td>0.07256115614667066</td>\n      <td>0.09272365463746368</td>\n      <td>0.09506786743187949</td>\n      <td>0.09971281973566948</td>\n      <td>0.09982734303917455</td>\n      <td>0.12096783009943252</td>\n      <td>0.12054976892110061</td>\n      <td>0.114835081155632</td>\n      <td>...</td>\n      <td>0.02692579367150454</td>\n      <td>0.04104421211242948</td>\n      <td>0.037492262916033615</td>\n      <td>0.040816563280627896</td>\n      <td>0.04478950651933605</td>\n      <td>0.04205799729038833</td>\n      <td>0.04950511782484147</td>\n      <td>0.05950054255404184</td>\n      <td>0.06317585556177092</td>\n      <td>0.05521030952760256</td>\n    </tr>\n  </tbody>\n</table>\n<p>5 rows × 42 columns</p>\n</div>"
     },
     "execution_count": 92,
     "metadata": {},
     "output_type": "execute_result"
    }
   ],
   "source": [
    "eprod.head()"
   ],
   "metadata": {
    "collapsed": false,
    "pycharm": {
     "name": "#%%\n"
    }
   }
  },
  {
   "cell_type": "markdown",
   "source": [
    "Both the datasets above, econ and eprod are identical, other than the fact that econ is on energy consumption and eprod is on energy production"
   ],
   "metadata": {
    "collapsed": false,
    "pycharm": {
     "name": "#%% md\n"
    }
   }
  },
  {
   "cell_type": "code",
   "execution_count": 93,
   "outputs": [
    {
     "data": {
      "text/plain": "                                        API  \\\n0  Report generated on: 01-01-2022 16:51:20   \n1                                       API   \n2                                       NaN   \n3               INTL.4701-34-WORL-BDOLPPP.A   \n4                INTL.4701-34-AFG-BDOLPPP.A   \n\n                                             Country          1980  \\\n0                                                NaN           NaN   \n1                                                NaN          1980   \n2  GDP at purchasing power parities (Billion 2015...           NaN   \n3                                              World  27771.471791   \n4                                        Afghanistan           NaN   \n\n           1981          1982          1983          1984          1985  \\\n0           NaN           NaN           NaN           NaN           NaN   \n1          1981          1982          1983          1984          1985   \n2           NaN           NaN           NaN           NaN           NaN   \n3  28666.385038  28802.329207  29618.135692  31097.825221  32289.628281   \n4           NaN           NaN           NaN           NaN           NaN   \n\n           1986          1987  ...          2010        2011           2012  \\\n0           NaN           NaN  ...           NaN         NaN            NaN   \n1          1986          1987  ...          2010        2011           2012   \n2           NaN           NaN  ...           NaN         NaN            NaN   \n3  33425.965914  34793.408835  ...  94618.286635  98369.8792  101534.904378   \n4           NaN           NaN  ...       56.7712     60.6103        66.4914   \n\n            2013           2014           2015           2016           2017  \\\n0            NaN            NaN            NaN            NaN            NaN   \n1           2013           2014           2015           2016           2017   \n2            NaN            NaN            NaN            NaN            NaN   \n3  104859.866766  108405.189058  111936.011938  115568.027605  119855.194807   \n4        70.9136        73.0931         72.056        73.2453        75.1899   \n\n            2018           2019  \n0            NaN            NaN  \n1           2018           2019  \n2            NaN            NaN  \n3  124162.239335  127689.100659  \n4        76.3784        79.4546  \n\n[5 rows x 42 columns]",
      "text/html": "<div>\n<style scoped>\n    .dataframe tbody tr th:only-of-type {\n        vertical-align: middle;\n    }\n\n    .dataframe tbody tr th {\n        vertical-align: top;\n    }\n\n    .dataframe thead th {\n        text-align: right;\n    }\n</style>\n<table border=\"1\" class=\"dataframe\">\n  <thead>\n    <tr style=\"text-align: right;\">\n      <th></th>\n      <th>API</th>\n      <th>Country</th>\n      <th>1980</th>\n      <th>1981</th>\n      <th>1982</th>\n      <th>1983</th>\n      <th>1984</th>\n      <th>1985</th>\n      <th>1986</th>\n      <th>1987</th>\n      <th>...</th>\n      <th>2010</th>\n      <th>2011</th>\n      <th>2012</th>\n      <th>2013</th>\n      <th>2014</th>\n      <th>2015</th>\n      <th>2016</th>\n      <th>2017</th>\n      <th>2018</th>\n      <th>2019</th>\n    </tr>\n  </thead>\n  <tbody>\n    <tr>\n      <th>0</th>\n      <td>Report generated on: 01-01-2022 16:51:20</td>\n      <td>NaN</td>\n      <td>NaN</td>\n      <td>NaN</td>\n      <td>NaN</td>\n      <td>NaN</td>\n      <td>NaN</td>\n      <td>NaN</td>\n      <td>NaN</td>\n      <td>NaN</td>\n      <td>...</td>\n      <td>NaN</td>\n      <td>NaN</td>\n      <td>NaN</td>\n      <td>NaN</td>\n      <td>NaN</td>\n      <td>NaN</td>\n      <td>NaN</td>\n      <td>NaN</td>\n      <td>NaN</td>\n      <td>NaN</td>\n    </tr>\n    <tr>\n      <th>1</th>\n      <td>API</td>\n      <td>NaN</td>\n      <td>1980</td>\n      <td>1981</td>\n      <td>1982</td>\n      <td>1983</td>\n      <td>1984</td>\n      <td>1985</td>\n      <td>1986</td>\n      <td>1987</td>\n      <td>...</td>\n      <td>2010</td>\n      <td>2011</td>\n      <td>2012</td>\n      <td>2013</td>\n      <td>2014</td>\n      <td>2015</td>\n      <td>2016</td>\n      <td>2017</td>\n      <td>2018</td>\n      <td>2019</td>\n    </tr>\n    <tr>\n      <th>2</th>\n      <td>NaN</td>\n      <td>GDP at purchasing power parities (Billion 2015...</td>\n      <td>NaN</td>\n      <td>NaN</td>\n      <td>NaN</td>\n      <td>NaN</td>\n      <td>NaN</td>\n      <td>NaN</td>\n      <td>NaN</td>\n      <td>NaN</td>\n      <td>...</td>\n      <td>NaN</td>\n      <td>NaN</td>\n      <td>NaN</td>\n      <td>NaN</td>\n      <td>NaN</td>\n      <td>NaN</td>\n      <td>NaN</td>\n      <td>NaN</td>\n      <td>NaN</td>\n      <td>NaN</td>\n    </tr>\n    <tr>\n      <th>3</th>\n      <td>INTL.4701-34-WORL-BDOLPPP.A</td>\n      <td>World</td>\n      <td>27771.471791</td>\n      <td>28666.385038</td>\n      <td>28802.329207</td>\n      <td>29618.135692</td>\n      <td>31097.825221</td>\n      <td>32289.628281</td>\n      <td>33425.965914</td>\n      <td>34793.408835</td>\n      <td>...</td>\n      <td>94618.286635</td>\n      <td>98369.8792</td>\n      <td>101534.904378</td>\n      <td>104859.866766</td>\n      <td>108405.189058</td>\n      <td>111936.011938</td>\n      <td>115568.027605</td>\n      <td>119855.194807</td>\n      <td>124162.239335</td>\n      <td>127689.100659</td>\n    </tr>\n    <tr>\n      <th>4</th>\n      <td>INTL.4701-34-AFG-BDOLPPP.A</td>\n      <td>Afghanistan</td>\n      <td>NaN</td>\n      <td>NaN</td>\n      <td>NaN</td>\n      <td>NaN</td>\n      <td>NaN</td>\n      <td>NaN</td>\n      <td>NaN</td>\n      <td>NaN</td>\n      <td>...</td>\n      <td>56.7712</td>\n      <td>60.6103</td>\n      <td>66.4914</td>\n      <td>70.9136</td>\n      <td>73.0931</td>\n      <td>72.056</td>\n      <td>73.2453</td>\n      <td>75.1899</td>\n      <td>76.3784</td>\n      <td>79.4546</td>\n    </tr>\n  </tbody>\n</table>\n<p>5 rows × 42 columns</p>\n</div>"
     },
     "execution_count": 93,
     "metadata": {},
     "output_type": "execute_result"
    }
   ],
   "source": [
    "gdp.head()"
   ],
   "metadata": {
    "collapsed": false,
    "pycharm": {
     "name": "#%%\n"
    }
   }
  },
  {
   "cell_type": "code",
   "execution_count": 94,
   "outputs": [
    {
     "data": {
      "text/plain": "                                        API               Country  \\\n0  Report generated on: 01-01-2022 16:59:06                   NaN   \n1                                       API                   NaN   \n2                                       NaN  population (Mperson)   \n3                   INTL.4702-33-WORL-THP.A                 World   \n4                    INTL.4702-33-AFG-THP.A           Afghanistan   \n\n           1980          1981           1982           1983           1984  \\\n0           NaN           NaN            NaN            NaN            NaN   \n1          1980          1981           1982           1983           1984   \n2           NaN           NaN            NaN            NaN            NaN   \n3  4298126.5224  4377059.5593  4456829.97443  4537793.89383  4572800.78237   \n4       13356.5       13171.7        12882.5        12537.7        12204.3   \n\n          1985           1986          1987  ...         2010         2011  \\\n0          NaN            NaN           NaN  ...          NaN          NaN   \n1         1985           1986          1987  ...         2010         2011   \n2          NaN            NaN           NaN  ...          NaN          NaN   \n3  4657357.404  4745135.92538  4835605.8458  ...  6948810.014  7041712.689   \n4      11938.2        11736.2       11604.5  ...      29185.5      30117.4   \n\n            2012         2013         2014           2015           2016  \\\n0            NaN          NaN          NaN            NaN            NaN   \n1           2012         2013         2014           2015           2016   \n2            NaN          NaN          NaN            NaN            NaN   \n3  7126262.29402  7211822.209  7297269.981  7379227.32003  7464042.84623   \n4        31161.4      32269.6      33370.8        34413.6          35383   \n\n            2017           2018           2019  \n0            NaN            NaN            NaN  \n1           2017           2018           2019  \n2            NaN            NaN            NaN  \n3  7548343.78937  7632247.01155  7714631.04083  \n4        36296.1        37173.5        38050.9  \n\n[5 rows x 42 columns]",
      "text/html": "<div>\n<style scoped>\n    .dataframe tbody tr th:only-of-type {\n        vertical-align: middle;\n    }\n\n    .dataframe tbody tr th {\n        vertical-align: top;\n    }\n\n    .dataframe thead th {\n        text-align: right;\n    }\n</style>\n<table border=\"1\" class=\"dataframe\">\n  <thead>\n    <tr style=\"text-align: right;\">\n      <th></th>\n      <th>API</th>\n      <th>Country</th>\n      <th>1980</th>\n      <th>1981</th>\n      <th>1982</th>\n      <th>1983</th>\n      <th>1984</th>\n      <th>1985</th>\n      <th>1986</th>\n      <th>1987</th>\n      <th>...</th>\n      <th>2010</th>\n      <th>2011</th>\n      <th>2012</th>\n      <th>2013</th>\n      <th>2014</th>\n      <th>2015</th>\n      <th>2016</th>\n      <th>2017</th>\n      <th>2018</th>\n      <th>2019</th>\n    </tr>\n  </thead>\n  <tbody>\n    <tr>\n      <th>0</th>\n      <td>Report generated on: 01-01-2022 16:59:06</td>\n      <td>NaN</td>\n      <td>NaN</td>\n      <td>NaN</td>\n      <td>NaN</td>\n      <td>NaN</td>\n      <td>NaN</td>\n      <td>NaN</td>\n      <td>NaN</td>\n      <td>NaN</td>\n      <td>...</td>\n      <td>NaN</td>\n      <td>NaN</td>\n      <td>NaN</td>\n      <td>NaN</td>\n      <td>NaN</td>\n      <td>NaN</td>\n      <td>NaN</td>\n      <td>NaN</td>\n      <td>NaN</td>\n      <td>NaN</td>\n    </tr>\n    <tr>\n      <th>1</th>\n      <td>API</td>\n      <td>NaN</td>\n      <td>1980</td>\n      <td>1981</td>\n      <td>1982</td>\n      <td>1983</td>\n      <td>1984</td>\n      <td>1985</td>\n      <td>1986</td>\n      <td>1987</td>\n      <td>...</td>\n      <td>2010</td>\n      <td>2011</td>\n      <td>2012</td>\n      <td>2013</td>\n      <td>2014</td>\n      <td>2015</td>\n      <td>2016</td>\n      <td>2017</td>\n      <td>2018</td>\n      <td>2019</td>\n    </tr>\n    <tr>\n      <th>2</th>\n      <td>NaN</td>\n      <td>population (Mperson)</td>\n      <td>NaN</td>\n      <td>NaN</td>\n      <td>NaN</td>\n      <td>NaN</td>\n      <td>NaN</td>\n      <td>NaN</td>\n      <td>NaN</td>\n      <td>NaN</td>\n      <td>...</td>\n      <td>NaN</td>\n      <td>NaN</td>\n      <td>NaN</td>\n      <td>NaN</td>\n      <td>NaN</td>\n      <td>NaN</td>\n      <td>NaN</td>\n      <td>NaN</td>\n      <td>NaN</td>\n      <td>NaN</td>\n    </tr>\n    <tr>\n      <th>3</th>\n      <td>INTL.4702-33-WORL-THP.A</td>\n      <td>World</td>\n      <td>4298126.5224</td>\n      <td>4377059.5593</td>\n      <td>4456829.97443</td>\n      <td>4537793.89383</td>\n      <td>4572800.78237</td>\n      <td>4657357.404</td>\n      <td>4745135.92538</td>\n      <td>4835605.8458</td>\n      <td>...</td>\n      <td>6948810.014</td>\n      <td>7041712.689</td>\n      <td>7126262.29402</td>\n      <td>7211822.209</td>\n      <td>7297269.981</td>\n      <td>7379227.32003</td>\n      <td>7464042.84623</td>\n      <td>7548343.78937</td>\n      <td>7632247.01155</td>\n      <td>7714631.04083</td>\n    </tr>\n    <tr>\n      <th>4</th>\n      <td>INTL.4702-33-AFG-THP.A</td>\n      <td>Afghanistan</td>\n      <td>13356.5</td>\n      <td>13171.7</td>\n      <td>12882.5</td>\n      <td>12537.7</td>\n      <td>12204.3</td>\n      <td>11938.2</td>\n      <td>11736.2</td>\n      <td>11604.5</td>\n      <td>...</td>\n      <td>29185.5</td>\n      <td>30117.4</td>\n      <td>31161.4</td>\n      <td>32269.6</td>\n      <td>33370.8</td>\n      <td>34413.6</td>\n      <td>35383</td>\n      <td>36296.1</td>\n      <td>37173.5</td>\n      <td>38050.9</td>\n    </tr>\n  </tbody>\n</table>\n<p>5 rows × 42 columns</p>\n</div>"
     },
     "execution_count": 94,
     "metadata": {},
     "output_type": "execute_result"
    }
   ],
   "source": [
    "pop.head()"
   ],
   "metadata": {
    "collapsed": false,
    "pycharm": {
     "name": "#%%\n"
    }
   }
  },
  {
   "cell_type": "code",
   "execution_count": 95,
   "outputs": [
    {
     "data": {
      "text/plain": "                                        API  \\\n0  Report generated on: 01-02-2022 15:08:57   \n1                                       API   \n2                                       NaN   \n3                  INTL.47-33-WORL-MBTUPP.A   \n4                   INTL.47-33-AFG-MBTUPP.A   \n\n                                        Country                1980  \\\n0                                           NaN                 NaN   \n1                                           NaN                1980   \n2  energy consumption per capita (MMBtu/person)                 NaN   \n3                                         World    68.1459548678342   \n4                                   Afghanistan  1.9902831338720353   \n\n                 1981               1982               1983  \\\n0                 NaN                NaN                NaN   \n1                1981               1982               1983   \n2                 NaN                NaN                NaN   \n3   66.11779195371682  64.99939955926463  64.73001551716604   \n4  2.2737731366371663  2.476057805069556   3.11235738067043   \n\n                1984               1985               1986               1987  \\\n0                NaN                NaN                NaN                NaN   \n1               1984               1985               1986               1987   \n2                NaN                NaN                NaN                NaN   \n3  67.18740371473154  67.72669736181508  67.89798545851839  68.81176088259464   \n4  3.212166236643484  3.206091479049969  3.332526591235134  5.434543297122344   \n\n   ...               2010               2011               2012  \\\n0  ...                NaN                NaN                NaN   \n1  ...               2010               2011               2012   \n2  ...                NaN                NaN                NaN   \n3  ...  75.85021734387001  76.81301793921361  77.45018264495602   \n4  ...  4.061555520719247  5.347433782037638  4.736874741480483   \n\n                 2013                2014                2015  \\\n0                 NaN                 NaN                 NaN   \n1                2013                2014                2015   \n2                 NaN                 NaN                 NaN   \n3   77.17074501779302   76.90143146117923   76.24857246626453   \n4  3.8582527606273733  3.4255622019929817  3.6697740511736567   \n\n                2016                2017                2018  \\\n0                NaN                 NaN                 NaN   \n1               2016                2017                2018   \n2                NaN                 NaN                 NaN   \n3  76.04634169493572   76.74242174383677   77.59177446964536   \n4   3.32294192971859  3.4422777418168047  3.8541735230994862   \n\n                2019  \n0                NaN  \n1               2019  \n2                NaN  \n3  77.21384657054325  \n4  3.225900605229116  \n\n[5 rows x 42 columns]",
      "text/html": "<div>\n<style scoped>\n    .dataframe tbody tr th:only-of-type {\n        vertical-align: middle;\n    }\n\n    .dataframe tbody tr th {\n        vertical-align: top;\n    }\n\n    .dataframe thead th {\n        text-align: right;\n    }\n</style>\n<table border=\"1\" class=\"dataframe\">\n  <thead>\n    <tr style=\"text-align: right;\">\n      <th></th>\n      <th>API</th>\n      <th>Country</th>\n      <th>1980</th>\n      <th>1981</th>\n      <th>1982</th>\n      <th>1983</th>\n      <th>1984</th>\n      <th>1985</th>\n      <th>1986</th>\n      <th>1987</th>\n      <th>...</th>\n      <th>2010</th>\n      <th>2011</th>\n      <th>2012</th>\n      <th>2013</th>\n      <th>2014</th>\n      <th>2015</th>\n      <th>2016</th>\n      <th>2017</th>\n      <th>2018</th>\n      <th>2019</th>\n    </tr>\n  </thead>\n  <tbody>\n    <tr>\n      <th>0</th>\n      <td>Report generated on: 01-02-2022 15:08:57</td>\n      <td>NaN</td>\n      <td>NaN</td>\n      <td>NaN</td>\n      <td>NaN</td>\n      <td>NaN</td>\n      <td>NaN</td>\n      <td>NaN</td>\n      <td>NaN</td>\n      <td>NaN</td>\n      <td>...</td>\n      <td>NaN</td>\n      <td>NaN</td>\n      <td>NaN</td>\n      <td>NaN</td>\n      <td>NaN</td>\n      <td>NaN</td>\n      <td>NaN</td>\n      <td>NaN</td>\n      <td>NaN</td>\n      <td>NaN</td>\n    </tr>\n    <tr>\n      <th>1</th>\n      <td>API</td>\n      <td>NaN</td>\n      <td>1980</td>\n      <td>1981</td>\n      <td>1982</td>\n      <td>1983</td>\n      <td>1984</td>\n      <td>1985</td>\n      <td>1986</td>\n      <td>1987</td>\n      <td>...</td>\n      <td>2010</td>\n      <td>2011</td>\n      <td>2012</td>\n      <td>2013</td>\n      <td>2014</td>\n      <td>2015</td>\n      <td>2016</td>\n      <td>2017</td>\n      <td>2018</td>\n      <td>2019</td>\n    </tr>\n    <tr>\n      <th>2</th>\n      <td>NaN</td>\n      <td>energy consumption per capita (MMBtu/person)</td>\n      <td>NaN</td>\n      <td>NaN</td>\n      <td>NaN</td>\n      <td>NaN</td>\n      <td>NaN</td>\n      <td>NaN</td>\n      <td>NaN</td>\n      <td>NaN</td>\n      <td>...</td>\n      <td>NaN</td>\n      <td>NaN</td>\n      <td>NaN</td>\n      <td>NaN</td>\n      <td>NaN</td>\n      <td>NaN</td>\n      <td>NaN</td>\n      <td>NaN</td>\n      <td>NaN</td>\n      <td>NaN</td>\n    </tr>\n    <tr>\n      <th>3</th>\n      <td>INTL.47-33-WORL-MBTUPP.A</td>\n      <td>World</td>\n      <td>68.1459548678342</td>\n      <td>66.11779195371682</td>\n      <td>64.99939955926463</td>\n      <td>64.73001551716604</td>\n      <td>67.18740371473154</td>\n      <td>67.72669736181508</td>\n      <td>67.89798545851839</td>\n      <td>68.81176088259464</td>\n      <td>...</td>\n      <td>75.85021734387001</td>\n      <td>76.81301793921361</td>\n      <td>77.45018264495602</td>\n      <td>77.17074501779302</td>\n      <td>76.90143146117923</td>\n      <td>76.24857246626453</td>\n      <td>76.04634169493572</td>\n      <td>76.74242174383677</td>\n      <td>77.59177446964536</td>\n      <td>77.21384657054325</td>\n    </tr>\n    <tr>\n      <th>4</th>\n      <td>INTL.47-33-AFG-MBTUPP.A</td>\n      <td>Afghanistan</td>\n      <td>1.9902831338720353</td>\n      <td>2.2737731366371663</td>\n      <td>2.476057805069556</td>\n      <td>3.11235738067043</td>\n      <td>3.212166236643484</td>\n      <td>3.206091479049969</td>\n      <td>3.332526591235134</td>\n      <td>5.434543297122344</td>\n      <td>...</td>\n      <td>4.061555520719247</td>\n      <td>5.347433782037638</td>\n      <td>4.736874741480483</td>\n      <td>3.8582527606273733</td>\n      <td>3.4255622019929817</td>\n      <td>3.6697740511736567</td>\n      <td>3.32294192971859</td>\n      <td>3.4422777418168047</td>\n      <td>3.8541735230994862</td>\n      <td>3.225900605229116</td>\n    </tr>\n  </tbody>\n</table>\n<p>5 rows × 42 columns</p>\n</div>"
     },
     "execution_count": 95,
     "metadata": {},
     "output_type": "execute_result"
    }
   ],
   "source": [
    "ei_gdp_pop.head()"
   ],
   "metadata": {
    "collapsed": false,
    "pycharm": {
     "name": "#%%\n"
    }
   }
  },
  {
   "cell_type": "code",
   "execution_count": 96,
   "outputs": [
    {
     "data": {
      "text/plain": "                                        API                       Country  \\\n0  Report generated on: 01-02-2022 15:04:02                           NaN   \n1                                       API                           NaN   \n2                                       NaN  CO2 emissions (MMtonnes CO2)   \n3                  INTL.4008-8-WORL-MMTCD.A                         World   \n4                   INTL.4008-8-AFG-MMTCD.A                   Afghanistan   \n\n          1949         1950         1951         1952         1953  \\\n0          NaN          NaN          NaN          NaN          NaN   \n1  1949.000000  1950.000000  1951.000000  1952.000000  1953.000000   \n2          NaN          NaN          NaN          NaN          NaN   \n3  2206.690829  2382.046176  2526.687327  2473.373964  2536.892888   \n4          NaN          NaN          NaN          NaN          NaN   \n\n         1954         1955         1956  ...             2010  \\\n0         NaN          NaN          NaN  ...              NaN   \n1  1954.00000  1955.000000  1956.000000  ...             2009   \n2         NaN          NaN          NaN  ...              NaN   \n3  2422.25256  2684.786146  2777.042758  ...  31639.876165687   \n4         NaN          NaN          NaN  ...      6.230759779   \n\n              2011             2012             2013             2014  \\\n0              NaN              NaN              NaN              NaN   \n1             2010             2011             2012             2013   \n2              NaN              NaN              NaN              NaN   \n3  33609.984153055  34720.267922662  35537.365120578  35944.451742368   \n4      7.794436305     11.097938929      9.753422695      7.910700222   \n\n              2015             2016             2017             2018  \\\n0              NaN              NaN              NaN              NaN   \n1             2014             2015             2016             2017   \n2              NaN              NaN              NaN              NaN   \n3  35976.723878385  35781.370769103  35117.963601548  35887.898987724   \n4      7.169380063      7.852509211      7.279395964      7.886124149   \n\n              2019  \n0              NaN  \n1             2018  \n2              NaN  \n3  36638.369585101  \n4      9.391163087  \n\n[5 rows x 72 columns]",
      "text/html": "<div>\n<style scoped>\n    .dataframe tbody tr th:only-of-type {\n        vertical-align: middle;\n    }\n\n    .dataframe tbody tr th {\n        vertical-align: top;\n    }\n\n    .dataframe thead th {\n        text-align: right;\n    }\n</style>\n<table border=\"1\" class=\"dataframe\">\n  <thead>\n    <tr style=\"text-align: right;\">\n      <th></th>\n      <th>API</th>\n      <th>Country</th>\n      <th>1949</th>\n      <th>1950</th>\n      <th>1951</th>\n      <th>1952</th>\n      <th>1953</th>\n      <th>1954</th>\n      <th>1955</th>\n      <th>1956</th>\n      <th>...</th>\n      <th>2010</th>\n      <th>2011</th>\n      <th>2012</th>\n      <th>2013</th>\n      <th>2014</th>\n      <th>2015</th>\n      <th>2016</th>\n      <th>2017</th>\n      <th>2018</th>\n      <th>2019</th>\n    </tr>\n  </thead>\n  <tbody>\n    <tr>\n      <th>0</th>\n      <td>Report generated on: 01-02-2022 15:04:02</td>\n      <td>NaN</td>\n      <td>NaN</td>\n      <td>NaN</td>\n      <td>NaN</td>\n      <td>NaN</td>\n      <td>NaN</td>\n      <td>NaN</td>\n      <td>NaN</td>\n      <td>NaN</td>\n      <td>...</td>\n      <td>NaN</td>\n      <td>NaN</td>\n      <td>NaN</td>\n      <td>NaN</td>\n      <td>NaN</td>\n      <td>NaN</td>\n      <td>NaN</td>\n      <td>NaN</td>\n      <td>NaN</td>\n      <td>NaN</td>\n    </tr>\n    <tr>\n      <th>1</th>\n      <td>API</td>\n      <td>NaN</td>\n      <td>1949.000000</td>\n      <td>1950.000000</td>\n      <td>1951.000000</td>\n      <td>1952.000000</td>\n      <td>1953.000000</td>\n      <td>1954.00000</td>\n      <td>1955.000000</td>\n      <td>1956.000000</td>\n      <td>...</td>\n      <td>2009</td>\n      <td>2010</td>\n      <td>2011</td>\n      <td>2012</td>\n      <td>2013</td>\n      <td>2014</td>\n      <td>2015</td>\n      <td>2016</td>\n      <td>2017</td>\n      <td>2018</td>\n    </tr>\n    <tr>\n      <th>2</th>\n      <td>NaN</td>\n      <td>CO2 emissions (MMtonnes CO2)</td>\n      <td>NaN</td>\n      <td>NaN</td>\n      <td>NaN</td>\n      <td>NaN</td>\n      <td>NaN</td>\n      <td>NaN</td>\n      <td>NaN</td>\n      <td>NaN</td>\n      <td>...</td>\n      <td>NaN</td>\n      <td>NaN</td>\n      <td>NaN</td>\n      <td>NaN</td>\n      <td>NaN</td>\n      <td>NaN</td>\n      <td>NaN</td>\n      <td>NaN</td>\n      <td>NaN</td>\n      <td>NaN</td>\n    </tr>\n    <tr>\n      <th>3</th>\n      <td>INTL.4008-8-WORL-MMTCD.A</td>\n      <td>World</td>\n      <td>2206.690829</td>\n      <td>2382.046176</td>\n      <td>2526.687327</td>\n      <td>2473.373964</td>\n      <td>2536.892888</td>\n      <td>2422.25256</td>\n      <td>2684.786146</td>\n      <td>2777.042758</td>\n      <td>...</td>\n      <td>31639.876165687</td>\n      <td>33609.984153055</td>\n      <td>34720.267922662</td>\n      <td>35537.365120578</td>\n      <td>35944.451742368</td>\n      <td>35976.723878385</td>\n      <td>35781.370769103</td>\n      <td>35117.963601548</td>\n      <td>35887.898987724</td>\n      <td>36638.369585101</td>\n    </tr>\n    <tr>\n      <th>4</th>\n      <td>INTL.4008-8-AFG-MMTCD.A</td>\n      <td>Afghanistan</td>\n      <td>NaN</td>\n      <td>NaN</td>\n      <td>NaN</td>\n      <td>NaN</td>\n      <td>NaN</td>\n      <td>NaN</td>\n      <td>NaN</td>\n      <td>NaN</td>\n      <td>...</td>\n      <td>6.230759779</td>\n      <td>7.794436305</td>\n      <td>11.097938929</td>\n      <td>9.753422695</td>\n      <td>7.910700222</td>\n      <td>7.169380063</td>\n      <td>7.852509211</td>\n      <td>7.279395964</td>\n      <td>7.886124149</td>\n      <td>9.391163087</td>\n    </tr>\n  </tbody>\n</table>\n<p>5 rows × 72 columns</p>\n</div>"
     },
     "execution_count": 96,
     "metadata": {},
     "output_type": "execute_result"
    }
   ],
   "source": [
    "co2_e.head()"
   ],
   "metadata": {
    "collapsed": false,
    "pycharm": {
     "name": "#%%\n"
    }
   }
  },
  {
   "cell_type": "markdown",
   "source": [
    "#### Removing unecesary cells in each dataset"
   ],
   "metadata": {
    "collapsed": false
   }
  },
  {
   "cell_type": "code",
   "execution_count": 97,
   "outputs": [],
   "source": [
    "# Dropping first 2 rows\n",
    "econ.drop([0, 1], axis=0, inplace=True)\n",
    "eprod.drop([0, 1], axis=0, inplace=True)\n",
    "ei_gdp_pop.drop([0, 1], axis=0, inplace=True)\n",
    "co2_e.drop([0, 1], axis=0, inplace=True)\n",
    "\n",
    "# Dropping first 3 rows for gdp and pop\n",
    "gdp.drop([0, 1, 2], axis=0, inplace=True)\n",
    "pop.drop([0, 1, 2], axis=0, inplace=True)\n",
    "\n",
    "# Dropping first column 'API'\n",
    "econ.drop('API', axis=1, inplace=True)\n",
    "eprod.drop('API', axis=1, inplace=True)\n",
    "gdp.drop('API', axis=1, inplace=True)\n",
    "pop.drop('API', axis=1, inplace=True)\n",
    "ei_gdp_pop.drop('API', axis=1, inplace=True)\n",
    "\n",
    "# Dropping first column 'API' as well as all columns up to 1980\n",
    "co2_e.drop(['API', '1949', '1950', '1951', '1952', '1953', '1954', '1955', '1956',\n",
    "            '1957', '1958', '1959', '1961', '1962', '1963', '1964', '1965', '1966',\n",
    "            '1967', '1968', '1969', '1970', '1971', '1972', '1973', '1974', '1975',\n",
    "            '1976', '1977', '1978', '1979'], axis=1, inplace=True)\n",
    "\n",
    "# Reseting the Index\n",
    "econ.reset_index(inplace=True, drop=True)\n",
    "eprod.reset_index(inplace=True, drop=True)\n",
    "gdp.reset_index(inplace=True, drop=True)\n",
    "pop.reset_index(inplace=True, drop=True)\n",
    "ei_gdp_pop.reset_index(inplace=True, drop=True)\n",
    "co2_e.reset_index(inplace=True, drop=True)"
   ],
   "metadata": {
    "collapsed": false,
    "pycharm": {
     "name": "#%%\n"
    }
   }
  },
  {
   "cell_type": "code",
   "execution_count": 98,
   "outputs": [
    {
     "data": {
      "text/plain": "                                  Country                  1980  \\\n0     total energy consumption (quad Btu)                   NaN   \n1                                   World     292.8999360117116   \n2                             Afghanistan   0.02658321667756184   \n3                                 Albania   0.16298182182124926   \n4                                 Algeria    0.7806951671133022   \n...                                   ...                   ...   \n1619                          Wake Island                     0   \n1620                       Western Sahara                     0   \n1621                                Yemen                     0   \n1622                               Zambia       0.0842504416429   \n1623                             Zimbabwe  0.048444954208071205   \n\n                      1981                  1982                 1983  \\\n0                      NaN                   NaN                  NaN   \n1       289.40151331082484    289.69127227568276    293.7314691613172   \n2     0.029949457623843767  0.031897814673808554  0.03902180313163165   \n3      0.16204449273682853   0.16284611700217974  0.16933585149179003   \n4       0.6633913232329025     0.952188115918025   1.0705618432163024   \n...                    ...                   ...                  ...   \n1619                     0                     0                    0   \n1620                     0                     0                    0   \n1621                     0                     0                    0   \n1622      0.09095160935112      0.09276673989719       0.093613620726   \n1623   0.05046783364946544    0.0469485018375528  0.04638594741959329   \n\n                      1984                 1985                  1986  \\\n0                      NaN                  NaN                   NaN   \n1        307.2346122721334   315.42743540651674    322.18517006014446   \n2      0.03920224040186807  0.03827496129519434  0.039111198580053776   \n3       0.1704057218202433  0.17005625500667076   0.16607537777033485   \n4       1.1307867129706235   1.0464182466677772    1.0663009617019872   \n...                    ...                  ...                   ...   \n1619                     0                    0                     0   \n1620                     0                    0                     0   \n1621                     0                    0                     0   \n1622           0.091707448          0.092414884            0.09076501   \n1623  0.044750279253740324  0.04092042533688736   0.04250369955649184   \n\n                     1987                  1988  ...                 2010  \\\n0                     NaN                   NaN  ...                  NaN   \n1      332.74655318366644    345.56128730345165  ...    527.0687498431604   \n2     0.06306515769145625   0.11122078650562646  ...  0.11853852864995157   \n3      0.1666405283961216    0.1685908728103857  ...  0.12304402332284661   \n4      1.1383186539191739    1.2131193653810644  ...   1.7777604019160995   \n...                   ...                   ...  ...                  ...   \n1619                    0                     0  ...                    0   \n1620                    0                     0  ...                    0   \n1621                    0                     0  ...          0.000019512   \n1622          0.081980147           0.080546524  ...       0.099506171504   \n1623  0.02945526213645744  0.031615065577815994  ...  0.05583163815663164   \n\n                      2011                 2012                 2013  \\\n0                      NaN                  NaN                  NaN   \n1        540.8952031029451    551.9303162477122                  NaN   \n2      0.16105080218714038   0.1476076485691699  0.12450427328434109   \n3      0.10743348644120246   0.1051279333181231  0.13193111766441915   \n4       1.9379902738228294   2.0982041249829453    2.037585597537122   \n...                    ...                  ...                  ...   \n1619                     0                    0                    0   \n1620                     0                    0                    0   \n1621           0.000019432          0.000028548          0.000038164   \n1622        0.111397717312            0.1142021       0.122629646264   \n1623  0.048768864395256115  0.05018734222135467  0.04801175729660101   \n\n                     2014                 2015                 2016  \\\n0                     NaN                  NaN                  NaN   \n1                     NaN                  NaN                  NaN   \n2      0.1143137511302674  0.12629013628746977  0.11757565429923286   \n3     0.11621639284070061  0.11629730243544255   0.1296073826057356   \n4       2.299898896758712    2.351782231770593   2.3361518937806958   \n...                   ...                  ...                  ...   \n1619                    0                    0                    0   \n1620                    0                    0                    0   \n1621           0.00008559           0.00102509          0.001357104   \n1622        0.12864310304       0.119627497176       0.106216508816   \n1623  0.04981787461471963  0.04467141061628047  0.03402892074162278   \n\n                     2017                  2018                 2019  \n0                     NaN                   NaN                  NaN  \n1                     NaN                   NaN                  NaN  \n2     0.12494125714475693   0.14327311946093876  0.12274842133951257  \n3     0.12535309157946248   0.14218447431148448  0.11074824093269141  \n4       2.361200900056517    2.5157731727516484   2.6435026580305645  \n...                   ...                   ...                  ...  \n1619                    0                     0                    0  \n1620                    0                     0                    0  \n1621          0.001685979           0.004169632             0.004452  \n1622       0.113591182889        0.120469815456        0.12081104372  \n1623  0.04369470723399742  0.049264439361874364  0.06865368688052285  \n\n[1624 rows x 41 columns]",
      "text/html": "<div>\n<style scoped>\n    .dataframe tbody tr th:only-of-type {\n        vertical-align: middle;\n    }\n\n    .dataframe tbody tr th {\n        vertical-align: top;\n    }\n\n    .dataframe thead th {\n        text-align: right;\n    }\n</style>\n<table border=\"1\" class=\"dataframe\">\n  <thead>\n    <tr style=\"text-align: right;\">\n      <th></th>\n      <th>Country</th>\n      <th>1980</th>\n      <th>1981</th>\n      <th>1982</th>\n      <th>1983</th>\n      <th>1984</th>\n      <th>1985</th>\n      <th>1986</th>\n      <th>1987</th>\n      <th>1988</th>\n      <th>...</th>\n      <th>2010</th>\n      <th>2011</th>\n      <th>2012</th>\n      <th>2013</th>\n      <th>2014</th>\n      <th>2015</th>\n      <th>2016</th>\n      <th>2017</th>\n      <th>2018</th>\n      <th>2019</th>\n    </tr>\n  </thead>\n  <tbody>\n    <tr>\n      <th>0</th>\n      <td>total energy consumption (quad Btu)</td>\n      <td>NaN</td>\n      <td>NaN</td>\n      <td>NaN</td>\n      <td>NaN</td>\n      <td>NaN</td>\n      <td>NaN</td>\n      <td>NaN</td>\n      <td>NaN</td>\n      <td>NaN</td>\n      <td>...</td>\n      <td>NaN</td>\n      <td>NaN</td>\n      <td>NaN</td>\n      <td>NaN</td>\n      <td>NaN</td>\n      <td>NaN</td>\n      <td>NaN</td>\n      <td>NaN</td>\n      <td>NaN</td>\n      <td>NaN</td>\n    </tr>\n    <tr>\n      <th>1</th>\n      <td>World</td>\n      <td>292.8999360117116</td>\n      <td>289.40151331082484</td>\n      <td>289.69127227568276</td>\n      <td>293.7314691613172</td>\n      <td>307.2346122721334</td>\n      <td>315.42743540651674</td>\n      <td>322.18517006014446</td>\n      <td>332.74655318366644</td>\n      <td>345.56128730345165</td>\n      <td>...</td>\n      <td>527.0687498431604</td>\n      <td>540.8952031029451</td>\n      <td>551.9303162477122</td>\n      <td>NaN</td>\n      <td>NaN</td>\n      <td>NaN</td>\n      <td>NaN</td>\n      <td>NaN</td>\n      <td>NaN</td>\n      <td>NaN</td>\n    </tr>\n    <tr>\n      <th>2</th>\n      <td>Afghanistan</td>\n      <td>0.02658321667756184</td>\n      <td>0.029949457623843767</td>\n      <td>0.031897814673808554</td>\n      <td>0.03902180313163165</td>\n      <td>0.03920224040186807</td>\n      <td>0.03827496129519434</td>\n      <td>0.039111198580053776</td>\n      <td>0.06306515769145625</td>\n      <td>0.11122078650562646</td>\n      <td>...</td>\n      <td>0.11853852864995157</td>\n      <td>0.16105080218714038</td>\n      <td>0.1476076485691699</td>\n      <td>0.12450427328434109</td>\n      <td>0.1143137511302674</td>\n      <td>0.12629013628746977</td>\n      <td>0.11757565429923286</td>\n      <td>0.12494125714475693</td>\n      <td>0.14327311946093876</td>\n      <td>0.12274842133951257</td>\n    </tr>\n    <tr>\n      <th>3</th>\n      <td>Albania</td>\n      <td>0.16298182182124926</td>\n      <td>0.16204449273682853</td>\n      <td>0.16284611700217974</td>\n      <td>0.16933585149179003</td>\n      <td>0.1704057218202433</td>\n      <td>0.17005625500667076</td>\n      <td>0.16607537777033485</td>\n      <td>0.1666405283961216</td>\n      <td>0.1685908728103857</td>\n      <td>...</td>\n      <td>0.12304402332284661</td>\n      <td>0.10743348644120246</td>\n      <td>0.1051279333181231</td>\n      <td>0.13193111766441915</td>\n      <td>0.11621639284070061</td>\n      <td>0.11629730243544255</td>\n      <td>0.1296073826057356</td>\n      <td>0.12535309157946248</td>\n      <td>0.14218447431148448</td>\n      <td>0.11074824093269141</td>\n    </tr>\n    <tr>\n      <th>4</th>\n      <td>Algeria</td>\n      <td>0.7806951671133022</td>\n      <td>0.6633913232329025</td>\n      <td>0.952188115918025</td>\n      <td>1.0705618432163024</td>\n      <td>1.1307867129706235</td>\n      <td>1.0464182466677772</td>\n      <td>1.0663009617019872</td>\n      <td>1.1383186539191739</td>\n      <td>1.2131193653810644</td>\n      <td>...</td>\n      <td>1.7777604019160995</td>\n      <td>1.9379902738228294</td>\n      <td>2.0982041249829453</td>\n      <td>2.037585597537122</td>\n      <td>2.299898896758712</td>\n      <td>2.351782231770593</td>\n      <td>2.3361518937806958</td>\n      <td>2.361200900056517</td>\n      <td>2.5157731727516484</td>\n      <td>2.6435026580305645</td>\n    </tr>\n    <tr>\n      <th>...</th>\n      <td>...</td>\n      <td>...</td>\n      <td>...</td>\n      <td>...</td>\n      <td>...</td>\n      <td>...</td>\n      <td>...</td>\n      <td>...</td>\n      <td>...</td>\n      <td>...</td>\n      <td>...</td>\n      <td>...</td>\n      <td>...</td>\n      <td>...</td>\n      <td>...</td>\n      <td>...</td>\n      <td>...</td>\n      <td>...</td>\n      <td>...</td>\n      <td>...</td>\n      <td>...</td>\n    </tr>\n    <tr>\n      <th>1619</th>\n      <td>Wake Island</td>\n      <td>0</td>\n      <td>0</td>\n      <td>0</td>\n      <td>0</td>\n      <td>0</td>\n      <td>0</td>\n      <td>0</td>\n      <td>0</td>\n      <td>0</td>\n      <td>...</td>\n      <td>0</td>\n      <td>0</td>\n      <td>0</td>\n      <td>0</td>\n      <td>0</td>\n      <td>0</td>\n      <td>0</td>\n      <td>0</td>\n      <td>0</td>\n      <td>0</td>\n    </tr>\n    <tr>\n      <th>1620</th>\n      <td>Western Sahara</td>\n      <td>0</td>\n      <td>0</td>\n      <td>0</td>\n      <td>0</td>\n      <td>0</td>\n      <td>0</td>\n      <td>0</td>\n      <td>0</td>\n      <td>0</td>\n      <td>...</td>\n      <td>0</td>\n      <td>0</td>\n      <td>0</td>\n      <td>0</td>\n      <td>0</td>\n      <td>0</td>\n      <td>0</td>\n      <td>0</td>\n      <td>0</td>\n      <td>0</td>\n    </tr>\n    <tr>\n      <th>1621</th>\n      <td>Yemen</td>\n      <td>0</td>\n      <td>0</td>\n      <td>0</td>\n      <td>0</td>\n      <td>0</td>\n      <td>0</td>\n      <td>0</td>\n      <td>0</td>\n      <td>0</td>\n      <td>...</td>\n      <td>0.000019512</td>\n      <td>0.000019432</td>\n      <td>0.000028548</td>\n      <td>0.000038164</td>\n      <td>0.00008559</td>\n      <td>0.00102509</td>\n      <td>0.001357104</td>\n      <td>0.001685979</td>\n      <td>0.004169632</td>\n      <td>0.004452</td>\n    </tr>\n    <tr>\n      <th>1622</th>\n      <td>Zambia</td>\n      <td>0.0842504416429</td>\n      <td>0.09095160935112</td>\n      <td>0.09276673989719</td>\n      <td>0.093613620726</td>\n      <td>0.091707448</td>\n      <td>0.092414884</td>\n      <td>0.09076501</td>\n      <td>0.081980147</td>\n      <td>0.080546524</td>\n      <td>...</td>\n      <td>0.099506171504</td>\n      <td>0.111397717312</td>\n      <td>0.1142021</td>\n      <td>0.122629646264</td>\n      <td>0.12864310304</td>\n      <td>0.119627497176</td>\n      <td>0.106216508816</td>\n      <td>0.113591182889</td>\n      <td>0.120469815456</td>\n      <td>0.12081104372</td>\n    </tr>\n    <tr>\n      <th>1623</th>\n      <td>Zimbabwe</td>\n      <td>0.048444954208071205</td>\n      <td>0.05046783364946544</td>\n      <td>0.0469485018375528</td>\n      <td>0.04638594741959329</td>\n      <td>0.044750279253740324</td>\n      <td>0.04092042533688736</td>\n      <td>0.04250369955649184</td>\n      <td>0.02945526213645744</td>\n      <td>0.031615065577815994</td>\n      <td>...</td>\n      <td>0.05583163815663164</td>\n      <td>0.048768864395256115</td>\n      <td>0.05018734222135467</td>\n      <td>0.04801175729660101</td>\n      <td>0.04981787461471963</td>\n      <td>0.04467141061628047</td>\n      <td>0.03402892074162278</td>\n      <td>0.04369470723399742</td>\n      <td>0.049264439361874364</td>\n      <td>0.06865368688052285</td>\n    </tr>\n  </tbody>\n</table>\n<p>1624 rows × 41 columns</p>\n</div>"
     },
     "execution_count": 98,
     "metadata": {},
     "output_type": "execute_result"
    }
   ],
   "source": [
    "econ"
   ],
   "metadata": {
    "collapsed": false,
    "pycharm": {
     "name": "#%%\n"
    }
   }
  },
  {
   "cell_type": "code",
   "execution_count": 99,
   "outputs": [
    {
     "data": {
      "text/plain": "                                 Country                 1980  \\\n0     total energy production (quad Btu)                  NaN   \n1                                  World   296.33722758863627   \n2                            Afghanistan  0.07256115614667066   \n3                                Albania    0.155561620237156   \n4                                Algeria    2.803017355026457   \n...                                  ...                  ...   \n1619                         Wake Island                    0   \n1620                      Western Sahara                    0   \n1621                               Yemen                    0   \n1622                              Zambia      0.0935959096429   \n1623                            Zimbabwe     0.04198125584814   \n\n                     1981                 1982                 1983  \\\n0                     NaN                  NaN                  NaN   \n1       291.2877731828766    290.1205665759991    293.0466469371524   \n2     0.09272365463746368  0.09506786743187949  0.09971281973566948   \n3     0.15869138293903517  0.20594415566567068  0.23469322168485068   \n4      3.0375368604701833    3.224933778884667   3.6064004828010217   \n...                   ...                  ...                  ...   \n1619                    0                    0                    0   \n1620                    0                    0                    0   \n1621                    0                    0                    0   \n1622     0.10114325335112     0.10363054789719       0.104463780726   \n1623     0.04334492366864     0.03808018551984       0.039651764249   \n\n                     1984                 1985                 1986  \\\n0                     NaN                  NaN                  NaN   \n1      308.92101366220777   316.46426154850144    326.7530652183027   \n2     0.09982734303917455  0.12096783009943252  0.12054976892110061   \n3     0.19102506227402413  0.19172993827692245  0.19659552252877113   \n4      3.8591760033483915    3.907465537569512   3.9683247789434253   \n...                   ...                  ...                  ...   \n1619                    0                    0                    0   \n1620                    0                    0                    0   \n1621                    0                    0                    0   \n1622           0.10213452          0.102923844           0.10127397   \n1623         0.0365081148          0.032800352          0.033392709   \n\n                     1987                 1988  ...                 2010  \\\n0                     NaN                  NaN  ...                  NaN   \n1       334.3845057886132   347.41286310379365  ...    518.2107838608919   \n2       0.114835081155632   0.1213943959239381  ...  0.02692579367150454   \n3     0.20238806446252838  0.18641741777005813  ...  0.09849116932673144   \n4        4.21808633368004    4.297753784176673  ...    6.927837879172395   \n...                   ...                  ...  ...                  ...   \n1619                    0                    0  ...                    0   \n1620                    0                    0  ...                    0   \n1621                    0                    0  ...          0.000019512   \n1622          0.087029907          0.085596284  ...       0.101433951504   \n1623          0.026619417         0.0282339508  ...           0.05692626   \n\n                     2011                  2012                  2013  \\\n0                     NaN                   NaN                   NaN   \n1       533.8925086831691     545.3963111029857     553.2388229380201   \n2     0.04104421211242948  0.037492262916033615  0.040816563280627896   \n3     0.07585689950134678    0.0840378737211778   0.10563648550534094   \n4       6.828492246382395     6.999409831111563    6.5104186447871735   \n...                   ...                   ...                   ...   \n1619                    0                     0                     0   \n1620                    0                     0                     0   \n1621          0.000019432           0.000028548           0.000038164   \n1622       0.111087225312           0.116989704        0.126075766264   \n1623         0.0513043664           0.052395096      0.04885229279925   \n\n                     2014                 2015                 2016  \\\n0                     NaN                  NaN                  NaN   \n1        561.949952486594    567.4371747031059    563.3786478855133   \n2     0.04478950651933605  0.04205799729038833  0.04950511782484147   \n3     0.09296194121961915  0.10225470403895913  0.12535621607056832   \n4       6.561760333289481    6.696192522564449    6.910709728136037   \n...                   ...                  ...                  ...   \n1619                    0                    0                    0   \n1620                    0                    0                    0   \n1621           0.00008559           0.00102509          0.001357104   \n1622        0.13288421904       0.120961589176       0.101470416816   \n1623     0.05343727633293     0.04824355770153    0.029787245478528   \n\n                     2017                 2018                 2019  \n0                     NaN                  NaN                  NaN  \n1       577.8623821917073     600.076613912069    610.9984170870961  \n2     0.05950054255404184  0.06317585556177092  0.05521030952760256  \n3     0.08229649004849868  0.11552948572255144  0.08908229857345225  \n4       6.763856727052585    6.688552187874529    6.429790182459667  \n...                   ...                  ...                  ...  \n1619                    0                    0                    0  \n1620                    0                    0                    0  \n1621          0.001685979          0.004169632             0.004452  \n1622       0.114648902889       0.124130891456        0.12346557972  \n1623          0.038756876          0.048416397          0.067499237  \n\n[1624 rows x 41 columns]",
      "text/html": "<div>\n<style scoped>\n    .dataframe tbody tr th:only-of-type {\n        vertical-align: middle;\n    }\n\n    .dataframe tbody tr th {\n        vertical-align: top;\n    }\n\n    .dataframe thead th {\n        text-align: right;\n    }\n</style>\n<table border=\"1\" class=\"dataframe\">\n  <thead>\n    <tr style=\"text-align: right;\">\n      <th></th>\n      <th>Country</th>\n      <th>1980</th>\n      <th>1981</th>\n      <th>1982</th>\n      <th>1983</th>\n      <th>1984</th>\n      <th>1985</th>\n      <th>1986</th>\n      <th>1987</th>\n      <th>1988</th>\n      <th>...</th>\n      <th>2010</th>\n      <th>2011</th>\n      <th>2012</th>\n      <th>2013</th>\n      <th>2014</th>\n      <th>2015</th>\n      <th>2016</th>\n      <th>2017</th>\n      <th>2018</th>\n      <th>2019</th>\n    </tr>\n  </thead>\n  <tbody>\n    <tr>\n      <th>0</th>\n      <td>total energy production (quad Btu)</td>\n      <td>NaN</td>\n      <td>NaN</td>\n      <td>NaN</td>\n      <td>NaN</td>\n      <td>NaN</td>\n      <td>NaN</td>\n      <td>NaN</td>\n      <td>NaN</td>\n      <td>NaN</td>\n      <td>...</td>\n      <td>NaN</td>\n      <td>NaN</td>\n      <td>NaN</td>\n      <td>NaN</td>\n      <td>NaN</td>\n      <td>NaN</td>\n      <td>NaN</td>\n      <td>NaN</td>\n      <td>NaN</td>\n      <td>NaN</td>\n    </tr>\n    <tr>\n      <th>1</th>\n      <td>World</td>\n      <td>296.33722758863627</td>\n      <td>291.2877731828766</td>\n      <td>290.1205665759991</td>\n      <td>293.0466469371524</td>\n      <td>308.92101366220777</td>\n      <td>316.46426154850144</td>\n      <td>326.7530652183027</td>\n      <td>334.3845057886132</td>\n      <td>347.41286310379365</td>\n      <td>...</td>\n      <td>518.2107838608919</td>\n      <td>533.8925086831691</td>\n      <td>545.3963111029857</td>\n      <td>553.2388229380201</td>\n      <td>561.949952486594</td>\n      <td>567.4371747031059</td>\n      <td>563.3786478855133</td>\n      <td>577.8623821917073</td>\n      <td>600.076613912069</td>\n      <td>610.9984170870961</td>\n    </tr>\n    <tr>\n      <th>2</th>\n      <td>Afghanistan</td>\n      <td>0.07256115614667066</td>\n      <td>0.09272365463746368</td>\n      <td>0.09506786743187949</td>\n      <td>0.09971281973566948</td>\n      <td>0.09982734303917455</td>\n      <td>0.12096783009943252</td>\n      <td>0.12054976892110061</td>\n      <td>0.114835081155632</td>\n      <td>0.1213943959239381</td>\n      <td>...</td>\n      <td>0.02692579367150454</td>\n      <td>0.04104421211242948</td>\n      <td>0.037492262916033615</td>\n      <td>0.040816563280627896</td>\n      <td>0.04478950651933605</td>\n      <td>0.04205799729038833</td>\n      <td>0.04950511782484147</td>\n      <td>0.05950054255404184</td>\n      <td>0.06317585556177092</td>\n      <td>0.05521030952760256</td>\n    </tr>\n    <tr>\n      <th>3</th>\n      <td>Albania</td>\n      <td>0.155561620237156</td>\n      <td>0.15869138293903517</td>\n      <td>0.20594415566567068</td>\n      <td>0.23469322168485068</td>\n      <td>0.19102506227402413</td>\n      <td>0.19172993827692245</td>\n      <td>0.19659552252877113</td>\n      <td>0.20238806446252838</td>\n      <td>0.18641741777005813</td>\n      <td>...</td>\n      <td>0.09849116932673144</td>\n      <td>0.07585689950134678</td>\n      <td>0.0840378737211778</td>\n      <td>0.10563648550534094</td>\n      <td>0.09296194121961915</td>\n      <td>0.10225470403895913</td>\n      <td>0.12535621607056832</td>\n      <td>0.08229649004849868</td>\n      <td>0.11552948572255144</td>\n      <td>0.08908229857345225</td>\n    </tr>\n    <tr>\n      <th>4</th>\n      <td>Algeria</td>\n      <td>2.803017355026457</td>\n      <td>3.0375368604701833</td>\n      <td>3.224933778884667</td>\n      <td>3.6064004828010217</td>\n      <td>3.8591760033483915</td>\n      <td>3.907465537569512</td>\n      <td>3.9683247789434253</td>\n      <td>4.21808633368004</td>\n      <td>4.297753784176673</td>\n      <td>...</td>\n      <td>6.927837879172395</td>\n      <td>6.828492246382395</td>\n      <td>6.999409831111563</td>\n      <td>6.5104186447871735</td>\n      <td>6.561760333289481</td>\n      <td>6.696192522564449</td>\n      <td>6.910709728136037</td>\n      <td>6.763856727052585</td>\n      <td>6.688552187874529</td>\n      <td>6.429790182459667</td>\n    </tr>\n    <tr>\n      <th>...</th>\n      <td>...</td>\n      <td>...</td>\n      <td>...</td>\n      <td>...</td>\n      <td>...</td>\n      <td>...</td>\n      <td>...</td>\n      <td>...</td>\n      <td>...</td>\n      <td>...</td>\n      <td>...</td>\n      <td>...</td>\n      <td>...</td>\n      <td>...</td>\n      <td>...</td>\n      <td>...</td>\n      <td>...</td>\n      <td>...</td>\n      <td>...</td>\n      <td>...</td>\n      <td>...</td>\n    </tr>\n    <tr>\n      <th>1619</th>\n      <td>Wake Island</td>\n      <td>0</td>\n      <td>0</td>\n      <td>0</td>\n      <td>0</td>\n      <td>0</td>\n      <td>0</td>\n      <td>0</td>\n      <td>0</td>\n      <td>0</td>\n      <td>...</td>\n      <td>0</td>\n      <td>0</td>\n      <td>0</td>\n      <td>0</td>\n      <td>0</td>\n      <td>0</td>\n      <td>0</td>\n      <td>0</td>\n      <td>0</td>\n      <td>0</td>\n    </tr>\n    <tr>\n      <th>1620</th>\n      <td>Western Sahara</td>\n      <td>0</td>\n      <td>0</td>\n      <td>0</td>\n      <td>0</td>\n      <td>0</td>\n      <td>0</td>\n      <td>0</td>\n      <td>0</td>\n      <td>0</td>\n      <td>...</td>\n      <td>0</td>\n      <td>0</td>\n      <td>0</td>\n      <td>0</td>\n      <td>0</td>\n      <td>0</td>\n      <td>0</td>\n      <td>0</td>\n      <td>0</td>\n      <td>0</td>\n    </tr>\n    <tr>\n      <th>1621</th>\n      <td>Yemen</td>\n      <td>0</td>\n      <td>0</td>\n      <td>0</td>\n      <td>0</td>\n      <td>0</td>\n      <td>0</td>\n      <td>0</td>\n      <td>0</td>\n      <td>0</td>\n      <td>...</td>\n      <td>0.000019512</td>\n      <td>0.000019432</td>\n      <td>0.000028548</td>\n      <td>0.000038164</td>\n      <td>0.00008559</td>\n      <td>0.00102509</td>\n      <td>0.001357104</td>\n      <td>0.001685979</td>\n      <td>0.004169632</td>\n      <td>0.004452</td>\n    </tr>\n    <tr>\n      <th>1622</th>\n      <td>Zambia</td>\n      <td>0.0935959096429</td>\n      <td>0.10114325335112</td>\n      <td>0.10363054789719</td>\n      <td>0.104463780726</td>\n      <td>0.10213452</td>\n      <td>0.102923844</td>\n      <td>0.10127397</td>\n      <td>0.087029907</td>\n      <td>0.085596284</td>\n      <td>...</td>\n      <td>0.101433951504</td>\n      <td>0.111087225312</td>\n      <td>0.116989704</td>\n      <td>0.126075766264</td>\n      <td>0.13288421904</td>\n      <td>0.120961589176</td>\n      <td>0.101470416816</td>\n      <td>0.114648902889</td>\n      <td>0.124130891456</td>\n      <td>0.12346557972</td>\n    </tr>\n    <tr>\n      <th>1623</th>\n      <td>Zimbabwe</td>\n      <td>0.04198125584814</td>\n      <td>0.04334492366864</td>\n      <td>0.03808018551984</td>\n      <td>0.039651764249</td>\n      <td>0.0365081148</td>\n      <td>0.032800352</td>\n      <td>0.033392709</td>\n      <td>0.026619417</td>\n      <td>0.0282339508</td>\n      <td>...</td>\n      <td>0.05692626</td>\n      <td>0.0513043664</td>\n      <td>0.052395096</td>\n      <td>0.04885229279925</td>\n      <td>0.05343727633293</td>\n      <td>0.04824355770153</td>\n      <td>0.029787245478528</td>\n      <td>0.038756876</td>\n      <td>0.048416397</td>\n      <td>0.067499237</td>\n    </tr>\n  </tbody>\n</table>\n<p>1624 rows × 41 columns</p>\n</div>"
     },
     "execution_count": 99,
     "metadata": {},
     "output_type": "execute_result"
    }
   ],
   "source": [
    "eprod"
   ],
   "metadata": {
    "collapsed": false,
    "pycharm": {
     "name": "#%%\n"
    }
   }
  },
  {
   "cell_type": "code",
   "execution_count": 100,
   "outputs": [
    {
     "data": {
      "text/plain": "                    Country          1980          1981          1982  \\\n0                     World  27771.471791  28666.385038  28802.329207   \n1               Afghanistan           NaN           NaN           NaN   \n2                   Albania           NaN           NaN           NaN   \n3                   Algeria           NaN           NaN           NaN   \n4            American Samoa           NaN           NaN           NaN   \n..                      ...           ...           ...           ...   \n226             Wake Island           NaN           NaN           NaN   \n227          Western Sahara           NaN           NaN           NaN   \n228                   Yemen           NaN           NaN           NaN   \n229                  Zambia           NaN           NaN           NaN   \n230                Zimbabwe           NaN           NaN           NaN   \n\n             1983          1984          1985          1986          1987  \\\n0    29618.135692  31097.825221  32289.628281  33425.965914  34793.408835   \n1             NaN           NaN           NaN           NaN           NaN   \n2             NaN           NaN           NaN           NaN           NaN   \n3             NaN           NaN           NaN           NaN           NaN   \n4             NaN           NaN           NaN           NaN           NaN   \n..            ...           ...           ...           ...           ...   \n226           NaN           NaN           NaN           NaN           NaN   \n227           NaN           NaN           NaN           NaN           NaN   \n228           NaN           NaN           NaN           NaN           NaN   \n229           NaN           NaN           NaN           NaN           NaN   \n230           NaN           NaN           NaN           NaN           NaN   \n\n             1988  ...          2010        2011           2012  \\\n0    42107.304103  ...  94618.286635  98369.8792  101534.904378   \n1         37.7013  ...       56.7712     60.6103        66.4914   \n2         15.6877  ...        30.743     31.5255        31.9724   \n3         219.921  ...       405.452      417.21        431.395   \n4             NaN  ...         0.576       0.574          0.644   \n..            ...  ...           ...         ...            ...   \n226           NaN  ...           NaN         NaN            NaN   \n227           NaN  ...           NaN         NaN            NaN   \n228           NaN  ...       122.668     104.159        106.437   \n229       71.2451  ...      169.5431    178.9776       192.5756   \n230       16.2287  ...       26.1448     29.8557        34.8313   \n\n              2013           2014           2015           2016  \\\n0    104859.866766  108405.189058  111936.011938  115568.027605   \n1          70.9136        73.0931         72.056        73.2453   \n2          32.2927        32.8658         33.595        34.7087   \n3          443.474        460.326        477.358        492.633   \n4            0.641          0.642          0.661          0.652   \n..             ...            ...            ...            ...   \n226            NaN            NaN            NaN            NaN   \n227            NaN            NaN            NaN            NaN   \n228        110.258        98.5626         68.543        58.5318   \n229       202.3145       211.7024       217.9309       226.1135   \n230        35.5243        36.3687         37.016        37.2958   \n\n              2017           2018           2019  \n0    119855.194807  124162.239335  127689.100659  \n1          75.1899        76.3784        79.4546  \n2          36.0284        37.4765        38.2684  \n3          499.038        505.026        509.066  \n4            0.602          0.636            NaN  \n..             ...            ...            ...  \n226            NaN            NaN            NaN  \n227            NaN            NaN            NaN  \n228        52.7009         51.992        53.0838  \n229       234.0865       243.5819       247.1819  \n230        39.0502        40.9362        37.6204  \n\n[231 rows x 41 columns]",
      "text/html": "<div>\n<style scoped>\n    .dataframe tbody tr th:only-of-type {\n        vertical-align: middle;\n    }\n\n    .dataframe tbody tr th {\n        vertical-align: top;\n    }\n\n    .dataframe thead th {\n        text-align: right;\n    }\n</style>\n<table border=\"1\" class=\"dataframe\">\n  <thead>\n    <tr style=\"text-align: right;\">\n      <th></th>\n      <th>Country</th>\n      <th>1980</th>\n      <th>1981</th>\n      <th>1982</th>\n      <th>1983</th>\n      <th>1984</th>\n      <th>1985</th>\n      <th>1986</th>\n      <th>1987</th>\n      <th>1988</th>\n      <th>...</th>\n      <th>2010</th>\n      <th>2011</th>\n      <th>2012</th>\n      <th>2013</th>\n      <th>2014</th>\n      <th>2015</th>\n      <th>2016</th>\n      <th>2017</th>\n      <th>2018</th>\n      <th>2019</th>\n    </tr>\n  </thead>\n  <tbody>\n    <tr>\n      <th>0</th>\n      <td>World</td>\n      <td>27771.471791</td>\n      <td>28666.385038</td>\n      <td>28802.329207</td>\n      <td>29618.135692</td>\n      <td>31097.825221</td>\n      <td>32289.628281</td>\n      <td>33425.965914</td>\n      <td>34793.408835</td>\n      <td>42107.304103</td>\n      <td>...</td>\n      <td>94618.286635</td>\n      <td>98369.8792</td>\n      <td>101534.904378</td>\n      <td>104859.866766</td>\n      <td>108405.189058</td>\n      <td>111936.011938</td>\n      <td>115568.027605</td>\n      <td>119855.194807</td>\n      <td>124162.239335</td>\n      <td>127689.100659</td>\n    </tr>\n    <tr>\n      <th>1</th>\n      <td>Afghanistan</td>\n      <td>NaN</td>\n      <td>NaN</td>\n      <td>NaN</td>\n      <td>NaN</td>\n      <td>NaN</td>\n      <td>NaN</td>\n      <td>NaN</td>\n      <td>NaN</td>\n      <td>37.7013</td>\n      <td>...</td>\n      <td>56.7712</td>\n      <td>60.6103</td>\n      <td>66.4914</td>\n      <td>70.9136</td>\n      <td>73.0931</td>\n      <td>72.056</td>\n      <td>73.2453</td>\n      <td>75.1899</td>\n      <td>76.3784</td>\n      <td>79.4546</td>\n    </tr>\n    <tr>\n      <th>2</th>\n      <td>Albania</td>\n      <td>NaN</td>\n      <td>NaN</td>\n      <td>NaN</td>\n      <td>NaN</td>\n      <td>NaN</td>\n      <td>NaN</td>\n      <td>NaN</td>\n      <td>NaN</td>\n      <td>15.6877</td>\n      <td>...</td>\n      <td>30.743</td>\n      <td>31.5255</td>\n      <td>31.9724</td>\n      <td>32.2927</td>\n      <td>32.8658</td>\n      <td>33.595</td>\n      <td>34.7087</td>\n      <td>36.0284</td>\n      <td>37.4765</td>\n      <td>38.2684</td>\n    </tr>\n    <tr>\n      <th>3</th>\n      <td>Algeria</td>\n      <td>NaN</td>\n      <td>NaN</td>\n      <td>NaN</td>\n      <td>NaN</td>\n      <td>NaN</td>\n      <td>NaN</td>\n      <td>NaN</td>\n      <td>NaN</td>\n      <td>219.921</td>\n      <td>...</td>\n      <td>405.452</td>\n      <td>417.21</td>\n      <td>431.395</td>\n      <td>443.474</td>\n      <td>460.326</td>\n      <td>477.358</td>\n      <td>492.633</td>\n      <td>499.038</td>\n      <td>505.026</td>\n      <td>509.066</td>\n    </tr>\n    <tr>\n      <th>4</th>\n      <td>American Samoa</td>\n      <td>NaN</td>\n      <td>NaN</td>\n      <td>NaN</td>\n      <td>NaN</td>\n      <td>NaN</td>\n      <td>NaN</td>\n      <td>NaN</td>\n      <td>NaN</td>\n      <td>NaN</td>\n      <td>...</td>\n      <td>0.576</td>\n      <td>0.574</td>\n      <td>0.644</td>\n      <td>0.641</td>\n      <td>0.642</td>\n      <td>0.661</td>\n      <td>0.652</td>\n      <td>0.602</td>\n      <td>0.636</td>\n      <td>NaN</td>\n    </tr>\n    <tr>\n      <th>...</th>\n      <td>...</td>\n      <td>...</td>\n      <td>...</td>\n      <td>...</td>\n      <td>...</td>\n      <td>...</td>\n      <td>...</td>\n      <td>...</td>\n      <td>...</td>\n      <td>...</td>\n      <td>...</td>\n      <td>...</td>\n      <td>...</td>\n      <td>...</td>\n      <td>...</td>\n      <td>...</td>\n      <td>...</td>\n      <td>...</td>\n      <td>...</td>\n      <td>...</td>\n      <td>...</td>\n    </tr>\n    <tr>\n      <th>226</th>\n      <td>Wake Island</td>\n      <td>NaN</td>\n      <td>NaN</td>\n      <td>NaN</td>\n      <td>NaN</td>\n      <td>NaN</td>\n      <td>NaN</td>\n      <td>NaN</td>\n      <td>NaN</td>\n      <td>NaN</td>\n      <td>...</td>\n      <td>NaN</td>\n      <td>NaN</td>\n      <td>NaN</td>\n      <td>NaN</td>\n      <td>NaN</td>\n      <td>NaN</td>\n      <td>NaN</td>\n      <td>NaN</td>\n      <td>NaN</td>\n      <td>NaN</td>\n    </tr>\n    <tr>\n      <th>227</th>\n      <td>Western Sahara</td>\n      <td>NaN</td>\n      <td>NaN</td>\n      <td>NaN</td>\n      <td>NaN</td>\n      <td>NaN</td>\n      <td>NaN</td>\n      <td>NaN</td>\n      <td>NaN</td>\n      <td>NaN</td>\n      <td>...</td>\n      <td>NaN</td>\n      <td>NaN</td>\n      <td>NaN</td>\n      <td>NaN</td>\n      <td>NaN</td>\n      <td>NaN</td>\n      <td>NaN</td>\n      <td>NaN</td>\n      <td>NaN</td>\n      <td>NaN</td>\n    </tr>\n    <tr>\n      <th>228</th>\n      <td>Yemen</td>\n      <td>NaN</td>\n      <td>NaN</td>\n      <td>NaN</td>\n      <td>NaN</td>\n      <td>NaN</td>\n      <td>NaN</td>\n      <td>NaN</td>\n      <td>NaN</td>\n      <td>NaN</td>\n      <td>...</td>\n      <td>122.668</td>\n      <td>104.159</td>\n      <td>106.437</td>\n      <td>110.258</td>\n      <td>98.5626</td>\n      <td>68.543</td>\n      <td>58.5318</td>\n      <td>52.7009</td>\n      <td>51.992</td>\n      <td>53.0838</td>\n    </tr>\n    <tr>\n      <th>229</th>\n      <td>Zambia</td>\n      <td>NaN</td>\n      <td>NaN</td>\n      <td>NaN</td>\n      <td>NaN</td>\n      <td>NaN</td>\n      <td>NaN</td>\n      <td>NaN</td>\n      <td>NaN</td>\n      <td>71.2451</td>\n      <td>...</td>\n      <td>169.5431</td>\n      <td>178.9776</td>\n      <td>192.5756</td>\n      <td>202.3145</td>\n      <td>211.7024</td>\n      <td>217.9309</td>\n      <td>226.1135</td>\n      <td>234.0865</td>\n      <td>243.5819</td>\n      <td>247.1819</td>\n    </tr>\n    <tr>\n      <th>230</th>\n      <td>Zimbabwe</td>\n      <td>NaN</td>\n      <td>NaN</td>\n      <td>NaN</td>\n      <td>NaN</td>\n      <td>NaN</td>\n      <td>NaN</td>\n      <td>NaN</td>\n      <td>NaN</td>\n      <td>16.2287</td>\n      <td>...</td>\n      <td>26.1448</td>\n      <td>29.8557</td>\n      <td>34.8313</td>\n      <td>35.5243</td>\n      <td>36.3687</td>\n      <td>37.016</td>\n      <td>37.2958</td>\n      <td>39.0502</td>\n      <td>40.9362</td>\n      <td>37.6204</td>\n    </tr>\n  </tbody>\n</table>\n<p>231 rows × 41 columns</p>\n</div>"
     },
     "execution_count": 100,
     "metadata": {},
     "output_type": "execute_result"
    }
   ],
   "source": [
    "gdp"
   ],
   "metadata": {
    "collapsed": false,
    "pycharm": {
     "name": "#%%\n"
    }
   }
  },
  {
   "cell_type": "code",
   "execution_count": 101,
   "outputs": [
    {
     "data": {
      "text/plain": "                    Country          1980          1981           1982  \\\n0                     World  4298126.5224  4377059.5593  4456829.97443   \n1               Afghanistan       13356.5       13171.7        12882.5   \n2                   Albania        2682.7       2737.02        2790.28   \n3                   Algeria       19221.7       19824.3        20452.9   \n4            American Samoa        32.646        33.701         34.968   \n..                      ...           ...           ...            ...   \n226             Wake Island           NaN           NaN            NaN   \n227          Western Sahara           NaN           NaN            NaN   \n228                   Yemen        7941.9       8231.91        8541.61   \n229                  Zambia      5851.817      6055.363        6265.87   \n230                Zimbabwe       7408.63       7675.58        7958.24   \n\n              1983           1984         1985           1986          1987  \\\n0    4537793.89383  4572800.78237  4657357.404  4745135.92538  4835605.8458   \n1          12537.7        12204.3      11938.2        11736.2       11604.5   \n2          2844.87        2904.14      2969.67         3044.2       3124.89   \n3          21101.9        21763.6      22431.5        23102.4       23774.3   \n4           36.412         37.946       39.519         41.119         42.74   \n..             ...            ...          ...            ...           ...   \n226            NaN            NaN          NaN            NaN           NaN   \n227            NaN            NaN          NaN            NaN           NaN   \n228        8869.36        9213.08      9572.17         9941.1         10322   \n229       6481.905       6701.548     6923.147       7146.965      7372.835   \n230        8254.75        8562.26      8877.49        9200.15        9527.2   \n\n             1988  ...         2010         2011           2012         2013  \\\n0    4927545.0842  ...  6948810.014  7041712.689  7126262.29402  7211822.209   \n1           11618  ...      29185.5      30117.4        31161.4      32269.6   \n2         3200.97  ...      2948.03       2928.6        2914.09      2903.79   \n3         24443.5  ...      35977.4      36661.4        37383.9      38140.1   \n4          44.343  ...       56.079       55.759         55.667       55.713   \n..            ...  ...          ...          ...            ...          ...   \n226           NaN  ...          NaN          NaN            NaN          NaN   \n227           NaN  ...          NaN          NaN            NaN          NaN   \n228       10730.9  ...      23154.8      23807.6        24473.2      25147.1   \n229       7598.27  ...        13606     14023.18       14465.15     14926.53   \n230       9849.13  ...      12697.7      12894.3        13115.2      13350.4   \n\n            2014           2015           2016           2017           2018  \\\n0    7297269.981  7379227.32003  7464042.84623  7548343.78937  7632247.01155   \n1        33370.8        34413.6          35383        36296.1        37173.5   \n2        2896.31        2890.52        2886.43        2884.17        2882.05   \n3        38923.7          39728        40551.4        41389.2        42209.8   \n4         55.791         55.812         55.741          55.62         55.465   \n..           ...            ...            ...            ...            ...   \n226          NaN            NaN            NaN            NaN            NaN   \n227          NaN            NaN            NaN            NaN            NaN   \n228      25823.5        26497.9        27168.2        27834.8        28498.5   \n229      15399.8       15879.38       16363.45        16853.6       17363.72   \n230      13586.7        13814.6        14030.3        14236.6        14445.4   \n\n              2019  \n0    7714631.04083  \n1          38050.9  \n2          2879.92  \n3          43030.4  \n4           55.312  \n..             ...  \n226            NaN  \n227            NaN  \n228        29162.2  \n229       17873.85  \n230        14654.2  \n\n[231 rows x 41 columns]",
      "text/html": "<div>\n<style scoped>\n    .dataframe tbody tr th:only-of-type {\n        vertical-align: middle;\n    }\n\n    .dataframe tbody tr th {\n        vertical-align: top;\n    }\n\n    .dataframe thead th {\n        text-align: right;\n    }\n</style>\n<table border=\"1\" class=\"dataframe\">\n  <thead>\n    <tr style=\"text-align: right;\">\n      <th></th>\n      <th>Country</th>\n      <th>1980</th>\n      <th>1981</th>\n      <th>1982</th>\n      <th>1983</th>\n      <th>1984</th>\n      <th>1985</th>\n      <th>1986</th>\n      <th>1987</th>\n      <th>1988</th>\n      <th>...</th>\n      <th>2010</th>\n      <th>2011</th>\n      <th>2012</th>\n      <th>2013</th>\n      <th>2014</th>\n      <th>2015</th>\n      <th>2016</th>\n      <th>2017</th>\n      <th>2018</th>\n      <th>2019</th>\n    </tr>\n  </thead>\n  <tbody>\n    <tr>\n      <th>0</th>\n      <td>World</td>\n      <td>4298126.5224</td>\n      <td>4377059.5593</td>\n      <td>4456829.97443</td>\n      <td>4537793.89383</td>\n      <td>4572800.78237</td>\n      <td>4657357.404</td>\n      <td>4745135.92538</td>\n      <td>4835605.8458</td>\n      <td>4927545.0842</td>\n      <td>...</td>\n      <td>6948810.014</td>\n      <td>7041712.689</td>\n      <td>7126262.29402</td>\n      <td>7211822.209</td>\n      <td>7297269.981</td>\n      <td>7379227.32003</td>\n      <td>7464042.84623</td>\n      <td>7548343.78937</td>\n      <td>7632247.01155</td>\n      <td>7714631.04083</td>\n    </tr>\n    <tr>\n      <th>1</th>\n      <td>Afghanistan</td>\n      <td>13356.5</td>\n      <td>13171.7</td>\n      <td>12882.5</td>\n      <td>12537.7</td>\n      <td>12204.3</td>\n      <td>11938.2</td>\n      <td>11736.2</td>\n      <td>11604.5</td>\n      <td>11618</td>\n      <td>...</td>\n      <td>29185.5</td>\n      <td>30117.4</td>\n      <td>31161.4</td>\n      <td>32269.6</td>\n      <td>33370.8</td>\n      <td>34413.6</td>\n      <td>35383</td>\n      <td>36296.1</td>\n      <td>37173.5</td>\n      <td>38050.9</td>\n    </tr>\n    <tr>\n      <th>2</th>\n      <td>Albania</td>\n      <td>2682.7</td>\n      <td>2737.02</td>\n      <td>2790.28</td>\n      <td>2844.87</td>\n      <td>2904.14</td>\n      <td>2969.67</td>\n      <td>3044.2</td>\n      <td>3124.89</td>\n      <td>3200.97</td>\n      <td>...</td>\n      <td>2948.03</td>\n      <td>2928.6</td>\n      <td>2914.09</td>\n      <td>2903.79</td>\n      <td>2896.31</td>\n      <td>2890.52</td>\n      <td>2886.43</td>\n      <td>2884.17</td>\n      <td>2882.05</td>\n      <td>2879.92</td>\n    </tr>\n    <tr>\n      <th>3</th>\n      <td>Algeria</td>\n      <td>19221.7</td>\n      <td>19824.3</td>\n      <td>20452.9</td>\n      <td>21101.9</td>\n      <td>21763.6</td>\n      <td>22431.5</td>\n      <td>23102.4</td>\n      <td>23774.3</td>\n      <td>24443.5</td>\n      <td>...</td>\n      <td>35977.4</td>\n      <td>36661.4</td>\n      <td>37383.9</td>\n      <td>38140.1</td>\n      <td>38923.7</td>\n      <td>39728</td>\n      <td>40551.4</td>\n      <td>41389.2</td>\n      <td>42209.8</td>\n      <td>43030.4</td>\n    </tr>\n    <tr>\n      <th>4</th>\n      <td>American Samoa</td>\n      <td>32.646</td>\n      <td>33.701</td>\n      <td>34.968</td>\n      <td>36.412</td>\n      <td>37.946</td>\n      <td>39.519</td>\n      <td>41.119</td>\n      <td>42.74</td>\n      <td>44.343</td>\n      <td>...</td>\n      <td>56.079</td>\n      <td>55.759</td>\n      <td>55.667</td>\n      <td>55.713</td>\n      <td>55.791</td>\n      <td>55.812</td>\n      <td>55.741</td>\n      <td>55.62</td>\n      <td>55.465</td>\n      <td>55.312</td>\n    </tr>\n    <tr>\n      <th>...</th>\n      <td>...</td>\n      <td>...</td>\n      <td>...</td>\n      <td>...</td>\n      <td>...</td>\n      <td>...</td>\n      <td>...</td>\n      <td>...</td>\n      <td>...</td>\n      <td>...</td>\n      <td>...</td>\n      <td>...</td>\n      <td>...</td>\n      <td>...</td>\n      <td>...</td>\n      <td>...</td>\n      <td>...</td>\n      <td>...</td>\n      <td>...</td>\n      <td>...</td>\n      <td>...</td>\n    </tr>\n    <tr>\n      <th>226</th>\n      <td>Wake Island</td>\n      <td>NaN</td>\n      <td>NaN</td>\n      <td>NaN</td>\n      <td>NaN</td>\n      <td>NaN</td>\n      <td>NaN</td>\n      <td>NaN</td>\n      <td>NaN</td>\n      <td>NaN</td>\n      <td>...</td>\n      <td>NaN</td>\n      <td>NaN</td>\n      <td>NaN</td>\n      <td>NaN</td>\n      <td>NaN</td>\n      <td>NaN</td>\n      <td>NaN</td>\n      <td>NaN</td>\n      <td>NaN</td>\n      <td>NaN</td>\n    </tr>\n    <tr>\n      <th>227</th>\n      <td>Western Sahara</td>\n      <td>NaN</td>\n      <td>NaN</td>\n      <td>NaN</td>\n      <td>NaN</td>\n      <td>NaN</td>\n      <td>NaN</td>\n      <td>NaN</td>\n      <td>NaN</td>\n      <td>NaN</td>\n      <td>...</td>\n      <td>NaN</td>\n      <td>NaN</td>\n      <td>NaN</td>\n      <td>NaN</td>\n      <td>NaN</td>\n      <td>NaN</td>\n      <td>NaN</td>\n      <td>NaN</td>\n      <td>NaN</td>\n      <td>NaN</td>\n    </tr>\n    <tr>\n      <th>228</th>\n      <td>Yemen</td>\n      <td>7941.9</td>\n      <td>8231.91</td>\n      <td>8541.61</td>\n      <td>8869.36</td>\n      <td>9213.08</td>\n      <td>9572.17</td>\n      <td>9941.1</td>\n      <td>10322</td>\n      <td>10730.9</td>\n      <td>...</td>\n      <td>23154.8</td>\n      <td>23807.6</td>\n      <td>24473.2</td>\n      <td>25147.1</td>\n      <td>25823.5</td>\n      <td>26497.9</td>\n      <td>27168.2</td>\n      <td>27834.8</td>\n      <td>28498.5</td>\n      <td>29162.2</td>\n    </tr>\n    <tr>\n      <th>229</th>\n      <td>Zambia</td>\n      <td>5851.817</td>\n      <td>6055.363</td>\n      <td>6265.87</td>\n      <td>6481.905</td>\n      <td>6701.548</td>\n      <td>6923.147</td>\n      <td>7146.965</td>\n      <td>7372.835</td>\n      <td>7598.27</td>\n      <td>...</td>\n      <td>13606</td>\n      <td>14023.18</td>\n      <td>14465.15</td>\n      <td>14926.53</td>\n      <td>15399.8</td>\n      <td>15879.38</td>\n      <td>16363.45</td>\n      <td>16853.6</td>\n      <td>17363.72</td>\n      <td>17873.85</td>\n    </tr>\n    <tr>\n      <th>230</th>\n      <td>Zimbabwe</td>\n      <td>7408.63</td>\n      <td>7675.58</td>\n      <td>7958.24</td>\n      <td>8254.75</td>\n      <td>8562.26</td>\n      <td>8877.49</td>\n      <td>9200.15</td>\n      <td>9527.2</td>\n      <td>9849.13</td>\n      <td>...</td>\n      <td>12697.7</td>\n      <td>12894.3</td>\n      <td>13115.2</td>\n      <td>13350.4</td>\n      <td>13586.7</td>\n      <td>13814.6</td>\n      <td>14030.3</td>\n      <td>14236.6</td>\n      <td>14445.4</td>\n      <td>14654.2</td>\n    </tr>\n  </tbody>\n</table>\n<p>231 rows × 41 columns</p>\n</div>"
     },
     "execution_count": 101,
     "metadata": {},
     "output_type": "execute_result"
    }
   ],
   "source": [
    "pop"
   ],
   "metadata": {
    "collapsed": false,
    "pycharm": {
     "name": "#%%\n"
    }
   }
  },
  {
   "cell_type": "code",
   "execution_count": 102,
   "outputs": [
    {
     "data": {
      "text/plain": "                                          Country                1980  \\\n0    energy consumption per capita (MMBtu/person)                 NaN   \n1                                           World    68.1459548678342   \n2                                     Afghanistan  1.9902831338720353   \n3                                         Albania  60.752906333637476   \n4                                         Algeria   40.61530286672366   \n..                                            ...                 ...   \n459                                   Wake Island                   0   \n460                                Western Sahara                   0   \n461                                         Yemen                   0   \n462                                        Zambia                   0   \n463                                      Zimbabwe                   0   \n\n                   1981                1982               1983  \\\n0                   NaN                 NaN                NaN   \n1     66.11779195371682   64.99939955926463  64.73001551716604   \n2    2.2737731366371663   2.476057805069556   3.11235738067043   \n3     59.20471634727863  58.361926760819614  59.52323005683565   \n4     33.46354339032917    46.5551641047492  50.73295974373409   \n..                  ...                 ...                ...   \n459                   0                   0                  0   \n460                   0                   0                  0   \n461                   0                   0                  0   \n462                   0                   0                  0   \n463                   0                   0                  0   \n\n                  1984               1985                1986  \\\n0                  NaN                NaN                 NaN   \n1    67.18740371473154  67.72669736181508   67.89798545851839   \n2    3.212166236643484  3.206091479049969   3.332526591235134   \n3    58.67682750151277  57.26436102552498  54.554686870223655   \n4    51.95770520367143  46.64949943908242  46.155419424041966   \n..                 ...                ...                 ...   \n459                  0                  0                   0   \n460                  0                  0                   0   \n461                  0                  0                   0   \n462                  0                  0                   0   \n463                  0                  0                   0   \n\n                   1987                1988  ...                2010  \\\n0                   NaN                 NaN  ...                 NaN   \n1     68.81176088259464   70.12848820226563  ...   75.85021734387001   \n2     5.434543297122344   9.573143958136207  ...   4.061555520719247   \n3    53.326846191744856  52.668682558844885  ...   41.73771071625683   \n4     47.88021745831313  49.629527906439925  ...  49.413253929302826   \n..                  ...                 ...  ...                 ...   \n459                   0                   0  ...                   0   \n460                   0                   0  ...                   0   \n461                   0                   0  ...  2.7742874485759597   \n462                   0  1.7070595067346914  ...  0.7683591714822431   \n463                   0  11.244435329485814  ...  6.0202802938126805   \n\n                   2011                2012                2013  \\\n0                   NaN                 NaN                 NaN   \n1     76.81301793921361   77.45018264495602   77.17074501779302   \n2     5.347433782037638   4.736874741480483  3.8582527606273733   \n3    36.684247231169316  36.075733185359105   45.43411116658544   \n4    52.861873082392634  56.125875710745674   53.42370884022648   \n..                  ...                 ...                 ...   \n459                   0                   0                   0   \n460                   0                   0                   0   \n461   2.745226716195416  2.3278365292917402   3.171370317413033   \n462  0.8154172322799056  0.8142557261121618  0.8218490959250522   \n463  5.7475130216087384   5.336970608706031   5.319145371698123   \n\n                   2014                2015                2016  \\\n0                   NaN                 NaN                 NaN   \n1     76.90143146117923   76.24857246626453   76.04634169493572   \n2    3.4255622019929817  3.6697740511736567    3.32294192971859   \n3     40.12567468285529    40.2340417763733   44.90231275511119   \n4     59.08736571185966   59.19709604738706  57.609648342121254   \n..                  ...                 ...                 ...   \n459                   0                   0                   0   \n460                   0                   0                   0   \n461  3.3581897449322806  2.6071051164501315   2.443451042807191   \n462  0.8429966596642897  0.7924680967724622  0.7203060396079056   \n463   5.122936676064661   5.037746583880338  4.2694022193850705   \n\n                   2017                2018                2019  \n0                   NaN                 NaN                 NaN  \n1     76.74242174383677   77.59177446964536   77.21384657054325  \n2    3.4422777418168047  3.8541735230994862   3.225900605229116  \n3    43.462449016341786   49.33449257004024    38.4553185271436  \n4     57.04872044051388   59.60163688886581  61.433374033951914  \n..                  ...                 ...                 ...  \n459                   0                   0                   0  \n460                   0                   0                   0  \n461   2.504412320318868   2.361163979796315  2.9956346213705087  \n462  0.8025461644402722   0.867474607972482  0.8378305890652841  \n463   4.013815739906505   3.959873113387242   4.497966373879728  \n\n[464 rows x 41 columns]",
      "text/html": "<div>\n<style scoped>\n    .dataframe tbody tr th:only-of-type {\n        vertical-align: middle;\n    }\n\n    .dataframe tbody tr th {\n        vertical-align: top;\n    }\n\n    .dataframe thead th {\n        text-align: right;\n    }\n</style>\n<table border=\"1\" class=\"dataframe\">\n  <thead>\n    <tr style=\"text-align: right;\">\n      <th></th>\n      <th>Country</th>\n      <th>1980</th>\n      <th>1981</th>\n      <th>1982</th>\n      <th>1983</th>\n      <th>1984</th>\n      <th>1985</th>\n      <th>1986</th>\n      <th>1987</th>\n      <th>1988</th>\n      <th>...</th>\n      <th>2010</th>\n      <th>2011</th>\n      <th>2012</th>\n      <th>2013</th>\n      <th>2014</th>\n      <th>2015</th>\n      <th>2016</th>\n      <th>2017</th>\n      <th>2018</th>\n      <th>2019</th>\n    </tr>\n  </thead>\n  <tbody>\n    <tr>\n      <th>0</th>\n      <td>energy consumption per capita (MMBtu/person)</td>\n      <td>NaN</td>\n      <td>NaN</td>\n      <td>NaN</td>\n      <td>NaN</td>\n      <td>NaN</td>\n      <td>NaN</td>\n      <td>NaN</td>\n      <td>NaN</td>\n      <td>NaN</td>\n      <td>...</td>\n      <td>NaN</td>\n      <td>NaN</td>\n      <td>NaN</td>\n      <td>NaN</td>\n      <td>NaN</td>\n      <td>NaN</td>\n      <td>NaN</td>\n      <td>NaN</td>\n      <td>NaN</td>\n      <td>NaN</td>\n    </tr>\n    <tr>\n      <th>1</th>\n      <td>World</td>\n      <td>68.1459548678342</td>\n      <td>66.11779195371682</td>\n      <td>64.99939955926463</td>\n      <td>64.73001551716604</td>\n      <td>67.18740371473154</td>\n      <td>67.72669736181508</td>\n      <td>67.89798545851839</td>\n      <td>68.81176088259464</td>\n      <td>70.12848820226563</td>\n      <td>...</td>\n      <td>75.85021734387001</td>\n      <td>76.81301793921361</td>\n      <td>77.45018264495602</td>\n      <td>77.17074501779302</td>\n      <td>76.90143146117923</td>\n      <td>76.24857246626453</td>\n      <td>76.04634169493572</td>\n      <td>76.74242174383677</td>\n      <td>77.59177446964536</td>\n      <td>77.21384657054325</td>\n    </tr>\n    <tr>\n      <th>2</th>\n      <td>Afghanistan</td>\n      <td>1.9902831338720353</td>\n      <td>2.2737731366371663</td>\n      <td>2.476057805069556</td>\n      <td>3.11235738067043</td>\n      <td>3.212166236643484</td>\n      <td>3.206091479049969</td>\n      <td>3.332526591235134</td>\n      <td>5.434543297122344</td>\n      <td>9.573143958136207</td>\n      <td>...</td>\n      <td>4.061555520719247</td>\n      <td>5.347433782037638</td>\n      <td>4.736874741480483</td>\n      <td>3.8582527606273733</td>\n      <td>3.4255622019929817</td>\n      <td>3.6697740511736567</td>\n      <td>3.32294192971859</td>\n      <td>3.4422777418168047</td>\n      <td>3.8541735230994862</td>\n      <td>3.225900605229116</td>\n    </tr>\n    <tr>\n      <th>3</th>\n      <td>Albania</td>\n      <td>60.752906333637476</td>\n      <td>59.20471634727863</td>\n      <td>58.361926760819614</td>\n      <td>59.52323005683565</td>\n      <td>58.67682750151277</td>\n      <td>57.26436102552498</td>\n      <td>54.554686870223655</td>\n      <td>53.326846191744856</td>\n      <td>52.668682558844885</td>\n      <td>...</td>\n      <td>41.73771071625683</td>\n      <td>36.684247231169316</td>\n      <td>36.075733185359105</td>\n      <td>45.43411116658544</td>\n      <td>40.12567468285529</td>\n      <td>40.2340417763733</td>\n      <td>44.90231275511119</td>\n      <td>43.462449016341786</td>\n      <td>49.33449257004024</td>\n      <td>38.4553185271436</td>\n    </tr>\n    <tr>\n      <th>4</th>\n      <td>Algeria</td>\n      <td>40.61530286672366</td>\n      <td>33.46354339032917</td>\n      <td>46.5551641047492</td>\n      <td>50.73295974373409</td>\n      <td>51.95770520367143</td>\n      <td>46.64949943908242</td>\n      <td>46.155419424041966</td>\n      <td>47.88021745831313</td>\n      <td>49.629527906439925</td>\n      <td>...</td>\n      <td>49.413253929302826</td>\n      <td>52.861873082392634</td>\n      <td>56.125875710745674</td>\n      <td>53.42370884022648</td>\n      <td>59.08736571185966</td>\n      <td>59.19709604738706</td>\n      <td>57.609648342121254</td>\n      <td>57.04872044051388</td>\n      <td>59.60163688886581</td>\n      <td>61.433374033951914</td>\n    </tr>\n    <tr>\n      <th>...</th>\n      <td>...</td>\n      <td>...</td>\n      <td>...</td>\n      <td>...</td>\n      <td>...</td>\n      <td>...</td>\n      <td>...</td>\n      <td>...</td>\n      <td>...</td>\n      <td>...</td>\n      <td>...</td>\n      <td>...</td>\n      <td>...</td>\n      <td>...</td>\n      <td>...</td>\n      <td>...</td>\n      <td>...</td>\n      <td>...</td>\n      <td>...</td>\n      <td>...</td>\n      <td>...</td>\n    </tr>\n    <tr>\n      <th>459</th>\n      <td>Wake Island</td>\n      <td>0</td>\n      <td>0</td>\n      <td>0</td>\n      <td>0</td>\n      <td>0</td>\n      <td>0</td>\n      <td>0</td>\n      <td>0</td>\n      <td>0</td>\n      <td>...</td>\n      <td>0</td>\n      <td>0</td>\n      <td>0</td>\n      <td>0</td>\n      <td>0</td>\n      <td>0</td>\n      <td>0</td>\n      <td>0</td>\n      <td>0</td>\n      <td>0</td>\n    </tr>\n    <tr>\n      <th>460</th>\n      <td>Western Sahara</td>\n      <td>0</td>\n      <td>0</td>\n      <td>0</td>\n      <td>0</td>\n      <td>0</td>\n      <td>0</td>\n      <td>0</td>\n      <td>0</td>\n      <td>0</td>\n      <td>...</td>\n      <td>0</td>\n      <td>0</td>\n      <td>0</td>\n      <td>0</td>\n      <td>0</td>\n      <td>0</td>\n      <td>0</td>\n      <td>0</td>\n      <td>0</td>\n      <td>0</td>\n    </tr>\n    <tr>\n      <th>461</th>\n      <td>Yemen</td>\n      <td>0</td>\n      <td>0</td>\n      <td>0</td>\n      <td>0</td>\n      <td>0</td>\n      <td>0</td>\n      <td>0</td>\n      <td>0</td>\n      <td>0</td>\n      <td>...</td>\n      <td>2.7742874485759597</td>\n      <td>2.745226716195416</td>\n      <td>2.3278365292917402</td>\n      <td>3.171370317413033</td>\n      <td>3.3581897449322806</td>\n      <td>2.6071051164501315</td>\n      <td>2.443451042807191</td>\n      <td>2.504412320318868</td>\n      <td>2.361163979796315</td>\n      <td>2.9956346213705087</td>\n    </tr>\n    <tr>\n      <th>462</th>\n      <td>Zambia</td>\n      <td>0</td>\n      <td>0</td>\n      <td>0</td>\n      <td>0</td>\n      <td>0</td>\n      <td>0</td>\n      <td>0</td>\n      <td>0</td>\n      <td>1.7070595067346914</td>\n      <td>...</td>\n      <td>0.7683591714822431</td>\n      <td>0.8154172322799056</td>\n      <td>0.8142557261121618</td>\n      <td>0.8218490959250522</td>\n      <td>0.8429966596642897</td>\n      <td>0.7924680967724622</td>\n      <td>0.7203060396079056</td>\n      <td>0.8025461644402722</td>\n      <td>0.867474607972482</td>\n      <td>0.8378305890652841</td>\n    </tr>\n    <tr>\n      <th>463</th>\n      <td>Zimbabwe</td>\n      <td>0</td>\n      <td>0</td>\n      <td>0</td>\n      <td>0</td>\n      <td>0</td>\n      <td>0</td>\n      <td>0</td>\n      <td>0</td>\n      <td>11.244435329485814</td>\n      <td>...</td>\n      <td>6.0202802938126805</td>\n      <td>5.7475130216087384</td>\n      <td>5.336970608706031</td>\n      <td>5.319145371698123</td>\n      <td>5.122936676064661</td>\n      <td>5.037746583880338</td>\n      <td>4.2694022193850705</td>\n      <td>4.013815739906505</td>\n      <td>3.959873113387242</td>\n      <td>4.497966373879728</td>\n    </tr>\n  </tbody>\n</table>\n<p>464 rows × 41 columns</p>\n</div>"
     },
     "execution_count": 102,
     "metadata": {},
     "output_type": "execute_result"
    }
   ],
   "source": [
    "ei_gdp_pop"
   ],
   "metadata": {
    "collapsed": false,
    "pycharm": {
     "name": "#%%\n"
    }
   }
  },
  {
   "cell_type": "code",
   "execution_count": 103,
   "outputs": [
    {
     "data": {
      "text/plain": "                          Country        1980             1981  \\\n0    CO2 emissions (MMtonnes CO2)         NaN              NaN   \n1                           World  4946.62713  18701.988660053   \n2                     Afghanistan         NaN      1.325964518   \n3                         Albania         NaN      9.618526399   \n4                         Algeria         NaN     45.663590904   \n..                            ...         ...              ...   \n923                   Wake Island         NaN          1.23566   \n924                Western Sahara         NaN          0.15699   \n925                         Yemen         NaN          6.43422   \n926                        Zambia         NaN          2.21293   \n927                      Zimbabwe         NaN          1.78085   \n\n                1982             1983             1984             1985  \\\n0                NaN              NaN              NaN              NaN   \n1    18327.455974396  18284.018922293  18478.503517135  20118.811365854   \n2        1.509627735       1.65960468       2.05960468      2.065436114   \n3        9.533068754      9.594264089      9.981384922     10.126808525   \n4       39.376193382     56.531989464     63.168954306     66.766862302   \n..               ...              ...              ...              ...   \n923              1.2              1.2              1.2              1.2   \n924              0.2              0.2              0.2              0.2   \n925              6.6              7.7                7              8.9   \n926                2                2                2              1.8   \n927              2.1              1.7              2.1                2   \n\n                1986             1987             1988  ...             2010  \\\n0                NaN              NaN              NaN  ...              NaN   \n1    20531.213799098  21064.157108403  21736.103906879  ...  31639.876165687   \n2        2.093515917      2.311010238      3.646724197  ...      6.230759779   \n3         10.0889756     10.154939541      9.828091766  ...       3.02339894   \n4       61.757201027     60.918466391     64.343004942  ...     99.380185852   \n..               ...              ...              ...  ...              ...   \n923              1.2              1.3              1.3  ...              1.3   \n924              0.2              0.2              0.2  ...              0.3   \n925              9.9               10              9.9  ...               20   \n926              1.7              1.8              1.9  ...                2   \n927              2.1              2.3              2.5  ...              1.9   \n\n                   2011                2012                 2013  \\\n0                   NaN                 NaN                  NaN   \n1       33609.984153055     34720.267922662      35537.365120578   \n2           7.794436305        11.097938929          9.753422695   \n3           3.673558222         3.756730087          3.393630544   \n4         101.352896736       112.488751213        122.016837732   \n..                  ...                 ...                  ...   \n923  1.2954475286034979  1.2978968706239917   1.3014527524613186   \n924                 0.3  0.2676640063021204  0.26080606525442773   \n925                  22   18.55858838418988   15.661195605698236   \n926                   2  2.2833131328989174   2.6941848042448058   \n927                 1.9  3.4354812808811364   3.7707232037412988   \n\n                   2014                2015                2016  \\\n0                   NaN                 NaN                 NaN   \n1       35944.451742368     35976.723878385     35781.370769103   \n2           7.910700222         7.169380063         7.852509211   \n3           3.857129766         4.043419507         3.913785734   \n4         118.720563943       131.695938497       138.622437629   \n..                  ...                 ...                 ...   \n923  1.2978968706239917  1.2978968706239917  1.2978968706239917   \n924  0.2689223903567869  0.2684851998757719            0.270403   \n925           21.455366           20.888499            9.957683   \n926  2.8296932137810265  3.2481110278628478            3.551921   \n927   4.332745200240738   3.933601322227187            4.090398   \n\n                  2017                 2018                 2019  \n0                  NaN                  NaN                  NaN  \n1      35117.963601548      35887.898987724      36638.369585101  \n2          7.279395964          7.886124149          9.391163087  \n3          4.105771205          4.483725681          4.031246029  \n4        137.190705524        137.678348102        145.987969135  \n..                 ...                  ...                  ...  \n923  1.298108468455726   1.2719549586239927   1.2737868546239928  \n924           0.269783  0.26303823989786146  0.26303823989786146  \n925           8.371222              8.15101             7.888358  \n926     3.383059895344       3.750432460396        4.20218759386  \n927           3.536959    3.530557764081192    4.377889944348768  \n\n[928 rows x 41 columns]",
      "text/html": "<div>\n<style scoped>\n    .dataframe tbody tr th:only-of-type {\n        vertical-align: middle;\n    }\n\n    .dataframe tbody tr th {\n        vertical-align: top;\n    }\n\n    .dataframe thead th {\n        text-align: right;\n    }\n</style>\n<table border=\"1\" class=\"dataframe\">\n  <thead>\n    <tr style=\"text-align: right;\">\n      <th></th>\n      <th>Country</th>\n      <th>1980</th>\n      <th>1981</th>\n      <th>1982</th>\n      <th>1983</th>\n      <th>1984</th>\n      <th>1985</th>\n      <th>1986</th>\n      <th>1987</th>\n      <th>1988</th>\n      <th>...</th>\n      <th>2010</th>\n      <th>2011</th>\n      <th>2012</th>\n      <th>2013</th>\n      <th>2014</th>\n      <th>2015</th>\n      <th>2016</th>\n      <th>2017</th>\n      <th>2018</th>\n      <th>2019</th>\n    </tr>\n  </thead>\n  <tbody>\n    <tr>\n      <th>0</th>\n      <td>CO2 emissions (MMtonnes CO2)</td>\n      <td>NaN</td>\n      <td>NaN</td>\n      <td>NaN</td>\n      <td>NaN</td>\n      <td>NaN</td>\n      <td>NaN</td>\n      <td>NaN</td>\n      <td>NaN</td>\n      <td>NaN</td>\n      <td>...</td>\n      <td>NaN</td>\n      <td>NaN</td>\n      <td>NaN</td>\n      <td>NaN</td>\n      <td>NaN</td>\n      <td>NaN</td>\n      <td>NaN</td>\n      <td>NaN</td>\n      <td>NaN</td>\n      <td>NaN</td>\n    </tr>\n    <tr>\n      <th>1</th>\n      <td>World</td>\n      <td>4946.62713</td>\n      <td>18701.988660053</td>\n      <td>18327.455974396</td>\n      <td>18284.018922293</td>\n      <td>18478.503517135</td>\n      <td>20118.811365854</td>\n      <td>20531.213799098</td>\n      <td>21064.157108403</td>\n      <td>21736.103906879</td>\n      <td>...</td>\n      <td>31639.876165687</td>\n      <td>33609.984153055</td>\n      <td>34720.267922662</td>\n      <td>35537.365120578</td>\n      <td>35944.451742368</td>\n      <td>35976.723878385</td>\n      <td>35781.370769103</td>\n      <td>35117.963601548</td>\n      <td>35887.898987724</td>\n      <td>36638.369585101</td>\n    </tr>\n    <tr>\n      <th>2</th>\n      <td>Afghanistan</td>\n      <td>NaN</td>\n      <td>1.325964518</td>\n      <td>1.509627735</td>\n      <td>1.65960468</td>\n      <td>2.05960468</td>\n      <td>2.065436114</td>\n      <td>2.093515917</td>\n      <td>2.311010238</td>\n      <td>3.646724197</td>\n      <td>...</td>\n      <td>6.230759779</td>\n      <td>7.794436305</td>\n      <td>11.097938929</td>\n      <td>9.753422695</td>\n      <td>7.910700222</td>\n      <td>7.169380063</td>\n      <td>7.852509211</td>\n      <td>7.279395964</td>\n      <td>7.886124149</td>\n      <td>9.391163087</td>\n    </tr>\n    <tr>\n      <th>3</th>\n      <td>Albania</td>\n      <td>NaN</td>\n      <td>9.618526399</td>\n      <td>9.533068754</td>\n      <td>9.594264089</td>\n      <td>9.981384922</td>\n      <td>10.126808525</td>\n      <td>10.0889756</td>\n      <td>10.154939541</td>\n      <td>9.828091766</td>\n      <td>...</td>\n      <td>3.02339894</td>\n      <td>3.673558222</td>\n      <td>3.756730087</td>\n      <td>3.393630544</td>\n      <td>3.857129766</td>\n      <td>4.043419507</td>\n      <td>3.913785734</td>\n      <td>4.105771205</td>\n      <td>4.483725681</td>\n      <td>4.031246029</td>\n    </tr>\n    <tr>\n      <th>4</th>\n      <td>Algeria</td>\n      <td>NaN</td>\n      <td>45.663590904</td>\n      <td>39.376193382</td>\n      <td>56.531989464</td>\n      <td>63.168954306</td>\n      <td>66.766862302</td>\n      <td>61.757201027</td>\n      <td>60.918466391</td>\n      <td>64.343004942</td>\n      <td>...</td>\n      <td>99.380185852</td>\n      <td>101.352896736</td>\n      <td>112.488751213</td>\n      <td>122.016837732</td>\n      <td>118.720563943</td>\n      <td>131.695938497</td>\n      <td>138.622437629</td>\n      <td>137.190705524</td>\n      <td>137.678348102</td>\n      <td>145.987969135</td>\n    </tr>\n    <tr>\n      <th>...</th>\n      <td>...</td>\n      <td>...</td>\n      <td>...</td>\n      <td>...</td>\n      <td>...</td>\n      <td>...</td>\n      <td>...</td>\n      <td>...</td>\n      <td>...</td>\n      <td>...</td>\n      <td>...</td>\n      <td>...</td>\n      <td>...</td>\n      <td>...</td>\n      <td>...</td>\n      <td>...</td>\n      <td>...</td>\n      <td>...</td>\n      <td>...</td>\n      <td>...</td>\n      <td>...</td>\n    </tr>\n    <tr>\n      <th>923</th>\n      <td>Wake Island</td>\n      <td>NaN</td>\n      <td>1.23566</td>\n      <td>1.2</td>\n      <td>1.2</td>\n      <td>1.2</td>\n      <td>1.2</td>\n      <td>1.2</td>\n      <td>1.3</td>\n      <td>1.3</td>\n      <td>...</td>\n      <td>1.3</td>\n      <td>1.2954475286034979</td>\n      <td>1.2978968706239917</td>\n      <td>1.3014527524613186</td>\n      <td>1.2978968706239917</td>\n      <td>1.2978968706239917</td>\n      <td>1.2978968706239917</td>\n      <td>1.298108468455726</td>\n      <td>1.2719549586239927</td>\n      <td>1.2737868546239928</td>\n    </tr>\n    <tr>\n      <th>924</th>\n      <td>Western Sahara</td>\n      <td>NaN</td>\n      <td>0.15699</td>\n      <td>0.2</td>\n      <td>0.2</td>\n      <td>0.2</td>\n      <td>0.2</td>\n      <td>0.2</td>\n      <td>0.2</td>\n      <td>0.2</td>\n      <td>...</td>\n      <td>0.3</td>\n      <td>0.3</td>\n      <td>0.2676640063021204</td>\n      <td>0.26080606525442773</td>\n      <td>0.2689223903567869</td>\n      <td>0.2684851998757719</td>\n      <td>0.270403</td>\n      <td>0.269783</td>\n      <td>0.26303823989786146</td>\n      <td>0.26303823989786146</td>\n    </tr>\n    <tr>\n      <th>925</th>\n      <td>Yemen</td>\n      <td>NaN</td>\n      <td>6.43422</td>\n      <td>6.6</td>\n      <td>7.7</td>\n      <td>7</td>\n      <td>8.9</td>\n      <td>9.9</td>\n      <td>10</td>\n      <td>9.9</td>\n      <td>...</td>\n      <td>20</td>\n      <td>22</td>\n      <td>18.55858838418988</td>\n      <td>15.661195605698236</td>\n      <td>21.455366</td>\n      <td>20.888499</td>\n      <td>9.957683</td>\n      <td>8.371222</td>\n      <td>8.15101</td>\n      <td>7.888358</td>\n    </tr>\n    <tr>\n      <th>926</th>\n      <td>Zambia</td>\n      <td>NaN</td>\n      <td>2.21293</td>\n      <td>2</td>\n      <td>2</td>\n      <td>2</td>\n      <td>1.8</td>\n      <td>1.7</td>\n      <td>1.8</td>\n      <td>1.9</td>\n      <td>...</td>\n      <td>2</td>\n      <td>2</td>\n      <td>2.2833131328989174</td>\n      <td>2.6941848042448058</td>\n      <td>2.8296932137810265</td>\n      <td>3.2481110278628478</td>\n      <td>3.551921</td>\n      <td>3.383059895344</td>\n      <td>3.750432460396</td>\n      <td>4.20218759386</td>\n    </tr>\n    <tr>\n      <th>927</th>\n      <td>Zimbabwe</td>\n      <td>NaN</td>\n      <td>1.78085</td>\n      <td>2.1</td>\n      <td>1.7</td>\n      <td>2.1</td>\n      <td>2</td>\n      <td>2.1</td>\n      <td>2.3</td>\n      <td>2.5</td>\n      <td>...</td>\n      <td>1.9</td>\n      <td>1.9</td>\n      <td>3.4354812808811364</td>\n      <td>3.7707232037412988</td>\n      <td>4.332745200240738</td>\n      <td>3.933601322227187</td>\n      <td>4.090398</td>\n      <td>3.536959</td>\n      <td>3.530557764081192</td>\n      <td>4.377889944348768</td>\n    </tr>\n  </tbody>\n</table>\n<p>928 rows × 41 columns</p>\n</div>"
     },
     "execution_count": 103,
     "metadata": {},
     "output_type": "execute_result"
    }
   ],
   "source": [
    "co2_e"
   ],
   "metadata": {
    "collapsed": false,
    "pycharm": {
     "name": "#%%\n"
    }
   }
  },
  {
   "cell_type": "markdown",
   "source": [
    "#### Energy type name and index locations in both econ and eprod datasets\n",
    "total energy consumption (quad Btu) - 0\n",
    "coal (quad Btu) - 232\n",
    "natural gas (quad Btu) - 464\n",
    "petroleum and other liquids (quad Btu) - 696\n",
    "nuclear, renewables, and other (quad Btu) - 928\n",
    "nuclear (quad Btu) - 1160\n",
    "renewables and other (quad Btu) - 1392\n",
    "\n",
    "\n",
    "#### GDP type name and index locations in gdp dataset\n",
    "GDP at purchasing power parities (Billion 2015$$ PPP) - 0\n",
    "\n",
    "\n",
    "#### Population type name and index locations in pol dataset\n",
    "population (Mperson) - 0\n",
    "\n",
    "\n",
    "#### Energy intensity type name and index locations in ie_gdp_pop dataset\n",
    "energy consumption per capita (MMBtu/person) - 0\n",
    "energy consumption per GDP (1000 Btu/2015$ GDP PPP) - 232\n",
    "\n",
    "\n",
    "#### Emission type name and index location in the co2_e dataset\n",
    "CO2 emissions (MMtonnes CO2) - 0\n"
   ],
   "metadata": {
    "collapsed": false,
    "pycharm": {
     "name": "#%% md\n"
    }
   }
  },
  {
   "cell_type": "markdown",
   "source": [
    "theres ['nuclear, renewables, and other'], and also ['nuclear'] with ['renewables and other']. This is kindove redundant, im just going to remove ['nuclear and renewables, and other']"
   ],
   "metadata": {
    "collapsed": false,
    "pycharm": {
     "name": "#%% md\n"
    }
   }
  },
  {
   "cell_type": "markdown",
   "source": [
    "#### Splitting each energy source by index and turning them into seperate temporary datasets for econ, eprod and ei_gdp_pop datasets"
   ],
   "metadata": {
    "collapsed": false,
    "pycharm": {
     "name": "#%% md\n"
    }
   }
  },
  {
   "cell_type": "code",
   "execution_count": 104,
   "outputs": [],
   "source": [
    "# Locating the index position of each Energy Type in econ dataset\n",
    "total_con = econ.iloc[1:232]\n",
    "coal_con = econ.iloc[233:464]\n",
    "natural_gas_con = econ.iloc[465:696]\n",
    "petroleum_n_other_liquids_con = econ.iloc[697:928]\n",
    "nuclear_renewables_n_other_con = econ.iloc[929:1160]    #Leaving this one out!!!\n",
    "nuclear_con = econ.iloc[1161:1392]\n",
    "renewables_n_other_con = econ.iloc[1393:1624]\n",
    "\n",
    "\n",
    "# Locating the index position of each Energy Type in eprod dataset\n",
    "total_prod = eprod.iloc[1:232]\n",
    "coal_prod = eprod.iloc[233:464]\n",
    "natural_gas_prod = eprod.iloc[465:696]\n",
    "petroleum_n_other_liquids_prod = eprod.iloc[697:928]\n",
    "nuclear_renewables_n_other_prod = eprod.iloc[929:1160]    #Leaving this one out!!!\n",
    "nuclear_prod = eprod.iloc[1161:1392]\n",
    "renewables_n_other_prod = eprod.iloc[1393:1624]\n",
    "\n",
    "# Locating the index position of both Energy intensity of GDP and Population in ei_gdp_pop dataset\n",
    "energy_consumption_per_capita = ei_gdp_pop[1:232]\n",
    "energy_consumption_per_GDP = ei_gdp_pop[233:464]\n",
    "\n",
    "# Locating the index position for CO2 emissions in co2 dataset -- Only using the total emissions for this datset\n",
    "CO2_emissions = co2_e[1:232]\n",
    "\n",
    "# Putting all of them into a list\n",
    "econ_indexes = [total_con, coal_con, natural_gas_con, petroleum_n_other_liquids_con, nuclear_con, renewables_n_other_con]\n",
    "eprod_indexes = [total_prod, coal_prod, natural_gas_prod, petroleum_n_other_liquids_prod, nuclear_prod, renewables_n_other_prod]\n",
    "ei_gdp_pop_indexes = [energy_consumption_per_capita, energy_consumption_per_GDP]\n",
    "co2_e_indexes = [CO2_emissions]\n",
    "\n",
    "# Function to split into temporary datasets\n",
    "def temp_df(index):\n",
    "    # Running the list through a for loop that turns each of them into a seperate dataframe\n",
    "    for x in index:\n",
    "        df_name = pd.DataFrame(x)\n",
    "\n",
    "\n",
    "temp_df(econ_indexes)\n",
    "temp_df(eprod_indexes)\n",
    "\n",
    "# Splitting these now and wont be joining it back up, will make these seperate columns at the end\n",
    "temp_df(ei_gdp_pop_indexes)\n",
    "temp_df(co2_e_indexes)"
   ],
   "metadata": {
    "collapsed": false,
    "pycharm": {
     "name": "#%%\n"
    }
   }
  },
  {
   "cell_type": "markdown",
   "source": [
    "#### Creating new column for the specific energy source of each temporary dataset"
   ],
   "metadata": {
    "collapsed": false,
    "pycharm": {
     "name": "#%% md\n"
    }
   }
  },
  {
   "cell_type": "code",
   "execution_count": 105,
   "outputs": [],
   "source": [
    "def make_columns(df, value):\n",
    "    df.insert(1, 'Energy_type', value)\n",
    "\n",
    "\n",
    "# for econ dataset\n",
    "make_columns(total_con, 'all_energy_types')\n",
    "make_columns(coal_con, 'coal')\n",
    "make_columns(natural_gas_con, 'natural_gas')\n",
    "make_columns(petroleum_n_other_liquids_con, 'petroleum_n_other_liquids')\n",
    "make_columns(nuclear_con, 'nuclear')\n",
    "make_columns(renewables_n_other_con, 'renewables_n_other')\n",
    "\n",
    "# for eprod dataset\n",
    "make_columns(total_prod, 'all_energy_types')\n",
    "make_columns(coal_prod, 'coal')\n",
    "make_columns(natural_gas_prod, 'natural_gas')\n",
    "make_columns(petroleum_n_other_liquids_prod, 'petroleum_n_other_liquids')\n",
    "make_columns(nuclear_prod, 'nuclear')\n",
    "make_columns(renewables_n_other_prod, 'renewables_n_other')\n",
    "\n",
    "# for ei_gdp_pop dataset\n",
    "make_columns(energy_consumption_per_capita, 'energy_consumption_per_capita')\n",
    "make_columns(energy_consumption_per_GDP, 'energy_consumption_per_GDP')\n",
    "\n",
    "# for co2_e datset\n",
    "make_columns(CO2_emissions, 'CO2_emissions')"
   ],
   "metadata": {
    "collapsed": false,
    "pycharm": {
     "name": "#%%\n"
    }
   }
  },
  {
   "cell_type": "code",
   "execution_count": 106,
   "outputs": [
    {
     "data": {
      "text/plain": "                    Country Energy_type                   1980  \\\n233                   World        coal      78.65628042083658   \n234             Afghanistan        coal  0.0024792482148388983   \n235                 Albania        coal   0.024317314523581157   \n236                 Algeria        coal  0.0025473980424690033   \n237          American Samoa        coal                      0   \n..                      ...         ...                    ...   \n459             Wake Island        coal                      0   \n460          Western Sahara        coal                      0   \n461                   Yemen        coal                      0   \n462                  Zambia        coal   0.015136894032273961   \n463                Zimbabwe        coal    0.06621009071857202   \n\n                      1981                   1982                   1983  \\\n233      78.96407276869913      80.42250151969823      82.63101739438098   \n234  0.0026042523630414455  0.0030209327940489256  0.0030209327940489256   \n235   0.025770486274170428   0.029070074678547934    0.03146270929689194   \n236   0.007655064470875166   0.020475800605753863    0.03321382392874011   \n237                      0                      0                      0   \n..                     ...                    ...                    ...   \n459                      0                      0                      0   \n460                      0                      0                      0   \n461                      0                      0                      0   \n462   0.012094153254484357   0.013189697449913943   0.011776885530685234   \n463    0.06104049502561372    0.06327173087484642     0.0620723541922124   \n\n                      1984                  1985                   1986  \\\n233      86.35626815849287     89.40956303455617      90.43265631556591   \n234  0.0030834347736486832  0.003145936942251473  0.0033334430700537776   \n235    0.03399786552216729   0.03624797855457778    0.03566855295477164   \n236    0.03423572313878258   0.03424213176739014   0.034610210701987144   \n237                      0                     0                      0   \n..                     ...                   ...                    ...   \n459                      0                     0                      0   \n460                      0                     0                      0   \n461                      0                     0                      0   \n462   0.011356318624572684  0.011589222073092067   0.012851651910673069   \n463    0.06365151161976447    0.0746509495847143    0.08816084020867075   \n\n                      1987  ...                     2010  \\\n233      94.05082968532112  ...       158.12448895223338   \n234  0.0034792812114562443  ...     0.015104663781241597   \n235    0.03728748741744574  ...    0.0035249441657845544   \n236   0.035079318419173874  ...  0.000046554578705383786   \n237                      0  ...                        0   \n..                     ...  ...                      ...   \n459                      0  ...                        0   \n460                      0  ...                        0   \n461                      0  ...      0.00437591677914764   \n462   0.010866791206443746  ...     0.003154689702533103   \n463    0.11939720256524111  ...      0.07536395752904211   \n\n                        2011                   2012                   2013  \\\n233        166.7014764934442     171.73669392982674     173.61828745081039   \n234      0.03083430993588047   0.025834151567899852    0.02806338884029121   \n235    0.0033113416915863596  0.0029688882665851292   0.002642520161491151   \n236  0.000054955601161265284  0.0004334178297892882  0.0012596214769158304   \n237                        0                      0                      0   \n..                       ...                    ...                    ...   \n459                        0                      0                      0   \n460                        0                      0                      0   \n461      0.00447887952689229   0.004581842274636941  0.0047877677701262415   \n462    0.0017497830731440316   0.002530572674631151  0.0036506641640669996   \n463      0.07511125374398797    0.08164290036166781     0.0809079665412147   \n\n                      2014                   2015                   2016  \\\n233     172.42014067233737     167.89940511651292     163.76411477567194   \n234   0.031613501281557446   0.028438400717889757    0.03537612045346286   \n235   0.003339683613892591   0.002822255337070553   0.002199419837735592   \n236  0.0008353278614203434  0.0005769222932545153  0.0005752187520015624   \n237                      0                      0                      0   \n..                     ...                    ...                    ...   \n459                      0                      0                      0   \n460                      0                      0                      0   \n461   0.004813508457062404   0.004015547162041363   0.003474992736381949   \n462  0.0038833591803633235   0.004156763505309775   0.009056686670882155   \n463    0.08185525833607314    0.08563815693263413    0.07497115055211893   \n\n                      2017                    2018                    2019  \n233      164.4690218347296      165.86160315821368       164.2084676072012  \n234    0.04564727910102304     0.05093911337380253     0.04456391145462724  \n235   0.002175237164280488    0.002180172995948474   0.0024943557431554015  \n236   0.000924225066126768  0.00041041788252525746  0.00040543921847342187  \n237                      0                       0                       0  \n..                     ...                     ...                     ...  \n459                      0                       0                       0  \n460                      0                       0                       0  \n461  0.0032690672408926483    0.002372697626570008   0.0008509773029078125  \n462   0.020752247493247774     0.03101003454569231     0.03415060606327614  \n463    0.06313434495256211     0.05107844322257112     0.04506367279138204  \n\n[231 rows x 42 columns]",
      "text/html": "<div>\n<style scoped>\n    .dataframe tbody tr th:only-of-type {\n        vertical-align: middle;\n    }\n\n    .dataframe tbody tr th {\n        vertical-align: top;\n    }\n\n    .dataframe thead th {\n        text-align: right;\n    }\n</style>\n<table border=\"1\" class=\"dataframe\">\n  <thead>\n    <tr style=\"text-align: right;\">\n      <th></th>\n      <th>Country</th>\n      <th>Energy_type</th>\n      <th>1980</th>\n      <th>1981</th>\n      <th>1982</th>\n      <th>1983</th>\n      <th>1984</th>\n      <th>1985</th>\n      <th>1986</th>\n      <th>1987</th>\n      <th>...</th>\n      <th>2010</th>\n      <th>2011</th>\n      <th>2012</th>\n      <th>2013</th>\n      <th>2014</th>\n      <th>2015</th>\n      <th>2016</th>\n      <th>2017</th>\n      <th>2018</th>\n      <th>2019</th>\n    </tr>\n  </thead>\n  <tbody>\n    <tr>\n      <th>233</th>\n      <td>World</td>\n      <td>coal</td>\n      <td>78.65628042083658</td>\n      <td>78.96407276869913</td>\n      <td>80.42250151969823</td>\n      <td>82.63101739438098</td>\n      <td>86.35626815849287</td>\n      <td>89.40956303455617</td>\n      <td>90.43265631556591</td>\n      <td>94.05082968532112</td>\n      <td>...</td>\n      <td>158.12448895223338</td>\n      <td>166.7014764934442</td>\n      <td>171.73669392982674</td>\n      <td>173.61828745081039</td>\n      <td>172.42014067233737</td>\n      <td>167.89940511651292</td>\n      <td>163.76411477567194</td>\n      <td>164.4690218347296</td>\n      <td>165.86160315821368</td>\n      <td>164.2084676072012</td>\n    </tr>\n    <tr>\n      <th>234</th>\n      <td>Afghanistan</td>\n      <td>coal</td>\n      <td>0.0024792482148388983</td>\n      <td>0.0026042523630414455</td>\n      <td>0.0030209327940489256</td>\n      <td>0.0030209327940489256</td>\n      <td>0.0030834347736486832</td>\n      <td>0.003145936942251473</td>\n      <td>0.0033334430700537776</td>\n      <td>0.0034792812114562443</td>\n      <td>...</td>\n      <td>0.015104663781241597</td>\n      <td>0.03083430993588047</td>\n      <td>0.025834151567899852</td>\n      <td>0.02806338884029121</td>\n      <td>0.031613501281557446</td>\n      <td>0.028438400717889757</td>\n      <td>0.03537612045346286</td>\n      <td>0.04564727910102304</td>\n      <td>0.05093911337380253</td>\n      <td>0.04456391145462724</td>\n    </tr>\n    <tr>\n      <th>235</th>\n      <td>Albania</td>\n      <td>coal</td>\n      <td>0.024317314523581157</td>\n      <td>0.025770486274170428</td>\n      <td>0.029070074678547934</td>\n      <td>0.03146270929689194</td>\n      <td>0.03399786552216729</td>\n      <td>0.03624797855457778</td>\n      <td>0.03566855295477164</td>\n      <td>0.03728748741744574</td>\n      <td>...</td>\n      <td>0.0035249441657845544</td>\n      <td>0.0033113416915863596</td>\n      <td>0.0029688882665851292</td>\n      <td>0.002642520161491151</td>\n      <td>0.003339683613892591</td>\n      <td>0.002822255337070553</td>\n      <td>0.002199419837735592</td>\n      <td>0.002175237164280488</td>\n      <td>0.002180172995948474</td>\n      <td>0.0024943557431554015</td>\n    </tr>\n    <tr>\n      <th>236</th>\n      <td>Algeria</td>\n      <td>coal</td>\n      <td>0.0025473980424690033</td>\n      <td>0.007655064470875166</td>\n      <td>0.020475800605753863</td>\n      <td>0.03321382392874011</td>\n      <td>0.03423572313878258</td>\n      <td>0.03424213176739014</td>\n      <td>0.034610210701987144</td>\n      <td>0.035079318419173874</td>\n      <td>...</td>\n      <td>0.000046554578705383786</td>\n      <td>0.000054955601161265284</td>\n      <td>0.0004334178297892882</td>\n      <td>0.0012596214769158304</td>\n      <td>0.0008353278614203434</td>\n      <td>0.0005769222932545153</td>\n      <td>0.0005752187520015624</td>\n      <td>0.000924225066126768</td>\n      <td>0.00041041788252525746</td>\n      <td>0.00040543921847342187</td>\n    </tr>\n    <tr>\n      <th>237</th>\n      <td>American Samoa</td>\n      <td>coal</td>\n      <td>0</td>\n      <td>0</td>\n      <td>0</td>\n      <td>0</td>\n      <td>0</td>\n      <td>0</td>\n      <td>0</td>\n      <td>0</td>\n      <td>...</td>\n      <td>0</td>\n      <td>0</td>\n      <td>0</td>\n      <td>0</td>\n      <td>0</td>\n      <td>0</td>\n      <td>0</td>\n      <td>0</td>\n      <td>0</td>\n      <td>0</td>\n    </tr>\n    <tr>\n      <th>...</th>\n      <td>...</td>\n      <td>...</td>\n      <td>...</td>\n      <td>...</td>\n      <td>...</td>\n      <td>...</td>\n      <td>...</td>\n      <td>...</td>\n      <td>...</td>\n      <td>...</td>\n      <td>...</td>\n      <td>...</td>\n      <td>...</td>\n      <td>...</td>\n      <td>...</td>\n      <td>...</td>\n      <td>...</td>\n      <td>...</td>\n      <td>...</td>\n      <td>...</td>\n      <td>...</td>\n    </tr>\n    <tr>\n      <th>459</th>\n      <td>Wake Island</td>\n      <td>coal</td>\n      <td>0</td>\n      <td>0</td>\n      <td>0</td>\n      <td>0</td>\n      <td>0</td>\n      <td>0</td>\n      <td>0</td>\n      <td>0</td>\n      <td>...</td>\n      <td>0</td>\n      <td>0</td>\n      <td>0</td>\n      <td>0</td>\n      <td>0</td>\n      <td>0</td>\n      <td>0</td>\n      <td>0</td>\n      <td>0</td>\n      <td>0</td>\n    </tr>\n    <tr>\n      <th>460</th>\n      <td>Western Sahara</td>\n      <td>coal</td>\n      <td>0</td>\n      <td>0</td>\n      <td>0</td>\n      <td>0</td>\n      <td>0</td>\n      <td>0</td>\n      <td>0</td>\n      <td>0</td>\n      <td>...</td>\n      <td>0</td>\n      <td>0</td>\n      <td>0</td>\n      <td>0</td>\n      <td>0</td>\n      <td>0</td>\n      <td>0</td>\n      <td>0</td>\n      <td>0</td>\n      <td>0</td>\n    </tr>\n    <tr>\n      <th>461</th>\n      <td>Yemen</td>\n      <td>coal</td>\n      <td>0</td>\n      <td>0</td>\n      <td>0</td>\n      <td>0</td>\n      <td>0</td>\n      <td>0</td>\n      <td>0</td>\n      <td>0</td>\n      <td>...</td>\n      <td>0.00437591677914764</td>\n      <td>0.00447887952689229</td>\n      <td>0.004581842274636941</td>\n      <td>0.0047877677701262415</td>\n      <td>0.004813508457062404</td>\n      <td>0.004015547162041363</td>\n      <td>0.003474992736381949</td>\n      <td>0.0032690672408926483</td>\n      <td>0.002372697626570008</td>\n      <td>0.0008509773029078125</td>\n    </tr>\n    <tr>\n      <th>462</th>\n      <td>Zambia</td>\n      <td>coal</td>\n      <td>0.015136894032273961</td>\n      <td>0.012094153254484357</td>\n      <td>0.013189697449913943</td>\n      <td>0.011776885530685234</td>\n      <td>0.011356318624572684</td>\n      <td>0.011589222073092067</td>\n      <td>0.012851651910673069</td>\n      <td>0.010866791206443746</td>\n      <td>...</td>\n      <td>0.003154689702533103</td>\n      <td>0.0017497830731440316</td>\n      <td>0.002530572674631151</td>\n      <td>0.0036506641640669996</td>\n      <td>0.0038833591803633235</td>\n      <td>0.004156763505309775</td>\n      <td>0.009056686670882155</td>\n      <td>0.020752247493247774</td>\n      <td>0.03101003454569231</td>\n      <td>0.03415060606327614</td>\n    </tr>\n    <tr>\n      <th>463</th>\n      <td>Zimbabwe</td>\n      <td>coal</td>\n      <td>0.06621009071857202</td>\n      <td>0.06104049502561372</td>\n      <td>0.06327173087484642</td>\n      <td>0.0620723541922124</td>\n      <td>0.06365151161976447</td>\n      <td>0.0746509495847143</td>\n      <td>0.08816084020867075</td>\n      <td>0.11939720256524111</td>\n      <td>...</td>\n      <td>0.07536395752904211</td>\n      <td>0.07511125374398797</td>\n      <td>0.08164290036166781</td>\n      <td>0.0809079665412147</td>\n      <td>0.08185525833607314</td>\n      <td>0.08563815693263413</td>\n      <td>0.07497115055211893</td>\n      <td>0.06313434495256211</td>\n      <td>0.05107844322257112</td>\n      <td>0.04506367279138204</td>\n    </tr>\n  </tbody>\n</table>\n<p>231 rows × 42 columns</p>\n</div>"
     },
     "execution_count": 106,
     "metadata": {},
     "output_type": "execute_result"
    }
   ],
   "source": [
    "coal_con"
   ],
   "metadata": {
    "collapsed": false,
    "pycharm": {
     "name": "#%%\n"
    }
   }
  },
  {
   "cell_type": "code",
   "execution_count": 107,
   "outputs": [
    {
     "data": {
      "text/plain": "                    Country Energy_type                   1980  \\\n233                   World        coal      80.11419429217284   \n234             Afghanistan        coal  0.0023552858074806604   \n235                 Albania        coal   0.013229038633645784   \n236                 Algeria        coal  0.0000759200610490114   \n237          American Samoa        coal                      0   \n..                      ...         ...                    ...   \n459             Wake Island        coal                      0   \n460          Western Sahara        coal                      0   \n461                   Yemen        coal                      0   \n462                  Zambia        coal   0.013940887643917078   \n463                Zimbabwe        coal     0.0683880603526619   \n\n                       1981                    1982                   1983  \\\n233       80.46072857252325       83.39892921243354      83.68635266676536   \n234   0.0024740397484436876    0.002869886158469484   0.002869886158469484   \n235    0.014367221031874504     0.01585991934508173    0.01725932404545147   \n236  0.00024041352665520277  0.00040490699226139416  0.0005694004578675855   \n237                       0                       0                      0   \n..                      ...                     ...                    ...   \n459                       0                       0                      0   \n460                       0                       0                      0   \n461                       0                       0                      0   \n462    0.012427445672371548    0.014806025973126137    0.01108993602526018   \n463     0.06112429959286047      0.0640643934151752    0.06455852663857446   \n\n                      1984                   1985                    1986  \\\n233      87.66942309140777      91.67976259540721       94.04460314569837   \n234  0.0029292630391745574   0.002988640099432511   0.0031667709211006113   \n235    0.01875202227402413   0.020058133276921814     0.02021673252877048   \n236  0.0005757271296216698  0.0005820538013757541  0.00027837355717970846   \n237                      0                      0                       0   \n..                     ...                    ...                     ...   \n459                      0                      0                       0   \n460                      0                      0                       0   \n461                      0                      0                       0   \n462    0.01257289063705352    0.01248247963956641    0.013500519425967932   \n463    0.06715272707002863    0.07668950128504501     0.08862282259732884   \n\n                       1987  ...                    2010  \\\n233       96.27315618601719  ...      154.18564329417617   \n234    0.003305317155631996  ...    0.014349430612794539   \n235    0.019908863462528004  ...  0.00009329352820292374   \n236  0.00024041352665520277  ...                       0   \n237                       0  ...                       0   \n..                      ...  ...                     ...   \n459                       0  ...                       0   \n460                       0  ...                       0   \n461                       0  ...                       0   \n462    0.011320486231343822  ...                       0   \n463     0.12014853242593627  ...     0.06177153821887811   \n\n                       2011                    2012                    2013  \\\n233      164.50258655027486      168.87502547032878       171.4292379737608   \n234    0.029292594481169477    0.024542444024763615    0.026660219436577894   \n235  0.00004664676410146187  0.00006530546974204662  0.00008396417538263138   \n236                       0                       0                       0   \n237                       0                       0                       0   \n..                      ...                     ...                     ...   \n459                       0                       0                       0   \n460                       0                       0                       0   \n461                       0                       0                       0   \n462                       0     0.00220037170449094    0.003647752965039811   \n463      0.0633008791579024     0.03937249952227988     0.07694141441533968   \n\n                       2014                    2015                    2016  \\\n233       170.5717525951305      166.93537676884293      157.08872352111496   \n234    0.030032826260626058    0.027016480720808336     0.03360731447907147   \n235  0.00015533371176268317  0.00022670324814273499  0.00013061093948409325   \n236                       0                       0                       0   \n237                       0                       0                       0   \n..                      ...                     ...                     ...   \n459                       0                       0                       0   \n460                       0                       0                       0   \n461                       0                       0                       0   \n462    0.003893295613831119    0.004021876348058157    0.008067354364426004   \n463     0.14276467506219254     0.10710368376259606     0.04053612596776406   \n\n                      2017                    2018                   2019  \n233     161.47611704294215      167.39449030449197     170.91325027629023  \n234    0.04336491520827184     0.04839215777463471   0.042335715942717234  \n235  0.0001294802219222738  0.00010665580745664692  0.0000889843001352307  \n236                      0                       0                      0  \n237                      0                       0                      0  \n..                     ...                     ...                    ...  \n459                      0                       0                      0  \n460                      0                       0                      0  \n461                      0                       0                      0  \n462   0.019626050091859793    0.028916971158526542    0.03259616191934048  \n463    0.07233915043955558     0.05311167747924148    0.04776061221068363  \n\n[231 rows x 42 columns]",
      "text/html": "<div>\n<style scoped>\n    .dataframe tbody tr th:only-of-type {\n        vertical-align: middle;\n    }\n\n    .dataframe tbody tr th {\n        vertical-align: top;\n    }\n\n    .dataframe thead th {\n        text-align: right;\n    }\n</style>\n<table border=\"1\" class=\"dataframe\">\n  <thead>\n    <tr style=\"text-align: right;\">\n      <th></th>\n      <th>Country</th>\n      <th>Energy_type</th>\n      <th>1980</th>\n      <th>1981</th>\n      <th>1982</th>\n      <th>1983</th>\n      <th>1984</th>\n      <th>1985</th>\n      <th>1986</th>\n      <th>1987</th>\n      <th>...</th>\n      <th>2010</th>\n      <th>2011</th>\n      <th>2012</th>\n      <th>2013</th>\n      <th>2014</th>\n      <th>2015</th>\n      <th>2016</th>\n      <th>2017</th>\n      <th>2018</th>\n      <th>2019</th>\n    </tr>\n  </thead>\n  <tbody>\n    <tr>\n      <th>233</th>\n      <td>World</td>\n      <td>coal</td>\n      <td>80.11419429217284</td>\n      <td>80.46072857252325</td>\n      <td>83.39892921243354</td>\n      <td>83.68635266676536</td>\n      <td>87.66942309140777</td>\n      <td>91.67976259540721</td>\n      <td>94.04460314569837</td>\n      <td>96.27315618601719</td>\n      <td>...</td>\n      <td>154.18564329417617</td>\n      <td>164.50258655027486</td>\n      <td>168.87502547032878</td>\n      <td>171.4292379737608</td>\n      <td>170.5717525951305</td>\n      <td>166.93537676884293</td>\n      <td>157.08872352111496</td>\n      <td>161.47611704294215</td>\n      <td>167.39449030449197</td>\n      <td>170.91325027629023</td>\n    </tr>\n    <tr>\n      <th>234</th>\n      <td>Afghanistan</td>\n      <td>coal</td>\n      <td>0.0023552858074806604</td>\n      <td>0.0024740397484436876</td>\n      <td>0.002869886158469484</td>\n      <td>0.002869886158469484</td>\n      <td>0.0029292630391745574</td>\n      <td>0.002988640099432511</td>\n      <td>0.0031667709211006113</td>\n      <td>0.003305317155631996</td>\n      <td>...</td>\n      <td>0.014349430612794539</td>\n      <td>0.029292594481169477</td>\n      <td>0.024542444024763615</td>\n      <td>0.026660219436577894</td>\n      <td>0.030032826260626058</td>\n      <td>0.027016480720808336</td>\n      <td>0.03360731447907147</td>\n      <td>0.04336491520827184</td>\n      <td>0.04839215777463471</td>\n      <td>0.042335715942717234</td>\n    </tr>\n    <tr>\n      <th>235</th>\n      <td>Albania</td>\n      <td>coal</td>\n      <td>0.013229038633645784</td>\n      <td>0.014367221031874504</td>\n      <td>0.01585991934508173</td>\n      <td>0.01725932404545147</td>\n      <td>0.01875202227402413</td>\n      <td>0.020058133276921814</td>\n      <td>0.02021673252877048</td>\n      <td>0.019908863462528004</td>\n      <td>...</td>\n      <td>0.00009329352820292374</td>\n      <td>0.00004664676410146187</td>\n      <td>0.00006530546974204662</td>\n      <td>0.00008396417538263138</td>\n      <td>0.00015533371176268317</td>\n      <td>0.00022670324814273499</td>\n      <td>0.00013061093948409325</td>\n      <td>0.0001294802219222738</td>\n      <td>0.00010665580745664692</td>\n      <td>0.0000889843001352307</td>\n    </tr>\n    <tr>\n      <th>236</th>\n      <td>Algeria</td>\n      <td>coal</td>\n      <td>0.0000759200610490114</td>\n      <td>0.00024041352665520277</td>\n      <td>0.00040490699226139416</td>\n      <td>0.0005694004578675855</td>\n      <td>0.0005757271296216698</td>\n      <td>0.0005820538013757541</td>\n      <td>0.00027837355717970846</td>\n      <td>0.00024041352665520277</td>\n      <td>...</td>\n      <td>0</td>\n      <td>0</td>\n      <td>0</td>\n      <td>0</td>\n      <td>0</td>\n      <td>0</td>\n      <td>0</td>\n      <td>0</td>\n      <td>0</td>\n      <td>0</td>\n    </tr>\n    <tr>\n      <th>237</th>\n      <td>American Samoa</td>\n      <td>coal</td>\n      <td>0</td>\n      <td>0</td>\n      <td>0</td>\n      <td>0</td>\n      <td>0</td>\n      <td>0</td>\n      <td>0</td>\n      <td>0</td>\n      <td>...</td>\n      <td>0</td>\n      <td>0</td>\n      <td>0</td>\n      <td>0</td>\n      <td>0</td>\n      <td>0</td>\n      <td>0</td>\n      <td>0</td>\n      <td>0</td>\n      <td>0</td>\n    </tr>\n    <tr>\n      <th>...</th>\n      <td>...</td>\n      <td>...</td>\n      <td>...</td>\n      <td>...</td>\n      <td>...</td>\n      <td>...</td>\n      <td>...</td>\n      <td>...</td>\n      <td>...</td>\n      <td>...</td>\n      <td>...</td>\n      <td>...</td>\n      <td>...</td>\n      <td>...</td>\n      <td>...</td>\n      <td>...</td>\n      <td>...</td>\n      <td>...</td>\n      <td>...</td>\n      <td>...</td>\n      <td>...</td>\n    </tr>\n    <tr>\n      <th>459</th>\n      <td>Wake Island</td>\n      <td>coal</td>\n      <td>0</td>\n      <td>0</td>\n      <td>0</td>\n      <td>0</td>\n      <td>0</td>\n      <td>0</td>\n      <td>0</td>\n      <td>0</td>\n      <td>...</td>\n      <td>0</td>\n      <td>0</td>\n      <td>0</td>\n      <td>0</td>\n      <td>0</td>\n      <td>0</td>\n      <td>0</td>\n      <td>0</td>\n      <td>0</td>\n      <td>0</td>\n    </tr>\n    <tr>\n      <th>460</th>\n      <td>Western Sahara</td>\n      <td>coal</td>\n      <td>0</td>\n      <td>0</td>\n      <td>0</td>\n      <td>0</td>\n      <td>0</td>\n      <td>0</td>\n      <td>0</td>\n      <td>0</td>\n      <td>...</td>\n      <td>0</td>\n      <td>0</td>\n      <td>0</td>\n      <td>0</td>\n      <td>0</td>\n      <td>0</td>\n      <td>0</td>\n      <td>0</td>\n      <td>0</td>\n      <td>0</td>\n    </tr>\n    <tr>\n      <th>461</th>\n      <td>Yemen</td>\n      <td>coal</td>\n      <td>0</td>\n      <td>0</td>\n      <td>0</td>\n      <td>0</td>\n      <td>0</td>\n      <td>0</td>\n      <td>0</td>\n      <td>0</td>\n      <td>...</td>\n      <td>0</td>\n      <td>0</td>\n      <td>0</td>\n      <td>0</td>\n      <td>0</td>\n      <td>0</td>\n      <td>0</td>\n      <td>0</td>\n      <td>0</td>\n      <td>0</td>\n    </tr>\n    <tr>\n      <th>462</th>\n      <td>Zambia</td>\n      <td>coal</td>\n      <td>0.013940887643917078</td>\n      <td>0.012427445672371548</td>\n      <td>0.014806025973126137</td>\n      <td>0.01108993602526018</td>\n      <td>0.01257289063705352</td>\n      <td>0.01248247963956641</td>\n      <td>0.013500519425967932</td>\n      <td>0.011320486231343822</td>\n      <td>...</td>\n      <td>0</td>\n      <td>0</td>\n      <td>0.00220037170449094</td>\n      <td>0.003647752965039811</td>\n      <td>0.003893295613831119</td>\n      <td>0.004021876348058157</td>\n      <td>0.008067354364426004</td>\n      <td>0.019626050091859793</td>\n      <td>0.028916971158526542</td>\n      <td>0.03259616191934048</td>\n    </tr>\n    <tr>\n      <th>463</th>\n      <td>Zimbabwe</td>\n      <td>coal</td>\n      <td>0.0683880603526619</td>\n      <td>0.06112429959286047</td>\n      <td>0.0640643934151752</td>\n      <td>0.06455852663857446</td>\n      <td>0.06715272707002863</td>\n      <td>0.07668950128504501</td>\n      <td>0.08862282259732884</td>\n      <td>0.12014853242593627</td>\n      <td>...</td>\n      <td>0.06177153821887811</td>\n      <td>0.0633008791579024</td>\n      <td>0.03937249952227988</td>\n      <td>0.07694141441533968</td>\n      <td>0.14276467506219254</td>\n      <td>0.10710368376259606</td>\n      <td>0.04053612596776406</td>\n      <td>0.07233915043955558</td>\n      <td>0.05311167747924148</td>\n      <td>0.04776061221068363</td>\n    </tr>\n  </tbody>\n</table>\n<p>231 rows × 42 columns</p>\n</div>"
     },
     "execution_count": 107,
     "metadata": {},
     "output_type": "execute_result"
    }
   ],
   "source": [
    "coal_prod"
   ],
   "metadata": {
    "collapsed": false,
    "pycharm": {
     "name": "#%%\n"
    }
   }
  },
  {
   "cell_type": "code",
   "execution_count": 108,
   "outputs": [
    {
     "data": {
      "text/plain": "                    Country                    Energy_type  \\\n1                     World  energy_consumption_per_capita   \n2               Afghanistan  energy_consumption_per_capita   \n3                   Albania  energy_consumption_per_capita   \n4                   Algeria  energy_consumption_per_capita   \n5            American Samoa  energy_consumption_per_capita   \n..                      ...                            ...   \n227             Wake Island  energy_consumption_per_capita   \n228          Western Sahara  energy_consumption_per_capita   \n229                   Yemen  energy_consumption_per_capita   \n230                  Zambia  energy_consumption_per_capita   \n231                Zimbabwe  energy_consumption_per_capita   \n\n                   1980                1981                1982  \\\n1      68.1459548678342   66.11779195371682   64.99939955926463   \n2    1.9902831338720353  2.2737731366371663   2.476057805069556   \n3    60.752906333637476   59.20471634727863  58.361926760819614   \n4     40.61530286672366   33.46354339032917    46.5551641047492   \n5     180.5156037493108  205.52735082045044   276.1121453900709   \n..                  ...                 ...                 ...   \n227                   0                   0                   0   \n228                   0                   0                   0   \n229  12.023856541260635  11.825640810375528   13.37893325948553   \n230  22.747916019233678  21.877840907717573   21.60736547262854   \n231  19.095618777288486  18.548025939146072   16.95187068007748   \n\n                   1983                1984                1985  \\\n1     64.73001551716604   67.18740371473154   67.72669736181508   \n2      3.11235738067043   3.212166236643484   3.206091479049969   \n3     59.52323005683565   58.67682750151277   57.26436102552498   \n4     50.73295974373409   51.95770520367143   46.64949943908242   \n5    167.16753405470723  183.03520529173036  164.64715073761988   \n..                  ...                 ...                 ...   \n227                   0                   0                   0   \n228                   0                   0                   0   \n229  11.930130300453301  14.280471070455958   15.25478718668517   \n230  20.799905583861577   19.46846127888287   18.66665089468799   \n231   16.87717131042337   16.27430877472367   16.49451626355122   \n\n                   1986                1987  ...                2010  \\\n1     67.89798545851839   68.81176088259464  ...   75.85021734387001   \n2     3.332526591235134   5.434543297122344  ...   4.061555520719247   \n3    54.554686870223655  53.326846191744856  ...   41.73771071625683   \n4    46.155419424041966   47.88021745831313  ...  49.413253929302826   \n5    163.34502298207642   163.1494822999532  ...  153.47911874320155   \n..                  ...                 ...  ...                 ...   \n227                   0                   0  ...                   0   \n228                   0                   0  ...                   0   \n229  14.135172164046232   13.50001404766518  ...  14.697440389980297   \n230   17.99726743613171  16.170192226795223  ...   9.574452142182206   \n231   17.80253873742956  19.411589301914365  ...   12.39586887591247   \n\n                   2011                2012                2013  \\\n1     76.81301793921361   77.45018264495602   77.17074501779302   \n2     5.347433782037638   4.736874741480483  3.8582527606273733   \n3    36.684247231169316  36.075733185359105   45.43411116658544   \n4    52.861873082392634  56.125875710745674   53.42370884022648   \n5     88.08459434095352    88.4719067497301   88.15732227410527   \n..                  ...                 ...                 ...   \n227                   0                   0                   0   \n228                   0                   0                   0   \n229   12.01045336498422   10.12405147950513  13.904941263896283   \n230  10.407155811456462   10.84024604027509  11.139359845692802   \n231  13.307897638432797  14.173906944844333  14.153801828246017   \n\n                   2014                2015                2016  \\\n1     76.90143146117923   76.24857246626453   76.04634169493572   \n2    3.4255622019929817  3.6697740511736567    3.32294192971859   \n3     40.12567468285529    40.2340417763733   44.90231275511119   \n4     59.08736571185966   59.19709604738706  57.609648342121254   \n5     88.03407172944071     88.000915373486   88.35445012791303   \n..                  ...                 ...                 ...   \n227                   0                   0                   0   \n228                   0                   0                   0   \n229  12.817469070957166   6.743885590814418    5.26422758031014   \n230  11.588748947578106  10.875946387762607   9.953336227194274   \n231  13.713009567502988  13.498561489215366  11.349063904103385   \n\n                   2017                2018                2019  \n1     76.74242174383677   77.59177446964536   77.21384657054325  \n2    3.4422777418168047  3.8541735230994862   3.225900605229116  \n3    43.462449016341786   49.33449257004024    38.4553185271436  \n4     57.04872044051388   59.60163688886581  61.433374033951914  \n5     88.30472664183095   88.55149906821667   88.79644373406562  \n..                  ...                 ...                 ...  \n227                   0                   0                   0  \n228                   0                   0                   0  \n229  4.7417183975416615   4.307652600577925   5.452938019556406  \n230  11.146889846813012  12.169115443677525  11.586566793571398  \n231  11.009672773449912  11.221714715012586  11.547221559136965  \n\n[231 rows x 42 columns]",
      "text/html": "<div>\n<style scoped>\n    .dataframe tbody tr th:only-of-type {\n        vertical-align: middle;\n    }\n\n    .dataframe tbody tr th {\n        vertical-align: top;\n    }\n\n    .dataframe thead th {\n        text-align: right;\n    }\n</style>\n<table border=\"1\" class=\"dataframe\">\n  <thead>\n    <tr style=\"text-align: right;\">\n      <th></th>\n      <th>Country</th>\n      <th>Energy_type</th>\n      <th>1980</th>\n      <th>1981</th>\n      <th>1982</th>\n      <th>1983</th>\n      <th>1984</th>\n      <th>1985</th>\n      <th>1986</th>\n      <th>1987</th>\n      <th>...</th>\n      <th>2010</th>\n      <th>2011</th>\n      <th>2012</th>\n      <th>2013</th>\n      <th>2014</th>\n      <th>2015</th>\n      <th>2016</th>\n      <th>2017</th>\n      <th>2018</th>\n      <th>2019</th>\n    </tr>\n  </thead>\n  <tbody>\n    <tr>\n      <th>1</th>\n      <td>World</td>\n      <td>energy_consumption_per_capita</td>\n      <td>68.1459548678342</td>\n      <td>66.11779195371682</td>\n      <td>64.99939955926463</td>\n      <td>64.73001551716604</td>\n      <td>67.18740371473154</td>\n      <td>67.72669736181508</td>\n      <td>67.89798545851839</td>\n      <td>68.81176088259464</td>\n      <td>...</td>\n      <td>75.85021734387001</td>\n      <td>76.81301793921361</td>\n      <td>77.45018264495602</td>\n      <td>77.17074501779302</td>\n      <td>76.90143146117923</td>\n      <td>76.24857246626453</td>\n      <td>76.04634169493572</td>\n      <td>76.74242174383677</td>\n      <td>77.59177446964536</td>\n      <td>77.21384657054325</td>\n    </tr>\n    <tr>\n      <th>2</th>\n      <td>Afghanistan</td>\n      <td>energy_consumption_per_capita</td>\n      <td>1.9902831338720353</td>\n      <td>2.2737731366371663</td>\n      <td>2.476057805069556</td>\n      <td>3.11235738067043</td>\n      <td>3.212166236643484</td>\n      <td>3.206091479049969</td>\n      <td>3.332526591235134</td>\n      <td>5.434543297122344</td>\n      <td>...</td>\n      <td>4.061555520719247</td>\n      <td>5.347433782037638</td>\n      <td>4.736874741480483</td>\n      <td>3.8582527606273733</td>\n      <td>3.4255622019929817</td>\n      <td>3.6697740511736567</td>\n      <td>3.32294192971859</td>\n      <td>3.4422777418168047</td>\n      <td>3.8541735230994862</td>\n      <td>3.225900605229116</td>\n    </tr>\n    <tr>\n      <th>3</th>\n      <td>Albania</td>\n      <td>energy_consumption_per_capita</td>\n      <td>60.752906333637476</td>\n      <td>59.20471634727863</td>\n      <td>58.361926760819614</td>\n      <td>59.52323005683565</td>\n      <td>58.67682750151277</td>\n      <td>57.26436102552498</td>\n      <td>54.554686870223655</td>\n      <td>53.326846191744856</td>\n      <td>...</td>\n      <td>41.73771071625683</td>\n      <td>36.684247231169316</td>\n      <td>36.075733185359105</td>\n      <td>45.43411116658544</td>\n      <td>40.12567468285529</td>\n      <td>40.2340417763733</td>\n      <td>44.90231275511119</td>\n      <td>43.462449016341786</td>\n      <td>49.33449257004024</td>\n      <td>38.4553185271436</td>\n    </tr>\n    <tr>\n      <th>4</th>\n      <td>Algeria</td>\n      <td>energy_consumption_per_capita</td>\n      <td>40.61530286672366</td>\n      <td>33.46354339032917</td>\n      <td>46.5551641047492</td>\n      <td>50.73295974373409</td>\n      <td>51.95770520367143</td>\n      <td>46.64949943908242</td>\n      <td>46.155419424041966</td>\n      <td>47.88021745831313</td>\n      <td>...</td>\n      <td>49.413253929302826</td>\n      <td>52.861873082392634</td>\n      <td>56.125875710745674</td>\n      <td>53.42370884022648</td>\n      <td>59.08736571185966</td>\n      <td>59.19709604738706</td>\n      <td>57.609648342121254</td>\n      <td>57.04872044051388</td>\n      <td>59.60163688886581</td>\n      <td>61.433374033951914</td>\n    </tr>\n    <tr>\n      <th>5</th>\n      <td>American Samoa</td>\n      <td>energy_consumption_per_capita</td>\n      <td>180.5156037493108</td>\n      <td>205.52735082045044</td>\n      <td>276.1121453900709</td>\n      <td>167.16753405470723</td>\n      <td>183.03520529173036</td>\n      <td>164.64715073761988</td>\n      <td>163.34502298207642</td>\n      <td>163.1494822999532</td>\n      <td>...</td>\n      <td>153.47911874320155</td>\n      <td>88.08459434095352</td>\n      <td>88.4719067497301</td>\n      <td>88.15732227410527</td>\n      <td>88.03407172944071</td>\n      <td>88.000915373486</td>\n      <td>88.35445012791303</td>\n      <td>88.30472664183095</td>\n      <td>88.55149906821667</td>\n      <td>88.79644373406562</td>\n    </tr>\n    <tr>\n      <th>...</th>\n      <td>...</td>\n      <td>...</td>\n      <td>...</td>\n      <td>...</td>\n      <td>...</td>\n      <td>...</td>\n      <td>...</td>\n      <td>...</td>\n      <td>...</td>\n      <td>...</td>\n      <td>...</td>\n      <td>...</td>\n      <td>...</td>\n      <td>...</td>\n      <td>...</td>\n      <td>...</td>\n      <td>...</td>\n      <td>...</td>\n      <td>...</td>\n      <td>...</td>\n      <td>...</td>\n    </tr>\n    <tr>\n      <th>227</th>\n      <td>Wake Island</td>\n      <td>energy_consumption_per_capita</td>\n      <td>0</td>\n      <td>0</td>\n      <td>0</td>\n      <td>0</td>\n      <td>0</td>\n      <td>0</td>\n      <td>0</td>\n      <td>0</td>\n      <td>...</td>\n      <td>0</td>\n      <td>0</td>\n      <td>0</td>\n      <td>0</td>\n      <td>0</td>\n      <td>0</td>\n      <td>0</td>\n      <td>0</td>\n      <td>0</td>\n      <td>0</td>\n    </tr>\n    <tr>\n      <th>228</th>\n      <td>Western Sahara</td>\n      <td>energy_consumption_per_capita</td>\n      <td>0</td>\n      <td>0</td>\n      <td>0</td>\n      <td>0</td>\n      <td>0</td>\n      <td>0</td>\n      <td>0</td>\n      <td>0</td>\n      <td>...</td>\n      <td>0</td>\n      <td>0</td>\n      <td>0</td>\n      <td>0</td>\n      <td>0</td>\n      <td>0</td>\n      <td>0</td>\n      <td>0</td>\n      <td>0</td>\n      <td>0</td>\n    </tr>\n    <tr>\n      <th>229</th>\n      <td>Yemen</td>\n      <td>energy_consumption_per_capita</td>\n      <td>12.023856541260635</td>\n      <td>11.825640810375528</td>\n      <td>13.37893325948553</td>\n      <td>11.930130300453301</td>\n      <td>14.280471070455958</td>\n      <td>15.25478718668517</td>\n      <td>14.135172164046232</td>\n      <td>13.50001404766518</td>\n      <td>...</td>\n      <td>14.697440389980297</td>\n      <td>12.01045336498422</td>\n      <td>10.12405147950513</td>\n      <td>13.904941263896283</td>\n      <td>12.817469070957166</td>\n      <td>6.743885590814418</td>\n      <td>5.26422758031014</td>\n      <td>4.7417183975416615</td>\n      <td>4.307652600577925</td>\n      <td>5.452938019556406</td>\n    </tr>\n    <tr>\n      <th>230</th>\n      <td>Zambia</td>\n      <td>energy_consumption_per_capita</td>\n      <td>22.747916019233678</td>\n      <td>21.877840907717573</td>\n      <td>21.60736547262854</td>\n      <td>20.799905583861577</td>\n      <td>19.46846127888287</td>\n      <td>18.66665089468799</td>\n      <td>17.99726743613171</td>\n      <td>16.170192226795223</td>\n      <td>...</td>\n      <td>9.574452142182206</td>\n      <td>10.407155811456462</td>\n      <td>10.84024604027509</td>\n      <td>11.139359845692802</td>\n      <td>11.588748947578106</td>\n      <td>10.875946387762607</td>\n      <td>9.953336227194274</td>\n      <td>11.146889846813012</td>\n      <td>12.169115443677525</td>\n      <td>11.586566793571398</td>\n    </tr>\n    <tr>\n      <th>231</th>\n      <td>Zimbabwe</td>\n      <td>energy_consumption_per_capita</td>\n      <td>19.095618777288486</td>\n      <td>18.548025939146072</td>\n      <td>16.95187068007748</td>\n      <td>16.87717131042337</td>\n      <td>16.27430877472367</td>\n      <td>16.49451626355122</td>\n      <td>17.80253873742956</td>\n      <td>19.411589301914365</td>\n      <td>...</td>\n      <td>12.39586887591247</td>\n      <td>13.307897638432797</td>\n      <td>14.173906944844333</td>\n      <td>14.153801828246017</td>\n      <td>13.713009567502988</td>\n      <td>13.498561489215366</td>\n      <td>11.349063904103385</td>\n      <td>11.009672773449912</td>\n      <td>11.221714715012586</td>\n      <td>11.547221559136965</td>\n    </tr>\n  </tbody>\n</table>\n<p>231 rows × 42 columns</p>\n</div>"
     },
     "execution_count": 108,
     "metadata": {},
     "output_type": "execute_result"
    }
   ],
   "source": [
    "energy_consumption_per_capita"
   ],
   "metadata": {
    "collapsed": false,
    "pycharm": {
     "name": "#%%\n"
    }
   }
  },
  {
   "cell_type": "code",
   "execution_count": 109,
   "outputs": [
    {
     "data": {
      "text/plain": "                    Country    Energy_type        1980             1981  \\\n1                     World  CO2_emissions  4946.62713  18701.988660053   \n2               Afghanistan  CO2_emissions         NaN      1.325964518   \n3                   Albania  CO2_emissions         NaN      9.618526399   \n4                   Algeria  CO2_emissions         NaN     45.663590904   \n5            American Samoa  CO2_emissions         NaN      0.425070708   \n..                      ...            ...         ...              ...   \n227             Wake Island  CO2_emissions         NaN          1.23566   \n228          Western Sahara  CO2_emissions         NaN          0.15699   \n229                   Yemen  CO2_emissions         NaN          6.43422   \n230                  Zambia  CO2_emissions         NaN       3.62725204   \n231                Zimbabwe  CO2_emissions         NaN      7.673434383   \n\n                1982             1983             1984             1985  \\\n1    18327.455974396  18284.018922293  18478.503517135  20118.811365854   \n2        1.509627735       1.65960468       2.05960468      2.065436114   \n3        9.533068754      9.594264089      9.981384922     10.126808525   \n4       39.376193382     56.531989464     63.168954306     66.766862302   \n5        0.499607404      0.696422442      0.439048931      0.500976192   \n..               ...              ...              ...              ...   \n227              1.2              1.2              1.2              1.2   \n228              0.2              0.2              0.2              0.2   \n229              6.6              7.7                7              8.9   \n230      3.130211794      3.231777522      3.099228588      2.860020567   \n231      7.531253431      7.332897573      7.584832144      7.783562489   \n\n                1986             1987  ...             2010             2011  \\\n1    20531.213799098  21064.157108403  ...  31639.876165687  33609.984153055   \n2        2.093515917      2.311010238  ...      6.230759779      7.794436305   \n3         10.0889756     10.154939541  ...       3.02339894      3.673558222   \n4       61.757201027     60.918466391  ...     99.380185852    101.352896736   \n5        0.469328168      0.484467786  ...      0.601936254      0.601936254   \n..               ...              ...  ...              ...              ...   \n227              1.2              1.3  ...              1.3      1.295447529   \n228              0.2              0.2  ...              0.3              0.3   \n229              9.9               10  ...     20.948010277     24.339585376   \n230      2.781549986      2.999671558  ...      2.364738092      2.294449236   \n231      9.060527367     10.726554045  ...      7.395101269      8.522609295   \n\n                2012             2013             2014             2015  \\\n1    34720.267922662  35537.365120578  35944.451742368  35976.723878385   \n2       11.097938929      9.753422695      7.910700222      7.169380063   \n3        3.756730087      3.393630544      3.857129766      4.043419507   \n4      112.488751213    122.016837732    118.720563943    131.695938497   \n5         0.35542766      0.356401475       0.35542766       0.35542766   \n..               ...              ...              ...              ...   \n227      1.297896871      1.301452752      1.297896871      1.297896871   \n228      0.267664006      0.260806065       0.26892239        0.2684852   \n229     20.318221681     17.044172859     23.975684299     22.354079518   \n230      2.446639655      2.930656509      3.170716329      3.611288509   \n231      9.921276072     10.923623604     11.587550012     11.298057097   \n\n                2016             2017             2018             2019  \n1    35781.370769103  35117.963601548  35887.898987724  36638.369585101  \n2        7.852509211      7.279395964      7.886124149      9.391163087  \n3        3.913785734      4.105771205      4.483725681      4.031246029  \n4      138.622437629    137.190705524    137.678348102    145.987969135  \n5         0.35542766      0.355427692       0.35542766       0.35542766  \n..               ...              ...              ...              ...  \n227      1.297896871      1.298108468      1.271954959      1.273786855  \n228         0.270403         0.269783       0.26303824       0.26303824  \n229     11.979031441      9.687529038      9.043446352      8.368931695  \n230      3.940613316      4.228833733      5.687526839       7.09628982  \n231      11.82044929     10.417493607      9.243045568      8.966856508  \n\n[231 rows x 42 columns]",
      "text/html": "<div>\n<style scoped>\n    .dataframe tbody tr th:only-of-type {\n        vertical-align: middle;\n    }\n\n    .dataframe tbody tr th {\n        vertical-align: top;\n    }\n\n    .dataframe thead th {\n        text-align: right;\n    }\n</style>\n<table border=\"1\" class=\"dataframe\">\n  <thead>\n    <tr style=\"text-align: right;\">\n      <th></th>\n      <th>Country</th>\n      <th>Energy_type</th>\n      <th>1980</th>\n      <th>1981</th>\n      <th>1982</th>\n      <th>1983</th>\n      <th>1984</th>\n      <th>1985</th>\n      <th>1986</th>\n      <th>1987</th>\n      <th>...</th>\n      <th>2010</th>\n      <th>2011</th>\n      <th>2012</th>\n      <th>2013</th>\n      <th>2014</th>\n      <th>2015</th>\n      <th>2016</th>\n      <th>2017</th>\n      <th>2018</th>\n      <th>2019</th>\n    </tr>\n  </thead>\n  <tbody>\n    <tr>\n      <th>1</th>\n      <td>World</td>\n      <td>CO2_emissions</td>\n      <td>4946.62713</td>\n      <td>18701.988660053</td>\n      <td>18327.455974396</td>\n      <td>18284.018922293</td>\n      <td>18478.503517135</td>\n      <td>20118.811365854</td>\n      <td>20531.213799098</td>\n      <td>21064.157108403</td>\n      <td>...</td>\n      <td>31639.876165687</td>\n      <td>33609.984153055</td>\n      <td>34720.267922662</td>\n      <td>35537.365120578</td>\n      <td>35944.451742368</td>\n      <td>35976.723878385</td>\n      <td>35781.370769103</td>\n      <td>35117.963601548</td>\n      <td>35887.898987724</td>\n      <td>36638.369585101</td>\n    </tr>\n    <tr>\n      <th>2</th>\n      <td>Afghanistan</td>\n      <td>CO2_emissions</td>\n      <td>NaN</td>\n      <td>1.325964518</td>\n      <td>1.509627735</td>\n      <td>1.65960468</td>\n      <td>2.05960468</td>\n      <td>2.065436114</td>\n      <td>2.093515917</td>\n      <td>2.311010238</td>\n      <td>...</td>\n      <td>6.230759779</td>\n      <td>7.794436305</td>\n      <td>11.097938929</td>\n      <td>9.753422695</td>\n      <td>7.910700222</td>\n      <td>7.169380063</td>\n      <td>7.852509211</td>\n      <td>7.279395964</td>\n      <td>7.886124149</td>\n      <td>9.391163087</td>\n    </tr>\n    <tr>\n      <th>3</th>\n      <td>Albania</td>\n      <td>CO2_emissions</td>\n      <td>NaN</td>\n      <td>9.618526399</td>\n      <td>9.533068754</td>\n      <td>9.594264089</td>\n      <td>9.981384922</td>\n      <td>10.126808525</td>\n      <td>10.0889756</td>\n      <td>10.154939541</td>\n      <td>...</td>\n      <td>3.02339894</td>\n      <td>3.673558222</td>\n      <td>3.756730087</td>\n      <td>3.393630544</td>\n      <td>3.857129766</td>\n      <td>4.043419507</td>\n      <td>3.913785734</td>\n      <td>4.105771205</td>\n      <td>4.483725681</td>\n      <td>4.031246029</td>\n    </tr>\n    <tr>\n      <th>4</th>\n      <td>Algeria</td>\n      <td>CO2_emissions</td>\n      <td>NaN</td>\n      <td>45.663590904</td>\n      <td>39.376193382</td>\n      <td>56.531989464</td>\n      <td>63.168954306</td>\n      <td>66.766862302</td>\n      <td>61.757201027</td>\n      <td>60.918466391</td>\n      <td>...</td>\n      <td>99.380185852</td>\n      <td>101.352896736</td>\n      <td>112.488751213</td>\n      <td>122.016837732</td>\n      <td>118.720563943</td>\n      <td>131.695938497</td>\n      <td>138.622437629</td>\n      <td>137.190705524</td>\n      <td>137.678348102</td>\n      <td>145.987969135</td>\n    </tr>\n    <tr>\n      <th>5</th>\n      <td>American Samoa</td>\n      <td>CO2_emissions</td>\n      <td>NaN</td>\n      <td>0.425070708</td>\n      <td>0.499607404</td>\n      <td>0.696422442</td>\n      <td>0.439048931</td>\n      <td>0.500976192</td>\n      <td>0.469328168</td>\n      <td>0.484467786</td>\n      <td>...</td>\n      <td>0.601936254</td>\n      <td>0.601936254</td>\n      <td>0.35542766</td>\n      <td>0.356401475</td>\n      <td>0.35542766</td>\n      <td>0.35542766</td>\n      <td>0.35542766</td>\n      <td>0.355427692</td>\n      <td>0.35542766</td>\n      <td>0.35542766</td>\n    </tr>\n    <tr>\n      <th>...</th>\n      <td>...</td>\n      <td>...</td>\n      <td>...</td>\n      <td>...</td>\n      <td>...</td>\n      <td>...</td>\n      <td>...</td>\n      <td>...</td>\n      <td>...</td>\n      <td>...</td>\n      <td>...</td>\n      <td>...</td>\n      <td>...</td>\n      <td>...</td>\n      <td>...</td>\n      <td>...</td>\n      <td>...</td>\n      <td>...</td>\n      <td>...</td>\n      <td>...</td>\n      <td>...</td>\n    </tr>\n    <tr>\n      <th>227</th>\n      <td>Wake Island</td>\n      <td>CO2_emissions</td>\n      <td>NaN</td>\n      <td>1.23566</td>\n      <td>1.2</td>\n      <td>1.2</td>\n      <td>1.2</td>\n      <td>1.2</td>\n      <td>1.2</td>\n      <td>1.3</td>\n      <td>...</td>\n      <td>1.3</td>\n      <td>1.295447529</td>\n      <td>1.297896871</td>\n      <td>1.301452752</td>\n      <td>1.297896871</td>\n      <td>1.297896871</td>\n      <td>1.297896871</td>\n      <td>1.298108468</td>\n      <td>1.271954959</td>\n      <td>1.273786855</td>\n    </tr>\n    <tr>\n      <th>228</th>\n      <td>Western Sahara</td>\n      <td>CO2_emissions</td>\n      <td>NaN</td>\n      <td>0.15699</td>\n      <td>0.2</td>\n      <td>0.2</td>\n      <td>0.2</td>\n      <td>0.2</td>\n      <td>0.2</td>\n      <td>0.2</td>\n      <td>...</td>\n      <td>0.3</td>\n      <td>0.3</td>\n      <td>0.267664006</td>\n      <td>0.260806065</td>\n      <td>0.26892239</td>\n      <td>0.2684852</td>\n      <td>0.270403</td>\n      <td>0.269783</td>\n      <td>0.26303824</td>\n      <td>0.26303824</td>\n    </tr>\n    <tr>\n      <th>229</th>\n      <td>Yemen</td>\n      <td>CO2_emissions</td>\n      <td>NaN</td>\n      <td>6.43422</td>\n      <td>6.6</td>\n      <td>7.7</td>\n      <td>7</td>\n      <td>8.9</td>\n      <td>9.9</td>\n      <td>10</td>\n      <td>...</td>\n      <td>20.948010277</td>\n      <td>24.339585376</td>\n      <td>20.318221681</td>\n      <td>17.044172859</td>\n      <td>23.975684299</td>\n      <td>22.354079518</td>\n      <td>11.979031441</td>\n      <td>9.687529038</td>\n      <td>9.043446352</td>\n      <td>8.368931695</td>\n    </tr>\n    <tr>\n      <th>230</th>\n      <td>Zambia</td>\n      <td>CO2_emissions</td>\n      <td>NaN</td>\n      <td>3.62725204</td>\n      <td>3.130211794</td>\n      <td>3.231777522</td>\n      <td>3.099228588</td>\n      <td>2.860020567</td>\n      <td>2.781549986</td>\n      <td>2.999671558</td>\n      <td>...</td>\n      <td>2.364738092</td>\n      <td>2.294449236</td>\n      <td>2.446639655</td>\n      <td>2.930656509</td>\n      <td>3.170716329</td>\n      <td>3.611288509</td>\n      <td>3.940613316</td>\n      <td>4.228833733</td>\n      <td>5.687526839</td>\n      <td>7.09628982</td>\n    </tr>\n    <tr>\n      <th>231</th>\n      <td>Zimbabwe</td>\n      <td>CO2_emissions</td>\n      <td>NaN</td>\n      <td>7.673434383</td>\n      <td>7.531253431</td>\n      <td>7.332897573</td>\n      <td>7.584832144</td>\n      <td>7.783562489</td>\n      <td>9.060527367</td>\n      <td>10.726554045</td>\n      <td>...</td>\n      <td>7.395101269</td>\n      <td>8.522609295</td>\n      <td>9.921276072</td>\n      <td>10.923623604</td>\n      <td>11.587550012</td>\n      <td>11.298057097</td>\n      <td>11.82044929</td>\n      <td>10.417493607</td>\n      <td>9.243045568</td>\n      <td>8.966856508</td>\n    </tr>\n  </tbody>\n</table>\n<p>231 rows × 42 columns</p>\n</div>"
     },
     "execution_count": 109,
     "metadata": {},
     "output_type": "execute_result"
    }
   ],
   "source": [
    "CO2_emissions"
   ],
   "metadata": {
    "collapsed": false,
    "pycharm": {
     "name": "#%%\n"
    }
   }
  },
  {
   "cell_type": "markdown",
   "source": [
    "#### Joining econ and eprods temporary datasets back into single datsets"
   ],
   "metadata": {
    "collapsed": false
   }
  },
  {
   "cell_type": "code",
   "execution_count": 110,
   "outputs": [],
   "source": [
    "econ = pd.concat([total_con, coal_con, natural_gas_con, petroleum_n_other_liquids_con, nuclear_con, renewables_n_other_con])\n",
    "\n",
    "eprod = pd.concat([total_prod, coal_prod, natural_gas_prod, petroleum_n_other_liquids_prod, nuclear_prod, renewables_n_other_prod])"
   ],
   "metadata": {
    "collapsed": false,
    "pycharm": {
     "name": "#%%\n"
    }
   }
  },
  {
   "cell_type": "code",
   "execution_count": 111,
   "outputs": [
    {
     "data": {
      "text/plain": "                     Country         Energy_type                  1980  \\\n1                      World    all_energy_types     292.8999360117116   \n2                Afghanistan    all_energy_types   0.02658321667756184   \n3                    Albania    all_energy_types   0.16298182182124926   \n4                    Algeria    all_energy_types    0.7806951671133022   \n5             American Samoa    all_energy_types          0.0058931124   \n...                      ...                 ...                   ...   \n1619             Wake Island  renewables_n_other                     0   \n1620          Western Sahara  renewables_n_other                     0   \n1621                   Yemen  renewables_n_other                     0   \n1622                  Zambia  renewables_n_other       0.0842504416429   \n1623                Zimbabwe  renewables_n_other  0.048444954208071205   \n\n                      1981                  1982                 1983  \\\n1       289.40151331082484    289.69127227568276    293.7314691613172   \n2     0.029949457623843767  0.031897814673808554  0.03902180313163165   \n3      0.16204449273682853   0.16284611700217974  0.16933585149179003   \n4       0.6633913232329025     0.952188115918025   1.0705618432163024   \n5            0.00692647725          0.0096550895        0.00608690425   \n...                    ...                   ...                  ...   \n1619                     0                     0                    0   \n1620                     0                     0                    0   \n1621                     0                     0                    0   \n1622      0.09095160935112      0.09276673989719       0.093613620726   \n1623   0.05046783364946544    0.0469485018375528  0.04638594741959329   \n\n                      1984                 1985                  1986  \\\n1        307.2346122721334   315.42743540651674    322.18517006014446   \n2      0.03920224040186807  0.03827496129519434  0.039111198580053776   \n3       0.1704057218202433  0.17005625500667076   0.16607537777033485   \n4       1.1307867129706235   1.0464182466677772    1.0663009617019872   \n5             0.0069454539        0.00650669075           0.006716584   \n...                    ...                  ...                   ...   \n1619                     0                    0                     0   \n1620                     0                    0                     0   \n1621                     0                    0                     0   \n1622           0.091707448          0.092414884            0.09076501   \n1623  0.044750279253740324  0.04092042533688736   0.04250369955649184   \n\n                     1987  ...                 2010                  2011  \\\n1      332.74655318366644  ...    527.0687498431604     540.8952031029451   \n2     0.06306515769145625  ...  0.11853852864995157   0.16105080218714038   \n3      0.1666405283961216  ...  0.12304402332284661   0.10743348644120246   \n4      1.1383186539191739  ...   1.7777604019160995    1.9379902738228294   \n5         0.0069730088735  ...         0.0086069555  0.004911508895857226   \n...                   ...  ...                  ...                   ...   \n1619                    0  ...                    0                     0   \n1620                    0  ...                    0                     0   \n1621                    0  ...          0.000019512           0.000019432   \n1622          0.081980147  ...       0.099506171504        0.111397717312   \n1623  0.02945526213645744  ...  0.05583163815663164  0.048768864395256115   \n\n                      2012                  2013                  2014  \\\n1        551.9303162477122                   NaN                   NaN   \n2       0.1476076485691699   0.12450427328434109    0.1143137511302674   \n3       0.1051279333181231   0.13193111766441915   0.11621639284070061   \n4       2.0982041249829453     2.037585597537122     2.299898896758712   \n5     0.004924965633037225  0.004911508895857226  0.004911508895857226   \n...                    ...                   ...                   ...   \n1619                     0                     0                     0   \n1620                     0                     0                     0   \n1621           0.000028548           0.000038164            0.00008559   \n1622             0.1142021        0.122629646264         0.12864310304   \n1623   0.05018734222135467   0.04801175729660101   0.04981787461471963   \n\n                     2015                 2016                  2017  \\\n1                     NaN                  NaN                   NaN   \n2     0.12629013628746977  0.11757565429923286   0.12494125714475693   \n3     0.11629730243544255   0.1296073826057356   0.12535309157946248   \n4       2.351782231770593   2.3361518937806958     2.361200900056517   \n5       0.004911507088825     0.00492496540458  0.004911508895818637   \n...                   ...                  ...                   ...   \n1619                    0                    0                     0   \n1620                    0                    0                     0   \n1621           0.00102509          0.001357104           0.001685979   \n1622       0.119627497176       0.106216508816        0.113591182889   \n1623  0.04467141061628047  0.03402892074162278   0.04369470723399742   \n\n                      2018                  2019  \n1                      NaN                   NaN  \n2      0.14327311946093876   0.12274842133951257  \n3      0.14218447431148448   0.11074824093269141  \n4       2.5157731727516484    2.6435026580305645  \n5     0.004911508895818637  0.004911508895818637  \n...                    ...                   ...  \n1619                     0                     0  \n1620                     0                     0  \n1621           0.004169632              0.004452  \n1622        0.120469815456         0.12081104372  \n1623  0.049264439361874364   0.06865368688052285  \n\n[1386 rows x 42 columns]",
      "text/html": "<div>\n<style scoped>\n    .dataframe tbody tr th:only-of-type {\n        vertical-align: middle;\n    }\n\n    .dataframe tbody tr th {\n        vertical-align: top;\n    }\n\n    .dataframe thead th {\n        text-align: right;\n    }\n</style>\n<table border=\"1\" class=\"dataframe\">\n  <thead>\n    <tr style=\"text-align: right;\">\n      <th></th>\n      <th>Country</th>\n      <th>Energy_type</th>\n      <th>1980</th>\n      <th>1981</th>\n      <th>1982</th>\n      <th>1983</th>\n      <th>1984</th>\n      <th>1985</th>\n      <th>1986</th>\n      <th>1987</th>\n      <th>...</th>\n      <th>2010</th>\n      <th>2011</th>\n      <th>2012</th>\n      <th>2013</th>\n      <th>2014</th>\n      <th>2015</th>\n      <th>2016</th>\n      <th>2017</th>\n      <th>2018</th>\n      <th>2019</th>\n    </tr>\n  </thead>\n  <tbody>\n    <tr>\n      <th>1</th>\n      <td>World</td>\n      <td>all_energy_types</td>\n      <td>292.8999360117116</td>\n      <td>289.40151331082484</td>\n      <td>289.69127227568276</td>\n      <td>293.7314691613172</td>\n      <td>307.2346122721334</td>\n      <td>315.42743540651674</td>\n      <td>322.18517006014446</td>\n      <td>332.74655318366644</td>\n      <td>...</td>\n      <td>527.0687498431604</td>\n      <td>540.8952031029451</td>\n      <td>551.9303162477122</td>\n      <td>NaN</td>\n      <td>NaN</td>\n      <td>NaN</td>\n      <td>NaN</td>\n      <td>NaN</td>\n      <td>NaN</td>\n      <td>NaN</td>\n    </tr>\n    <tr>\n      <th>2</th>\n      <td>Afghanistan</td>\n      <td>all_energy_types</td>\n      <td>0.02658321667756184</td>\n      <td>0.029949457623843767</td>\n      <td>0.031897814673808554</td>\n      <td>0.03902180313163165</td>\n      <td>0.03920224040186807</td>\n      <td>0.03827496129519434</td>\n      <td>0.039111198580053776</td>\n      <td>0.06306515769145625</td>\n      <td>...</td>\n      <td>0.11853852864995157</td>\n      <td>0.16105080218714038</td>\n      <td>0.1476076485691699</td>\n      <td>0.12450427328434109</td>\n      <td>0.1143137511302674</td>\n      <td>0.12629013628746977</td>\n      <td>0.11757565429923286</td>\n      <td>0.12494125714475693</td>\n      <td>0.14327311946093876</td>\n      <td>0.12274842133951257</td>\n    </tr>\n    <tr>\n      <th>3</th>\n      <td>Albania</td>\n      <td>all_energy_types</td>\n      <td>0.16298182182124926</td>\n      <td>0.16204449273682853</td>\n      <td>0.16284611700217974</td>\n      <td>0.16933585149179003</td>\n      <td>0.1704057218202433</td>\n      <td>0.17005625500667076</td>\n      <td>0.16607537777033485</td>\n      <td>0.1666405283961216</td>\n      <td>...</td>\n      <td>0.12304402332284661</td>\n      <td>0.10743348644120246</td>\n      <td>0.1051279333181231</td>\n      <td>0.13193111766441915</td>\n      <td>0.11621639284070061</td>\n      <td>0.11629730243544255</td>\n      <td>0.1296073826057356</td>\n      <td>0.12535309157946248</td>\n      <td>0.14218447431148448</td>\n      <td>0.11074824093269141</td>\n    </tr>\n    <tr>\n      <th>4</th>\n      <td>Algeria</td>\n      <td>all_energy_types</td>\n      <td>0.7806951671133022</td>\n      <td>0.6633913232329025</td>\n      <td>0.952188115918025</td>\n      <td>1.0705618432163024</td>\n      <td>1.1307867129706235</td>\n      <td>1.0464182466677772</td>\n      <td>1.0663009617019872</td>\n      <td>1.1383186539191739</td>\n      <td>...</td>\n      <td>1.7777604019160995</td>\n      <td>1.9379902738228294</td>\n      <td>2.0982041249829453</td>\n      <td>2.037585597537122</td>\n      <td>2.299898896758712</td>\n      <td>2.351782231770593</td>\n      <td>2.3361518937806958</td>\n      <td>2.361200900056517</td>\n      <td>2.5157731727516484</td>\n      <td>2.6435026580305645</td>\n    </tr>\n    <tr>\n      <th>5</th>\n      <td>American Samoa</td>\n      <td>all_energy_types</td>\n      <td>0.0058931124</td>\n      <td>0.00692647725</td>\n      <td>0.0096550895</td>\n      <td>0.00608690425</td>\n      <td>0.0069454539</td>\n      <td>0.00650669075</td>\n      <td>0.006716584</td>\n      <td>0.0069730088735</td>\n      <td>...</td>\n      <td>0.0086069555</td>\n      <td>0.004911508895857226</td>\n      <td>0.004924965633037225</td>\n      <td>0.004911508895857226</td>\n      <td>0.004911508895857226</td>\n      <td>0.004911507088825</td>\n      <td>0.00492496540458</td>\n      <td>0.004911508895818637</td>\n      <td>0.004911508895818637</td>\n      <td>0.004911508895818637</td>\n    </tr>\n    <tr>\n      <th>...</th>\n      <td>...</td>\n      <td>...</td>\n      <td>...</td>\n      <td>...</td>\n      <td>...</td>\n      <td>...</td>\n      <td>...</td>\n      <td>...</td>\n      <td>...</td>\n      <td>...</td>\n      <td>...</td>\n      <td>...</td>\n      <td>...</td>\n      <td>...</td>\n      <td>...</td>\n      <td>...</td>\n      <td>...</td>\n      <td>...</td>\n      <td>...</td>\n      <td>...</td>\n      <td>...</td>\n    </tr>\n    <tr>\n      <th>1619</th>\n      <td>Wake Island</td>\n      <td>renewables_n_other</td>\n      <td>0</td>\n      <td>0</td>\n      <td>0</td>\n      <td>0</td>\n      <td>0</td>\n      <td>0</td>\n      <td>0</td>\n      <td>0</td>\n      <td>...</td>\n      <td>0</td>\n      <td>0</td>\n      <td>0</td>\n      <td>0</td>\n      <td>0</td>\n      <td>0</td>\n      <td>0</td>\n      <td>0</td>\n      <td>0</td>\n      <td>0</td>\n    </tr>\n    <tr>\n      <th>1620</th>\n      <td>Western Sahara</td>\n      <td>renewables_n_other</td>\n      <td>0</td>\n      <td>0</td>\n      <td>0</td>\n      <td>0</td>\n      <td>0</td>\n      <td>0</td>\n      <td>0</td>\n      <td>0</td>\n      <td>...</td>\n      <td>0</td>\n      <td>0</td>\n      <td>0</td>\n      <td>0</td>\n      <td>0</td>\n      <td>0</td>\n      <td>0</td>\n      <td>0</td>\n      <td>0</td>\n      <td>0</td>\n    </tr>\n    <tr>\n      <th>1621</th>\n      <td>Yemen</td>\n      <td>renewables_n_other</td>\n      <td>0</td>\n      <td>0</td>\n      <td>0</td>\n      <td>0</td>\n      <td>0</td>\n      <td>0</td>\n      <td>0</td>\n      <td>0</td>\n      <td>...</td>\n      <td>0.000019512</td>\n      <td>0.000019432</td>\n      <td>0.000028548</td>\n      <td>0.000038164</td>\n      <td>0.00008559</td>\n      <td>0.00102509</td>\n      <td>0.001357104</td>\n      <td>0.001685979</td>\n      <td>0.004169632</td>\n      <td>0.004452</td>\n    </tr>\n    <tr>\n      <th>1622</th>\n      <td>Zambia</td>\n      <td>renewables_n_other</td>\n      <td>0.0842504416429</td>\n      <td>0.09095160935112</td>\n      <td>0.09276673989719</td>\n      <td>0.093613620726</td>\n      <td>0.091707448</td>\n      <td>0.092414884</td>\n      <td>0.09076501</td>\n      <td>0.081980147</td>\n      <td>...</td>\n      <td>0.099506171504</td>\n      <td>0.111397717312</td>\n      <td>0.1142021</td>\n      <td>0.122629646264</td>\n      <td>0.12864310304</td>\n      <td>0.119627497176</td>\n      <td>0.106216508816</td>\n      <td>0.113591182889</td>\n      <td>0.120469815456</td>\n      <td>0.12081104372</td>\n    </tr>\n    <tr>\n      <th>1623</th>\n      <td>Zimbabwe</td>\n      <td>renewables_n_other</td>\n      <td>0.048444954208071205</td>\n      <td>0.05046783364946544</td>\n      <td>0.0469485018375528</td>\n      <td>0.04638594741959329</td>\n      <td>0.044750279253740324</td>\n      <td>0.04092042533688736</td>\n      <td>0.04250369955649184</td>\n      <td>0.02945526213645744</td>\n      <td>...</td>\n      <td>0.05583163815663164</td>\n      <td>0.048768864395256115</td>\n      <td>0.05018734222135467</td>\n      <td>0.04801175729660101</td>\n      <td>0.04981787461471963</td>\n      <td>0.04467141061628047</td>\n      <td>0.03402892074162278</td>\n      <td>0.04369470723399742</td>\n      <td>0.049264439361874364</td>\n      <td>0.06865368688052285</td>\n    </tr>\n  </tbody>\n</table>\n<p>1386 rows × 42 columns</p>\n</div>"
     },
     "execution_count": 111,
     "metadata": {},
     "output_type": "execute_result"
    }
   ],
   "source": [
    "econ"
   ],
   "metadata": {
    "collapsed": false,
    "pycharm": {
     "name": "#%%\n"
    }
   }
  },
  {
   "cell_type": "code",
   "execution_count": 112,
   "outputs": [
    {
     "data": {
      "text/plain": "                     Country         Energy_type                 1980  \\\n1                      World    all_energy_types   296.33722758863627   \n2                Afghanistan    all_energy_types  0.07256115614667066   \n3                    Albania    all_energy_types    0.155561620237156   \n4                    Algeria    all_energy_types    2.803017355026457   \n5             American Samoa    all_energy_types                    0   \n...                      ...                 ...                  ...   \n1619             Wake Island  renewables_n_other                    0   \n1620          Western Sahara  renewables_n_other                    0   \n1621                   Yemen  renewables_n_other                    0   \n1622                  Zambia  renewables_n_other      0.0935959096429   \n1623                Zimbabwe  renewables_n_other     0.04198125584814   \n\n                     1981                 1982                 1983  \\\n1       291.2877731828766    290.1205665759991    293.0466469371524   \n2     0.09272365463746368  0.09506786743187949  0.09971281973566948   \n3     0.15869138293903517  0.20594415566567068  0.23469322168485068   \n4      3.0375368604701833    3.224933778884667   3.6064004828010217   \n5                       0                    0                    0   \n...                   ...                  ...                  ...   \n1619                    0                    0                    0   \n1620                    0                    0                    0   \n1621                    0                    0                    0   \n1622     0.10114325335112     0.10363054789719       0.104463780726   \n1623     0.04334492366864     0.03808018551984       0.039651764249   \n\n                     1984                 1985                 1986  \\\n1      308.92101366220777   316.46426154850144    326.7530652183027   \n2     0.09982734303917455  0.12096783009943252  0.12054976892110061   \n3     0.19102506227402413  0.19172993827692245  0.19659552252877113   \n4      3.8591760033483915    3.907465537569512   3.9683247789434253   \n5                       0                    0                    0   \n...                   ...                  ...                  ...   \n1619                    0                    0                    0   \n1620                    0                    0                    0   \n1621                    0                    0                    0   \n1622           0.10213452          0.102923844           0.10127397   \n1623         0.0365081148          0.032800352          0.033392709   \n\n                     1987  ...                 2010                 2011  \\\n1       334.3845057886132  ...    518.2107838608919    533.8925086831691   \n2       0.114835081155632  ...  0.02692579367150454  0.04104421211242948   \n3     0.20238806446252838  ...  0.09849116932673144  0.07585689950134678   \n4        4.21808633368004  ...    6.927837879172395    6.828492246382395   \n5                       0  ...                    0                    0   \n...                   ...  ...                  ...                  ...   \n1619                    0  ...                    0                    0   \n1620                    0  ...                    0                    0   \n1621                    0  ...          0.000019512          0.000019432   \n1622          0.087029907  ...       0.101433951504       0.111087225312   \n1623          0.026619417  ...           0.05692626         0.0513043664   \n\n                      2012                  2013                 2014  \\\n1        545.3963111029857     553.2388229380201     561.949952486594   \n2     0.037492262916033615  0.040816563280627896  0.04478950651933605   \n3       0.0840378737211778   0.10563648550534094  0.09296194121961915   \n4        6.999409831111563    6.5104186447871735    6.561760333289481   \n5                        0                     0                    0   \n...                    ...                   ...                  ...   \n1619                     0                     0                    0   \n1620                     0                     0                    0   \n1621           0.000028548           0.000038164           0.00008559   \n1622           0.116989704        0.126075766264        0.13288421904   \n1623           0.052395096      0.04885229279925     0.05343727633293   \n\n                     2015                 2016                 2017  \\\n1       567.4371747031059    563.3786478855133    577.8623821917073   \n2     0.04205799729038833  0.04950511782484147  0.05950054255404184   \n3     0.10225470403895913  0.12535621607056832  0.08229649004849868   \n4       6.696192522564449    6.910709728136037    6.763856727052585   \n5                       0                    0                    0   \n...                   ...                  ...                  ...   \n1619                    0                    0                    0   \n1620                    0                    0                    0   \n1621           0.00102509          0.001357104          0.001685979   \n1622       0.120961589176       0.101470416816       0.114648902889   \n1623     0.04824355770153    0.029787245478528          0.038756876   \n\n                     2018                 2019  \n1        600.076613912069    610.9984170870961  \n2     0.06317585556177092  0.05521030952760256  \n3     0.11552948572255144  0.08908229857345225  \n4       6.688552187874529    6.429790182459667  \n5                       0                    0  \n...                   ...                  ...  \n1619                    0                    0  \n1620                    0                    0  \n1621          0.004169632             0.004452  \n1622       0.124130891456        0.12346557972  \n1623          0.048416397          0.067499237  \n\n[1386 rows x 42 columns]",
      "text/html": "<div>\n<style scoped>\n    .dataframe tbody tr th:only-of-type {\n        vertical-align: middle;\n    }\n\n    .dataframe tbody tr th {\n        vertical-align: top;\n    }\n\n    .dataframe thead th {\n        text-align: right;\n    }\n</style>\n<table border=\"1\" class=\"dataframe\">\n  <thead>\n    <tr style=\"text-align: right;\">\n      <th></th>\n      <th>Country</th>\n      <th>Energy_type</th>\n      <th>1980</th>\n      <th>1981</th>\n      <th>1982</th>\n      <th>1983</th>\n      <th>1984</th>\n      <th>1985</th>\n      <th>1986</th>\n      <th>1987</th>\n      <th>...</th>\n      <th>2010</th>\n      <th>2011</th>\n      <th>2012</th>\n      <th>2013</th>\n      <th>2014</th>\n      <th>2015</th>\n      <th>2016</th>\n      <th>2017</th>\n      <th>2018</th>\n      <th>2019</th>\n    </tr>\n  </thead>\n  <tbody>\n    <tr>\n      <th>1</th>\n      <td>World</td>\n      <td>all_energy_types</td>\n      <td>296.33722758863627</td>\n      <td>291.2877731828766</td>\n      <td>290.1205665759991</td>\n      <td>293.0466469371524</td>\n      <td>308.92101366220777</td>\n      <td>316.46426154850144</td>\n      <td>326.7530652183027</td>\n      <td>334.3845057886132</td>\n      <td>...</td>\n      <td>518.2107838608919</td>\n      <td>533.8925086831691</td>\n      <td>545.3963111029857</td>\n      <td>553.2388229380201</td>\n      <td>561.949952486594</td>\n      <td>567.4371747031059</td>\n      <td>563.3786478855133</td>\n      <td>577.8623821917073</td>\n      <td>600.076613912069</td>\n      <td>610.9984170870961</td>\n    </tr>\n    <tr>\n      <th>2</th>\n      <td>Afghanistan</td>\n      <td>all_energy_types</td>\n      <td>0.07256115614667066</td>\n      <td>0.09272365463746368</td>\n      <td>0.09506786743187949</td>\n      <td>0.09971281973566948</td>\n      <td>0.09982734303917455</td>\n      <td>0.12096783009943252</td>\n      <td>0.12054976892110061</td>\n      <td>0.114835081155632</td>\n      <td>...</td>\n      <td>0.02692579367150454</td>\n      <td>0.04104421211242948</td>\n      <td>0.037492262916033615</td>\n      <td>0.040816563280627896</td>\n      <td>0.04478950651933605</td>\n      <td>0.04205799729038833</td>\n      <td>0.04950511782484147</td>\n      <td>0.05950054255404184</td>\n      <td>0.06317585556177092</td>\n      <td>0.05521030952760256</td>\n    </tr>\n    <tr>\n      <th>3</th>\n      <td>Albania</td>\n      <td>all_energy_types</td>\n      <td>0.155561620237156</td>\n      <td>0.15869138293903517</td>\n      <td>0.20594415566567068</td>\n      <td>0.23469322168485068</td>\n      <td>0.19102506227402413</td>\n      <td>0.19172993827692245</td>\n      <td>0.19659552252877113</td>\n      <td>0.20238806446252838</td>\n      <td>...</td>\n      <td>0.09849116932673144</td>\n      <td>0.07585689950134678</td>\n      <td>0.0840378737211778</td>\n      <td>0.10563648550534094</td>\n      <td>0.09296194121961915</td>\n      <td>0.10225470403895913</td>\n      <td>0.12535621607056832</td>\n      <td>0.08229649004849868</td>\n      <td>0.11552948572255144</td>\n      <td>0.08908229857345225</td>\n    </tr>\n    <tr>\n      <th>4</th>\n      <td>Algeria</td>\n      <td>all_energy_types</td>\n      <td>2.803017355026457</td>\n      <td>3.0375368604701833</td>\n      <td>3.224933778884667</td>\n      <td>3.6064004828010217</td>\n      <td>3.8591760033483915</td>\n      <td>3.907465537569512</td>\n      <td>3.9683247789434253</td>\n      <td>4.21808633368004</td>\n      <td>...</td>\n      <td>6.927837879172395</td>\n      <td>6.828492246382395</td>\n      <td>6.999409831111563</td>\n      <td>6.5104186447871735</td>\n      <td>6.561760333289481</td>\n      <td>6.696192522564449</td>\n      <td>6.910709728136037</td>\n      <td>6.763856727052585</td>\n      <td>6.688552187874529</td>\n      <td>6.429790182459667</td>\n    </tr>\n    <tr>\n      <th>5</th>\n      <td>American Samoa</td>\n      <td>all_energy_types</td>\n      <td>0</td>\n      <td>0</td>\n      <td>0</td>\n      <td>0</td>\n      <td>0</td>\n      <td>0</td>\n      <td>0</td>\n      <td>0</td>\n      <td>...</td>\n      <td>0</td>\n      <td>0</td>\n      <td>0</td>\n      <td>0</td>\n      <td>0</td>\n      <td>0</td>\n      <td>0</td>\n      <td>0</td>\n      <td>0</td>\n      <td>0</td>\n    </tr>\n    <tr>\n      <th>...</th>\n      <td>...</td>\n      <td>...</td>\n      <td>...</td>\n      <td>...</td>\n      <td>...</td>\n      <td>...</td>\n      <td>...</td>\n      <td>...</td>\n      <td>...</td>\n      <td>...</td>\n      <td>...</td>\n      <td>...</td>\n      <td>...</td>\n      <td>...</td>\n      <td>...</td>\n      <td>...</td>\n      <td>...</td>\n      <td>...</td>\n      <td>...</td>\n      <td>...</td>\n      <td>...</td>\n    </tr>\n    <tr>\n      <th>1619</th>\n      <td>Wake Island</td>\n      <td>renewables_n_other</td>\n      <td>0</td>\n      <td>0</td>\n      <td>0</td>\n      <td>0</td>\n      <td>0</td>\n      <td>0</td>\n      <td>0</td>\n      <td>0</td>\n      <td>...</td>\n      <td>0</td>\n      <td>0</td>\n      <td>0</td>\n      <td>0</td>\n      <td>0</td>\n      <td>0</td>\n      <td>0</td>\n      <td>0</td>\n      <td>0</td>\n      <td>0</td>\n    </tr>\n    <tr>\n      <th>1620</th>\n      <td>Western Sahara</td>\n      <td>renewables_n_other</td>\n      <td>0</td>\n      <td>0</td>\n      <td>0</td>\n      <td>0</td>\n      <td>0</td>\n      <td>0</td>\n      <td>0</td>\n      <td>0</td>\n      <td>...</td>\n      <td>0</td>\n      <td>0</td>\n      <td>0</td>\n      <td>0</td>\n      <td>0</td>\n      <td>0</td>\n      <td>0</td>\n      <td>0</td>\n      <td>0</td>\n      <td>0</td>\n    </tr>\n    <tr>\n      <th>1621</th>\n      <td>Yemen</td>\n      <td>renewables_n_other</td>\n      <td>0</td>\n      <td>0</td>\n      <td>0</td>\n      <td>0</td>\n      <td>0</td>\n      <td>0</td>\n      <td>0</td>\n      <td>0</td>\n      <td>...</td>\n      <td>0.000019512</td>\n      <td>0.000019432</td>\n      <td>0.000028548</td>\n      <td>0.000038164</td>\n      <td>0.00008559</td>\n      <td>0.00102509</td>\n      <td>0.001357104</td>\n      <td>0.001685979</td>\n      <td>0.004169632</td>\n      <td>0.004452</td>\n    </tr>\n    <tr>\n      <th>1622</th>\n      <td>Zambia</td>\n      <td>renewables_n_other</td>\n      <td>0.0935959096429</td>\n      <td>0.10114325335112</td>\n      <td>0.10363054789719</td>\n      <td>0.104463780726</td>\n      <td>0.10213452</td>\n      <td>0.102923844</td>\n      <td>0.10127397</td>\n      <td>0.087029907</td>\n      <td>...</td>\n      <td>0.101433951504</td>\n      <td>0.111087225312</td>\n      <td>0.116989704</td>\n      <td>0.126075766264</td>\n      <td>0.13288421904</td>\n      <td>0.120961589176</td>\n      <td>0.101470416816</td>\n      <td>0.114648902889</td>\n      <td>0.124130891456</td>\n      <td>0.12346557972</td>\n    </tr>\n    <tr>\n      <th>1623</th>\n      <td>Zimbabwe</td>\n      <td>renewables_n_other</td>\n      <td>0.04198125584814</td>\n      <td>0.04334492366864</td>\n      <td>0.03808018551984</td>\n      <td>0.039651764249</td>\n      <td>0.0365081148</td>\n      <td>0.032800352</td>\n      <td>0.033392709</td>\n      <td>0.026619417</td>\n      <td>...</td>\n      <td>0.05692626</td>\n      <td>0.0513043664</td>\n      <td>0.052395096</td>\n      <td>0.04885229279925</td>\n      <td>0.05343727633293</td>\n      <td>0.04824355770153</td>\n      <td>0.029787245478528</td>\n      <td>0.038756876</td>\n      <td>0.048416397</td>\n      <td>0.067499237</td>\n    </tr>\n  </tbody>\n</table>\n<p>1386 rows × 42 columns</p>\n</div>"
     },
     "execution_count": 112,
     "metadata": {},
     "output_type": "execute_result"
    }
   ],
   "source": [
    "eprod"
   ],
   "metadata": {
    "collapsed": false,
    "pycharm": {
     "name": "#%%\n"
    }
   }
  },
  {
   "cell_type": "markdown",
   "source": [
    "### Stacking the Year Columns into one Column for econ, eprod, gdp, pop, ei_gdp_pop, and co2_e datasets"
   ],
   "metadata": {
    "collapsed": false
   }
  },
  {
   "cell_type": "code",
   "execution_count": 113,
   "outputs": [],
   "source": [
    "def stack_df(df,id_vars, value_name, column_names):\n",
    "    year_list = ['1980', '1981', '1982', '1983', '1984', '1985', '1986', '1987', '1988', '1989', '1990', '1991',\n",
    "                '1992', '1993', '1994', '1995', '1996', '1997', '1998', '1999', '2000', '2001', '2002', '2003', '2004', '2005', '2006',\n",
    "                '2007', '2008', '2009', '2010', '2011', '2012', '2013', '2014', '2015', '2016', '2017', '2018', '2019']\n",
    "\n",
    "    # Specifying which year columns to stack\n",
    "    year_cols = [x for x in df if x in year_list]\n",
    "    # Stacking all the years\n",
    "    df = pd.melt(df, id_vars=id_vars, value_vars=year_cols, value_name=value_name)\n",
    "    # Changing the Column Names\n",
    "    df.columns = column_names\n",
    "    return df\n",
    "\n",
    "\n",
    "data_con = stack_df(econ, ['Country', 'Energy_type'],'consumption', ['Country', 'Energy_type', 'Year', 'Energy_consumption'])\n",
    "data_prod = stack_df(eprod, ['Country', 'Energy_type'],'consumption', ['Country', 'Energy_type', 'Year', 'Energy_production'])\n",
    "data_gdp = stack_df(gdp, 'Country', 'GDP', ['Country', 'Year', 'GDP'])\n",
    "data_pop = stack_df(pop, 'Country', 'Population', ['Country', 'Year', 'Population'])\n",
    "data_ei_gdp = stack_df(energy_consumption_per_GDP, 'Country', 'Energy_intensity_by_GDP', ['Country', 'Year', 'Energy_intensity_by_GDP'])\n",
    "data_ei_pop = stack_df(energy_consumption_per_capita, 'Country', 'Energy_intensity_per_capita', ['Country', 'Year', 'Energy_intensity_per_capita'])\n",
    "data_co2 = stack_df(CO2_emissions, 'Country', 'CO2_emission', ['Country', 'Year', 'CO2_emission'])"
   ],
   "metadata": {
    "collapsed": false,
    "pycharm": {
     "name": "#%%\n"
    }
   }
  },
  {
   "cell_type": "code",
   "execution_count": 114,
   "outputs": [
    {
     "data": {
      "text/plain": "                      Country         Energy_type  Year   Energy_consumption\n0                       World    all_energy_types  1980    292.8999360117116\n1                 Afghanistan    all_energy_types  1980  0.02658321667756184\n2                     Albania    all_energy_types  1980  0.16298182182124926\n3                     Algeria    all_energy_types  1980   0.7806951671133022\n4              American Samoa    all_energy_types  1980         0.0058931124\n...                       ...                 ...   ...                  ...\n55435             Wake Island  renewables_n_other  2019                    0\n55436          Western Sahara  renewables_n_other  2019                    0\n55437                   Yemen  renewables_n_other  2019             0.004452\n55438                  Zambia  renewables_n_other  2019        0.12081104372\n55439                Zimbabwe  renewables_n_other  2019  0.06865368688052285\n\n[55440 rows x 4 columns]",
      "text/html": "<div>\n<style scoped>\n    .dataframe tbody tr th:only-of-type {\n        vertical-align: middle;\n    }\n\n    .dataframe tbody tr th {\n        vertical-align: top;\n    }\n\n    .dataframe thead th {\n        text-align: right;\n    }\n</style>\n<table border=\"1\" class=\"dataframe\">\n  <thead>\n    <tr style=\"text-align: right;\">\n      <th></th>\n      <th>Country</th>\n      <th>Energy_type</th>\n      <th>Year</th>\n      <th>Energy_consumption</th>\n    </tr>\n  </thead>\n  <tbody>\n    <tr>\n      <th>0</th>\n      <td>World</td>\n      <td>all_energy_types</td>\n      <td>1980</td>\n      <td>292.8999360117116</td>\n    </tr>\n    <tr>\n      <th>1</th>\n      <td>Afghanistan</td>\n      <td>all_energy_types</td>\n      <td>1980</td>\n      <td>0.02658321667756184</td>\n    </tr>\n    <tr>\n      <th>2</th>\n      <td>Albania</td>\n      <td>all_energy_types</td>\n      <td>1980</td>\n      <td>0.16298182182124926</td>\n    </tr>\n    <tr>\n      <th>3</th>\n      <td>Algeria</td>\n      <td>all_energy_types</td>\n      <td>1980</td>\n      <td>0.7806951671133022</td>\n    </tr>\n    <tr>\n      <th>4</th>\n      <td>American Samoa</td>\n      <td>all_energy_types</td>\n      <td>1980</td>\n      <td>0.0058931124</td>\n    </tr>\n    <tr>\n      <th>...</th>\n      <td>...</td>\n      <td>...</td>\n      <td>...</td>\n      <td>...</td>\n    </tr>\n    <tr>\n      <th>55435</th>\n      <td>Wake Island</td>\n      <td>renewables_n_other</td>\n      <td>2019</td>\n      <td>0</td>\n    </tr>\n    <tr>\n      <th>55436</th>\n      <td>Western Sahara</td>\n      <td>renewables_n_other</td>\n      <td>2019</td>\n      <td>0</td>\n    </tr>\n    <tr>\n      <th>55437</th>\n      <td>Yemen</td>\n      <td>renewables_n_other</td>\n      <td>2019</td>\n      <td>0.004452</td>\n    </tr>\n    <tr>\n      <th>55438</th>\n      <td>Zambia</td>\n      <td>renewables_n_other</td>\n      <td>2019</td>\n      <td>0.12081104372</td>\n    </tr>\n    <tr>\n      <th>55439</th>\n      <td>Zimbabwe</td>\n      <td>renewables_n_other</td>\n      <td>2019</td>\n      <td>0.06865368688052285</td>\n    </tr>\n  </tbody>\n</table>\n<p>55440 rows × 4 columns</p>\n</div>"
     },
     "execution_count": 114,
     "metadata": {},
     "output_type": "execute_result"
    }
   ],
   "source": [
    "data_con"
   ],
   "metadata": {
    "collapsed": false,
    "pycharm": {
     "name": "#%%\n"
    }
   }
  },
  {
   "cell_type": "code",
   "execution_count": 115,
   "outputs": [
    {
     "data": {
      "text/plain": "                      Country         Energy_type  Year    Energy_production\n0                       World    all_energy_types  1980   296.33722758863627\n1                 Afghanistan    all_energy_types  1980  0.07256115614667066\n2                     Albania    all_energy_types  1980    0.155561620237156\n3                     Algeria    all_energy_types  1980    2.803017355026457\n4              American Samoa    all_energy_types  1980                    0\n...                       ...                 ...   ...                  ...\n55435             Wake Island  renewables_n_other  2019                    0\n55436          Western Sahara  renewables_n_other  2019                    0\n55437                   Yemen  renewables_n_other  2019             0.004452\n55438                  Zambia  renewables_n_other  2019        0.12346557972\n55439                Zimbabwe  renewables_n_other  2019          0.067499237\n\n[55440 rows x 4 columns]",
      "text/html": "<div>\n<style scoped>\n    .dataframe tbody tr th:only-of-type {\n        vertical-align: middle;\n    }\n\n    .dataframe tbody tr th {\n        vertical-align: top;\n    }\n\n    .dataframe thead th {\n        text-align: right;\n    }\n</style>\n<table border=\"1\" class=\"dataframe\">\n  <thead>\n    <tr style=\"text-align: right;\">\n      <th></th>\n      <th>Country</th>\n      <th>Energy_type</th>\n      <th>Year</th>\n      <th>Energy_production</th>\n    </tr>\n  </thead>\n  <tbody>\n    <tr>\n      <th>0</th>\n      <td>World</td>\n      <td>all_energy_types</td>\n      <td>1980</td>\n      <td>296.33722758863627</td>\n    </tr>\n    <tr>\n      <th>1</th>\n      <td>Afghanistan</td>\n      <td>all_energy_types</td>\n      <td>1980</td>\n      <td>0.07256115614667066</td>\n    </tr>\n    <tr>\n      <th>2</th>\n      <td>Albania</td>\n      <td>all_energy_types</td>\n      <td>1980</td>\n      <td>0.155561620237156</td>\n    </tr>\n    <tr>\n      <th>3</th>\n      <td>Algeria</td>\n      <td>all_energy_types</td>\n      <td>1980</td>\n      <td>2.803017355026457</td>\n    </tr>\n    <tr>\n      <th>4</th>\n      <td>American Samoa</td>\n      <td>all_energy_types</td>\n      <td>1980</td>\n      <td>0</td>\n    </tr>\n    <tr>\n      <th>...</th>\n      <td>...</td>\n      <td>...</td>\n      <td>...</td>\n      <td>...</td>\n    </tr>\n    <tr>\n      <th>55435</th>\n      <td>Wake Island</td>\n      <td>renewables_n_other</td>\n      <td>2019</td>\n      <td>0</td>\n    </tr>\n    <tr>\n      <th>55436</th>\n      <td>Western Sahara</td>\n      <td>renewables_n_other</td>\n      <td>2019</td>\n      <td>0</td>\n    </tr>\n    <tr>\n      <th>55437</th>\n      <td>Yemen</td>\n      <td>renewables_n_other</td>\n      <td>2019</td>\n      <td>0.004452</td>\n    </tr>\n    <tr>\n      <th>55438</th>\n      <td>Zambia</td>\n      <td>renewables_n_other</td>\n      <td>2019</td>\n      <td>0.12346557972</td>\n    </tr>\n    <tr>\n      <th>55439</th>\n      <td>Zimbabwe</td>\n      <td>renewables_n_other</td>\n      <td>2019</td>\n      <td>0.067499237</td>\n    </tr>\n  </tbody>\n</table>\n<p>55440 rows × 4 columns</p>\n</div>"
     },
     "execution_count": 115,
     "metadata": {},
     "output_type": "execute_result"
    }
   ],
   "source": [
    "data_prod"
   ],
   "metadata": {
    "collapsed": false,
    "pycharm": {
     "name": "#%%\n"
    }
   }
  },
  {
   "cell_type": "code",
   "execution_count": 116,
   "outputs": [
    {
     "data": {
      "text/plain": "                     Country  Year           GDP\n0                      World  1980  27771.471791\n1                Afghanistan  1980           NaN\n2                    Albania  1980           NaN\n3                    Algeria  1980           NaN\n4             American Samoa  1980           NaN\n...                      ...   ...           ...\n9235             Wake Island  2019           NaN\n9236          Western Sahara  2019           NaN\n9237                   Yemen  2019       53.0838\n9238                  Zambia  2019      247.1819\n9239                Zimbabwe  2019       37.6204\n\n[9240 rows x 3 columns]",
      "text/html": "<div>\n<style scoped>\n    .dataframe tbody tr th:only-of-type {\n        vertical-align: middle;\n    }\n\n    .dataframe tbody tr th {\n        vertical-align: top;\n    }\n\n    .dataframe thead th {\n        text-align: right;\n    }\n</style>\n<table border=\"1\" class=\"dataframe\">\n  <thead>\n    <tr style=\"text-align: right;\">\n      <th></th>\n      <th>Country</th>\n      <th>Year</th>\n      <th>GDP</th>\n    </tr>\n  </thead>\n  <tbody>\n    <tr>\n      <th>0</th>\n      <td>World</td>\n      <td>1980</td>\n      <td>27771.471791</td>\n    </tr>\n    <tr>\n      <th>1</th>\n      <td>Afghanistan</td>\n      <td>1980</td>\n      <td>NaN</td>\n    </tr>\n    <tr>\n      <th>2</th>\n      <td>Albania</td>\n      <td>1980</td>\n      <td>NaN</td>\n    </tr>\n    <tr>\n      <th>3</th>\n      <td>Algeria</td>\n      <td>1980</td>\n      <td>NaN</td>\n    </tr>\n    <tr>\n      <th>4</th>\n      <td>American Samoa</td>\n      <td>1980</td>\n      <td>NaN</td>\n    </tr>\n    <tr>\n      <th>...</th>\n      <td>...</td>\n      <td>...</td>\n      <td>...</td>\n    </tr>\n    <tr>\n      <th>9235</th>\n      <td>Wake Island</td>\n      <td>2019</td>\n      <td>NaN</td>\n    </tr>\n    <tr>\n      <th>9236</th>\n      <td>Western Sahara</td>\n      <td>2019</td>\n      <td>NaN</td>\n    </tr>\n    <tr>\n      <th>9237</th>\n      <td>Yemen</td>\n      <td>2019</td>\n      <td>53.0838</td>\n    </tr>\n    <tr>\n      <th>9238</th>\n      <td>Zambia</td>\n      <td>2019</td>\n      <td>247.1819</td>\n    </tr>\n    <tr>\n      <th>9239</th>\n      <td>Zimbabwe</td>\n      <td>2019</td>\n      <td>37.6204</td>\n    </tr>\n  </tbody>\n</table>\n<p>9240 rows × 3 columns</p>\n</div>"
     },
     "execution_count": 116,
     "metadata": {},
     "output_type": "execute_result"
    }
   ],
   "source": [
    "data_gdp"
   ],
   "metadata": {
    "collapsed": false,
    "pycharm": {
     "name": "#%%\n"
    }
   }
  },
  {
   "cell_type": "code",
   "execution_count": 117,
   "outputs": [
    {
     "data": {
      "text/plain": "                     Country  Year    Population\n0                      World  1980  4298126.5224\n1                Afghanistan  1980       13356.5\n2                    Albania  1980        2682.7\n3                    Algeria  1980       19221.7\n4             American Samoa  1980        32.646\n...                      ...   ...           ...\n9235             Wake Island  2019           NaN\n9236          Western Sahara  2019           NaN\n9237                   Yemen  2019       29162.2\n9238                  Zambia  2019      17873.85\n9239                Zimbabwe  2019       14654.2\n\n[9240 rows x 3 columns]",
      "text/html": "<div>\n<style scoped>\n    .dataframe tbody tr th:only-of-type {\n        vertical-align: middle;\n    }\n\n    .dataframe tbody tr th {\n        vertical-align: top;\n    }\n\n    .dataframe thead th {\n        text-align: right;\n    }\n</style>\n<table border=\"1\" class=\"dataframe\">\n  <thead>\n    <tr style=\"text-align: right;\">\n      <th></th>\n      <th>Country</th>\n      <th>Year</th>\n      <th>Population</th>\n    </tr>\n  </thead>\n  <tbody>\n    <tr>\n      <th>0</th>\n      <td>World</td>\n      <td>1980</td>\n      <td>4298126.5224</td>\n    </tr>\n    <tr>\n      <th>1</th>\n      <td>Afghanistan</td>\n      <td>1980</td>\n      <td>13356.5</td>\n    </tr>\n    <tr>\n      <th>2</th>\n      <td>Albania</td>\n      <td>1980</td>\n      <td>2682.7</td>\n    </tr>\n    <tr>\n      <th>3</th>\n      <td>Algeria</td>\n      <td>1980</td>\n      <td>19221.7</td>\n    </tr>\n    <tr>\n      <th>4</th>\n      <td>American Samoa</td>\n      <td>1980</td>\n      <td>32.646</td>\n    </tr>\n    <tr>\n      <th>...</th>\n      <td>...</td>\n      <td>...</td>\n      <td>...</td>\n    </tr>\n    <tr>\n      <th>9235</th>\n      <td>Wake Island</td>\n      <td>2019</td>\n      <td>NaN</td>\n    </tr>\n    <tr>\n      <th>9236</th>\n      <td>Western Sahara</td>\n      <td>2019</td>\n      <td>NaN</td>\n    </tr>\n    <tr>\n      <th>9237</th>\n      <td>Yemen</td>\n      <td>2019</td>\n      <td>29162.2</td>\n    </tr>\n    <tr>\n      <th>9238</th>\n      <td>Zambia</td>\n      <td>2019</td>\n      <td>17873.85</td>\n    </tr>\n    <tr>\n      <th>9239</th>\n      <td>Zimbabwe</td>\n      <td>2019</td>\n      <td>14654.2</td>\n    </tr>\n  </tbody>\n</table>\n<p>9240 rows × 3 columns</p>\n</div>"
     },
     "execution_count": 117,
     "metadata": {},
     "output_type": "execute_result"
    }
   ],
   "source": [
    "data_pop"
   ],
   "metadata": {
    "collapsed": false,
    "pycharm": {
     "name": "#%%\n"
    }
   }
  },
  {
   "cell_type": "code",
   "execution_count": 118,
   "outputs": [
    {
     "data": {
      "text/plain": "                     Country  Year Energy_intensity_by_GDP\n0                      World  1980      10.546791981929914\n1                Afghanistan  1980                       0\n2                    Albania  1980                       0\n3                    Algeria  1980                       0\n4             American Samoa  1980                       0\n...                      ...   ...                     ...\n9235             Wake Island  2019                       0\n9236          Western Sahara  2019                       0\n9237                   Yemen  2019      2.9956346213705087\n9238                  Zambia  2019      0.8378305890652841\n9239                Zimbabwe  2019       4.497966373879728\n\n[9240 rows x 3 columns]",
      "text/html": "<div>\n<style scoped>\n    .dataframe tbody tr th:only-of-type {\n        vertical-align: middle;\n    }\n\n    .dataframe tbody tr th {\n        vertical-align: top;\n    }\n\n    .dataframe thead th {\n        text-align: right;\n    }\n</style>\n<table border=\"1\" class=\"dataframe\">\n  <thead>\n    <tr style=\"text-align: right;\">\n      <th></th>\n      <th>Country</th>\n      <th>Year</th>\n      <th>Energy_intensity_by_GDP</th>\n    </tr>\n  </thead>\n  <tbody>\n    <tr>\n      <th>0</th>\n      <td>World</td>\n      <td>1980</td>\n      <td>10.546791981929914</td>\n    </tr>\n    <tr>\n      <th>1</th>\n      <td>Afghanistan</td>\n      <td>1980</td>\n      <td>0</td>\n    </tr>\n    <tr>\n      <th>2</th>\n      <td>Albania</td>\n      <td>1980</td>\n      <td>0</td>\n    </tr>\n    <tr>\n      <th>3</th>\n      <td>Algeria</td>\n      <td>1980</td>\n      <td>0</td>\n    </tr>\n    <tr>\n      <th>4</th>\n      <td>American Samoa</td>\n      <td>1980</td>\n      <td>0</td>\n    </tr>\n    <tr>\n      <th>...</th>\n      <td>...</td>\n      <td>...</td>\n      <td>...</td>\n    </tr>\n    <tr>\n      <th>9235</th>\n      <td>Wake Island</td>\n      <td>2019</td>\n      <td>0</td>\n    </tr>\n    <tr>\n      <th>9236</th>\n      <td>Western Sahara</td>\n      <td>2019</td>\n      <td>0</td>\n    </tr>\n    <tr>\n      <th>9237</th>\n      <td>Yemen</td>\n      <td>2019</td>\n      <td>2.9956346213705087</td>\n    </tr>\n    <tr>\n      <th>9238</th>\n      <td>Zambia</td>\n      <td>2019</td>\n      <td>0.8378305890652841</td>\n    </tr>\n    <tr>\n      <th>9239</th>\n      <td>Zimbabwe</td>\n      <td>2019</td>\n      <td>4.497966373879728</td>\n    </tr>\n  </tbody>\n</table>\n<p>9240 rows × 3 columns</p>\n</div>"
     },
     "execution_count": 118,
     "metadata": {},
     "output_type": "execute_result"
    }
   ],
   "source": [
    "data_ei_gdp"
   ],
   "metadata": {
    "collapsed": false,
    "pycharm": {
     "name": "#%%\n"
    }
   }
  },
  {
   "cell_type": "code",
   "execution_count": 119,
   "outputs": [
    {
     "data": {
      "text/plain": "                     Country  Year Energy_intensity_per_capita\n0                      World  1980            68.1459548678342\n1                Afghanistan  1980          1.9902831338720353\n2                    Albania  1980          60.752906333637476\n3                    Algeria  1980           40.61530286672366\n4             American Samoa  1980           180.5156037493108\n...                      ...   ...                         ...\n9235             Wake Island  2019                           0\n9236          Western Sahara  2019                           0\n9237                   Yemen  2019           5.452938019556406\n9238                  Zambia  2019          11.586566793571398\n9239                Zimbabwe  2019          11.547221559136965\n\n[9240 rows x 3 columns]",
      "text/html": "<div>\n<style scoped>\n    .dataframe tbody tr th:only-of-type {\n        vertical-align: middle;\n    }\n\n    .dataframe tbody tr th {\n        vertical-align: top;\n    }\n\n    .dataframe thead th {\n        text-align: right;\n    }\n</style>\n<table border=\"1\" class=\"dataframe\">\n  <thead>\n    <tr style=\"text-align: right;\">\n      <th></th>\n      <th>Country</th>\n      <th>Year</th>\n      <th>Energy_intensity_per_capita</th>\n    </tr>\n  </thead>\n  <tbody>\n    <tr>\n      <th>0</th>\n      <td>World</td>\n      <td>1980</td>\n      <td>68.1459548678342</td>\n    </tr>\n    <tr>\n      <th>1</th>\n      <td>Afghanistan</td>\n      <td>1980</td>\n      <td>1.9902831338720353</td>\n    </tr>\n    <tr>\n      <th>2</th>\n      <td>Albania</td>\n      <td>1980</td>\n      <td>60.752906333637476</td>\n    </tr>\n    <tr>\n      <th>3</th>\n      <td>Algeria</td>\n      <td>1980</td>\n      <td>40.61530286672366</td>\n    </tr>\n    <tr>\n      <th>4</th>\n      <td>American Samoa</td>\n      <td>1980</td>\n      <td>180.5156037493108</td>\n    </tr>\n    <tr>\n      <th>...</th>\n      <td>...</td>\n      <td>...</td>\n      <td>...</td>\n    </tr>\n    <tr>\n      <th>9235</th>\n      <td>Wake Island</td>\n      <td>2019</td>\n      <td>0</td>\n    </tr>\n    <tr>\n      <th>9236</th>\n      <td>Western Sahara</td>\n      <td>2019</td>\n      <td>0</td>\n    </tr>\n    <tr>\n      <th>9237</th>\n      <td>Yemen</td>\n      <td>2019</td>\n      <td>5.452938019556406</td>\n    </tr>\n    <tr>\n      <th>9238</th>\n      <td>Zambia</td>\n      <td>2019</td>\n      <td>11.586566793571398</td>\n    </tr>\n    <tr>\n      <th>9239</th>\n      <td>Zimbabwe</td>\n      <td>2019</td>\n      <td>11.547221559136965</td>\n    </tr>\n  </tbody>\n</table>\n<p>9240 rows × 3 columns</p>\n</div>"
     },
     "execution_count": 119,
     "metadata": {},
     "output_type": "execute_result"
    }
   ],
   "source": [
    "data_ei_pop"
   ],
   "metadata": {
    "collapsed": false,
    "pycharm": {
     "name": "#%%\n"
    }
   }
  },
  {
   "cell_type": "code",
   "execution_count": 120,
   "outputs": [
    {
     "data": {
      "text/plain": "                     Country  Year CO2_emission\n0                      World  1980   4946.62713\n1                Afghanistan  1980          NaN\n2                    Albania  1980          NaN\n3                    Algeria  1980          NaN\n4             American Samoa  1980          NaN\n...                      ...   ...          ...\n9235             Wake Island  2019  1.273786855\n9236          Western Sahara  2019   0.26303824\n9237                   Yemen  2019  8.368931695\n9238                  Zambia  2019   7.09628982\n9239                Zimbabwe  2019  8.966856508\n\n[9240 rows x 3 columns]",
      "text/html": "<div>\n<style scoped>\n    .dataframe tbody tr th:only-of-type {\n        vertical-align: middle;\n    }\n\n    .dataframe tbody tr th {\n        vertical-align: top;\n    }\n\n    .dataframe thead th {\n        text-align: right;\n    }\n</style>\n<table border=\"1\" class=\"dataframe\">\n  <thead>\n    <tr style=\"text-align: right;\">\n      <th></th>\n      <th>Country</th>\n      <th>Year</th>\n      <th>CO2_emission</th>\n    </tr>\n  </thead>\n  <tbody>\n    <tr>\n      <th>0</th>\n      <td>World</td>\n      <td>1980</td>\n      <td>4946.62713</td>\n    </tr>\n    <tr>\n      <th>1</th>\n      <td>Afghanistan</td>\n      <td>1980</td>\n      <td>NaN</td>\n    </tr>\n    <tr>\n      <th>2</th>\n      <td>Albania</td>\n      <td>1980</td>\n      <td>NaN</td>\n    </tr>\n    <tr>\n      <th>3</th>\n      <td>Algeria</td>\n      <td>1980</td>\n      <td>NaN</td>\n    </tr>\n    <tr>\n      <th>4</th>\n      <td>American Samoa</td>\n      <td>1980</td>\n      <td>NaN</td>\n    </tr>\n    <tr>\n      <th>...</th>\n      <td>...</td>\n      <td>...</td>\n      <td>...</td>\n    </tr>\n    <tr>\n      <th>9235</th>\n      <td>Wake Island</td>\n      <td>2019</td>\n      <td>1.273786855</td>\n    </tr>\n    <tr>\n      <th>9236</th>\n      <td>Western Sahara</td>\n      <td>2019</td>\n      <td>0.26303824</td>\n    </tr>\n    <tr>\n      <th>9237</th>\n      <td>Yemen</td>\n      <td>2019</td>\n      <td>8.368931695</td>\n    </tr>\n    <tr>\n      <th>9238</th>\n      <td>Zambia</td>\n      <td>2019</td>\n      <td>7.09628982</td>\n    </tr>\n    <tr>\n      <th>9239</th>\n      <td>Zimbabwe</td>\n      <td>2019</td>\n      <td>8.966856508</td>\n    </tr>\n  </tbody>\n</table>\n<p>9240 rows × 3 columns</p>\n</div>"
     },
     "execution_count": 120,
     "metadata": {},
     "output_type": "execute_result"
    }
   ],
   "source": [
    "data_co2"
   ],
   "metadata": {
    "collapsed": false,
    "pycharm": {
     "name": "#%%\n"
    }
   }
  },
  {
   "cell_type": "markdown",
   "source": [
    "#### Merging all datasets, data_con, data_prod, data_gdp, and data_pop into one dataset df"
   ],
   "metadata": {
    "collapsed": false,
    "pycharm": {
     "name": "#%% md\n"
    }
   }
  },
  {
   "cell_type": "code",
   "execution_count": 121,
   "outputs": [],
   "source": [
    "df = data_con.merge(data_prod)\n",
    "df = df.merge(data_gdp)\n",
    "df = df.merge(data_pop)\n",
    "df = df.merge(data_ei_pop)\n",
    "df = df.merge(data_ei_gdp)\n",
    "df = df.merge(data_co2)"
   ],
   "metadata": {
    "collapsed": false,
    "pycharm": {
     "name": "#%%\n"
    }
   }
  },
  {
   "cell_type": "markdown",
   "source": [
    "### !!!! Desired Columns So Far !!!\n",
    "['Country', 'Energy_type', 'Year', 'Energy_consumption', 'Energy_production', 'GDP', 'Population', 'energy intensity by GDP and population', 'C02_emissions']"
   ],
   "metadata": {
    "collapsed": false,
    "pycharm": {
     "name": "#%% md\n"
    }
   }
  },
  {
   "cell_type": "markdown",
   "source": [
    "## Column descriptions\n",
    "1. Country - Name of country\n",
    "2. Energy_type - Type of energy\n",
    "3. Year - Year documented\n",
    "4. Energy_consumption - Amount of a specific energy source consumed each year, measured (quad Btu)\n",
    "5. Energy_production - Amount of specific energy source produced each year, measured (quad Btu)\n",
    "6. GDP -  Countries GDP at purchasing power parities, measured (Billion 2015$$ PPP)\n",
    "7. Population - Countries Population, measured (Mperson)\n",
    "8. Energy_intensity_by_GDP - Energy intensity is a measure of the energy inefficiency of an economy. It is calculated as units of energy per unit of GDP (1000 Btu/2015$ GDP PPP)\n",
    "9. Energy_intensity_per_capita - Energy intensity is a measure of the energy inefficiency of an economy. It is calculated as units of energy per unit of capita (capita = individual person) (MMBtu/person)\n",
    "10. CO2_emissions - CO2 emissions (MMtonnes CO2)"
   ],
   "metadata": {
    "collapsed": false,
    "pycharm": {
     "name": "#%% md\n"
    }
   }
  },
  {
   "cell_type": "code",
   "execution_count": 122,
   "outputs": [
    {
     "data": {
      "text/plain": "                Country                Energy_type  Year   Energy_consumption  \\\n0                 World           all_energy_types  1980    292.8999360117116   \n1                 World                       coal  1980    78.65628042083658   \n2                 World                natural_gas  1980         53.865223303   \n3                 World  petroleum_n_other_liquids  1980   132.06401937163076   \n4                 World                    nuclear  1980    7.575700462108056   \n...                 ...                        ...   ...                  ...   \n55435          Zimbabwe                       coal  2019  0.04506367279138204   \n55436          Zimbabwe                natural_gas  2019                    0   \n55437          Zimbabwe  petroleum_n_other_liquids  2019         0.0554979345   \n55438          Zimbabwe                    nuclear  2019                  NaN   \n55439          Zimbabwe         renewables_n_other  2019  0.06865368688052285   \n\n         Energy_production           GDP    Population  \\\n0       296.33722758863627  27771.471791  4298126.5224   \n1        80.11419429217284  27771.471791  4298126.5224   \n2             54.761045594  27771.471791  4298126.5224   \n3       133.11110886607943  27771.471791  4298126.5224   \n4        7.575700462108056  27771.471791  4298126.5224   \n...                    ...           ...           ...   \n55435  0.04776061221068363       37.6204       14654.2   \n55436                    0       37.6204       14654.2   \n55437                    0       37.6204       14654.2   \n55438                  NaN       37.6204       14654.2   \n55439          0.067499237       37.6204       14654.2   \n\n      Energy_intensity_per_capita Energy_intensity_by_GDP CO2_emission  \n0                68.1459548678342      10.546791981929914   4946.62713  \n1                68.1459548678342      10.546791981929914   4946.62713  \n2                68.1459548678342      10.546791981929914   4946.62713  \n3                68.1459548678342      10.546791981929914   4946.62713  \n4                68.1459548678342      10.546791981929914   4946.62713  \n...                           ...                     ...          ...  \n55435          11.547221559136965       4.497966373879728  8.966856508  \n55436          11.547221559136965       4.497966373879728  8.966856508  \n55437          11.547221559136965       4.497966373879728  8.966856508  \n55438          11.547221559136965       4.497966373879728  8.966856508  \n55439          11.547221559136965       4.497966373879728  8.966856508  \n\n[55440 rows x 10 columns]",
      "text/html": "<div>\n<style scoped>\n    .dataframe tbody tr th:only-of-type {\n        vertical-align: middle;\n    }\n\n    .dataframe tbody tr th {\n        vertical-align: top;\n    }\n\n    .dataframe thead th {\n        text-align: right;\n    }\n</style>\n<table border=\"1\" class=\"dataframe\">\n  <thead>\n    <tr style=\"text-align: right;\">\n      <th></th>\n      <th>Country</th>\n      <th>Energy_type</th>\n      <th>Year</th>\n      <th>Energy_consumption</th>\n      <th>Energy_production</th>\n      <th>GDP</th>\n      <th>Population</th>\n      <th>Energy_intensity_per_capita</th>\n      <th>Energy_intensity_by_GDP</th>\n      <th>CO2_emission</th>\n    </tr>\n  </thead>\n  <tbody>\n    <tr>\n      <th>0</th>\n      <td>World</td>\n      <td>all_energy_types</td>\n      <td>1980</td>\n      <td>292.8999360117116</td>\n      <td>296.33722758863627</td>\n      <td>27771.471791</td>\n      <td>4298126.5224</td>\n      <td>68.1459548678342</td>\n      <td>10.546791981929914</td>\n      <td>4946.62713</td>\n    </tr>\n    <tr>\n      <th>1</th>\n      <td>World</td>\n      <td>coal</td>\n      <td>1980</td>\n      <td>78.65628042083658</td>\n      <td>80.11419429217284</td>\n      <td>27771.471791</td>\n      <td>4298126.5224</td>\n      <td>68.1459548678342</td>\n      <td>10.546791981929914</td>\n      <td>4946.62713</td>\n    </tr>\n    <tr>\n      <th>2</th>\n      <td>World</td>\n      <td>natural_gas</td>\n      <td>1980</td>\n      <td>53.865223303</td>\n      <td>54.761045594</td>\n      <td>27771.471791</td>\n      <td>4298126.5224</td>\n      <td>68.1459548678342</td>\n      <td>10.546791981929914</td>\n      <td>4946.62713</td>\n    </tr>\n    <tr>\n      <th>3</th>\n      <td>World</td>\n      <td>petroleum_n_other_liquids</td>\n      <td>1980</td>\n      <td>132.06401937163076</td>\n      <td>133.11110886607943</td>\n      <td>27771.471791</td>\n      <td>4298126.5224</td>\n      <td>68.1459548678342</td>\n      <td>10.546791981929914</td>\n      <td>4946.62713</td>\n    </tr>\n    <tr>\n      <th>4</th>\n      <td>World</td>\n      <td>nuclear</td>\n      <td>1980</td>\n      <td>7.575700462108056</td>\n      <td>7.575700462108056</td>\n      <td>27771.471791</td>\n      <td>4298126.5224</td>\n      <td>68.1459548678342</td>\n      <td>10.546791981929914</td>\n      <td>4946.62713</td>\n    </tr>\n    <tr>\n      <th>...</th>\n      <td>...</td>\n      <td>...</td>\n      <td>...</td>\n      <td>...</td>\n      <td>...</td>\n      <td>...</td>\n      <td>...</td>\n      <td>...</td>\n      <td>...</td>\n      <td>...</td>\n    </tr>\n    <tr>\n      <th>55435</th>\n      <td>Zimbabwe</td>\n      <td>coal</td>\n      <td>2019</td>\n      <td>0.04506367279138204</td>\n      <td>0.04776061221068363</td>\n      <td>37.6204</td>\n      <td>14654.2</td>\n      <td>11.547221559136965</td>\n      <td>4.497966373879728</td>\n      <td>8.966856508</td>\n    </tr>\n    <tr>\n      <th>55436</th>\n      <td>Zimbabwe</td>\n      <td>natural_gas</td>\n      <td>2019</td>\n      <td>0</td>\n      <td>0</td>\n      <td>37.6204</td>\n      <td>14654.2</td>\n      <td>11.547221559136965</td>\n      <td>4.497966373879728</td>\n      <td>8.966856508</td>\n    </tr>\n    <tr>\n      <th>55437</th>\n      <td>Zimbabwe</td>\n      <td>petroleum_n_other_liquids</td>\n      <td>2019</td>\n      <td>0.0554979345</td>\n      <td>0</td>\n      <td>37.6204</td>\n      <td>14654.2</td>\n      <td>11.547221559136965</td>\n      <td>4.497966373879728</td>\n      <td>8.966856508</td>\n    </tr>\n    <tr>\n      <th>55438</th>\n      <td>Zimbabwe</td>\n      <td>nuclear</td>\n      <td>2019</td>\n      <td>NaN</td>\n      <td>NaN</td>\n      <td>37.6204</td>\n      <td>14654.2</td>\n      <td>11.547221559136965</td>\n      <td>4.497966373879728</td>\n      <td>8.966856508</td>\n    </tr>\n    <tr>\n      <th>55439</th>\n      <td>Zimbabwe</td>\n      <td>renewables_n_other</td>\n      <td>2019</td>\n      <td>0.06865368688052285</td>\n      <td>0.067499237</td>\n      <td>37.6204</td>\n      <td>14654.2</td>\n      <td>11.547221559136965</td>\n      <td>4.497966373879728</td>\n      <td>8.966856508</td>\n    </tr>\n  </tbody>\n</table>\n<p>55440 rows × 10 columns</p>\n</div>"
     },
     "execution_count": 122,
     "metadata": {},
     "output_type": "execute_result"
    }
   ],
   "source": [
    "df"
   ],
   "metadata": {
    "collapsed": false,
    "pycharm": {
     "name": "#%%\n"
    }
   }
  },
  {
   "cell_type": "markdown",
   "source": [
    "### Questions I want to answer\n",
    "\n",
    "* what type of energy source do 3rd world countries use the most?\n",
    "* what type of energy source do 1st world countries use the most?\n",
    "* Who produces the most co2 emissions, 1st world or 3rd world countries?\n",
    "* who produces the most clean energy?\n",
    "* who produces the most dirty energy?\n",
    "* who produces the most energy overall?\n",
    "* for each country, how has gdp and population affected energy consumption, production and emission\n",
    "* Are 1st world counties better at reducing emisions by energy_intensity_per_capita (per person) than 3rd world countries\n",
    "* what role does capitalistic counties play in co2 emmisions with relations to gdp, (energy intensity per gdp), population and (energy intensity per capita)"
   ],
   "metadata": {
    "collapsed": false,
    "pycharm": {
     "name": "#%% md\n"
    }
   }
  },
  {
   "cell_type": "code",
   "execution_count": 123,
   "outputs": [],
   "source": [],
   "metadata": {
    "collapsed": false,
    "pycharm": {
     "name": "#%%\n"
    }
   }
  }
 ],
 "metadata": {
  "kernelspec": {
   "display_name": "Python 3",
   "language": "python",
   "name": "python3"
  },
  "language_info": {
   "codemirror_mode": {
    "name": "ipython",
    "version": 2
   },
   "file_extension": ".py",
   "mimetype": "text/x-python",
   "name": "python",
   "nbconvert_exporter": "python",
   "pygments_lexer": "ipython2",
   "version": "2.7.6"
  }
 },
 "nbformat": 4,
 "nbformat_minor": 0
}